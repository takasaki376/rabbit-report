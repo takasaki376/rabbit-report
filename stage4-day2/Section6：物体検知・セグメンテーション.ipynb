{
 "cells": [
  {
   "cell_type": "markdown",
   "id": "50909654",
   "metadata": {},
   "source": [
    "# Section6：物体検知・セグメンテーション"
   ]
  },
  {
   "cell_type": "markdown",
   "id": "1fc44105",
   "metadata": {},
   "source": [
    "## 物体認識のタスク\n",
    "\n",
    "入力データ：画像\n",
    "\n",
    "\n",
    "| 予測方法 | 出力結果 |\n",
    "| :---- | :--- |\n",
    "| 分類 （Classification） | （画像に対し単一または複数の）クラスラベル |\n",
    "| 物体検知 （Object Detection） | Bounding Box [bbox / BB] |\n",
    "| 意味領域分割 （Semantic Segmentation） | （各ピクセルに対し単一の）クラスラベル |\n",
    "| 個体領域分割 （Instance Segmentation） | （各ピクセルに対し単一の）クラスラベル |"
   ]
  },
  {
   "cell_type": "markdown",
   "id": "8cbf407a",
   "metadata": {},
   "source": [
    "#### 分類 \n",
    "- 物体を検知するのみである。\n",
    "- 位置に意味はない\n",
    "\n",
    "#### 物体検知\n",
    "- どこにあるか\n",
    "- 四角の箱で位置を示す\n",
    "\n",
    "#### 意味領域分割\n",
    "- どこにあるか\n",
    "- ピクセル毎に同じ色をつける。関係のない部分は白黒にする。\n",
    "\n",
    "#### 個体領域分割\n",
    "- どこにあるか\n",
    "- ピクセル毎に同じ色をつける。関係のない部分は白黒にする。\n",
    "- 同じ物体でも、事なる個体には異なる色をつける"
   ]
  },
  {
   "cell_type": "markdown",
   "id": "6fb0416b",
   "metadata": {},
   "source": [
    "## 代表的なデータセット\n",
    "\n",
    "物体検出に用いられたデータセット\n",
    "テストをする際に、比較可能なデータとするため、データセットの特徴を把握しておく必要がある。\n",
    "\n",
    "| 名称 | クラス | Train+Val | BOX/画像 | \n",
    "| :---- | :---: | :---: | :---: |\n",
    "| VOC12 | 20 | 11,540 | 2.4 |\n",
    "| ILSVRC17 | 200 | 476,668 | 1.1 |\n",
    "| MS COCO18 | 80 | 123,287 | 7.3 |\n",
    "| OICOD18 | 500 | 1,743,042 | 7.0 |\n",
    "\n",
    "「BOX/画像」は、1枚の画像あたりにいくつ物体があるかの平均\n",
    "１枚の画像あたりに物体数が少ないと日常生活の画像ではない"
   ]
  },
  {
   "cell_type": "markdown",
   "id": "c40b211e",
   "metadata": {},
   "source": [
    "## 評価指標"
   ]
  },
  {
   "cell_type": "markdown",
   "id": "8d928feb",
   "metadata": {},
   "source": [
    "### Confusion Matrix\n",
    "\n",
    "|  | Positive | Nagative |\n",
    "| :---: | :---: | :---: | \n",
    "| Positive | True<br>Positive | False<br>Nagative |\n",
    "| Nagative | False<br>Positive | True<br>Nagative | \n",
    "\n",
    "<br>\n",
    "\n",
    "\\begin{aligned}\n",
    "    Precision &= \\frac{TP}{TP+FP} \\\\[8px]\n",
    "    Recall &= \\frac{TP}{TP+FN}\n",
    "\\end{aligned}"
   ]
  },
  {
   "cell_type": "markdown",
   "id": "5457b1f4",
   "metadata": {},
   "source": [
    "### IoU （Intersection over Union）\n",
    "\n",
    "物体検出においては、クラスラベルだけでなく、物体位置の予測精度も評価したい\n",
    "\n",
    "\n",
    "\\begin{aligned}\n",
    "    IoU = \\frac{TP}{TP+FP+FN}\n",
    "\\end{aligned}"
   ]
  },
  {
   "cell_type": "markdown",
   "id": "d98345e7",
   "metadata": {},
   "source": [
    "### AP （Average Precision）\n",
    "\n",
    "\n",
    "\\begin{aligned}\n",
    "    AP = \\int_0^1 P(R)dR\n",
    "\\end{aligned}"
   ]
  },
  {
   "cell_type": "markdown",
   "id": "794c6b70",
   "metadata": {},
   "source": [
    "### mAP （mean Average Precision）\n",
    "\n",
    "\n",
    "\\begin{aligned}\n",
    "    mAP = \\frac{1}{C} \\sum_{i=1}^C AP_i\n",
    "\\end{aligned}"
   ]
  },
  {
   "cell_type": "markdown",
   "id": "fa084d2d",
   "metadata": {},
   "source": [
    "### MS COCO\n",
    "\n",
    "\n",
    "\\begin{aligned}\n",
    "    mAP_{COCO} = \\frac{mAP_{0.5} + mAP_{0.55} +  \\ldots  + mAP_{0.95} }{10}\n",
    "\\end{aligned}"
   ]
  },
  {
   "cell_type": "markdown",
   "id": "58ac09ff",
   "metadata": {},
   "source": [
    "### FPS （Flames per Second）\n",
    "\n",
    "検出精度に加え、検出速度も問題となる\n",
    "\n"
   ]
  },
  {
   "cell_type": "markdown",
   "id": "14a8eafa",
   "metadata": {},
   "source": [
    "### SSD （Single Shot Detector）\n",
    "\n",
    "#### 概要\n",
    "1. Default BOXを用意する\n",
    "1. Default BOXを変形して、Predicted BB とする。\n",
    "\n",
    "#### 特徴マップからの出力\n",
    "`出力サイズ`：#Class + 4 \\\n",
    "※後ろの４は、オフセット項\n",
    "\n",
    "マップ中の各特徴量に$k$個のDefault Boxを用意するとき,  \\\n",
    "`出力サイズ`：$k$ (#Class + 4) \n",
    "\n",
    "更に, 特徴マップのサイズが$m \\times n$であるとすれば,  \\\n",
    "`出力サイズ`：$k$ (#Class + 4) $mn$"
   ]
  },
  {
   "cell_type": "markdown",
   "id": "666370bc",
   "metadata": {},
   "source": [
    "### 多数のDefault Boxを用意したことで生ずる問題への対処\n",
    "- Non-Maximum Suppression \\\n",
    "ひとつの物体しか映っていないにも関わらず、複数のBBが発生する \\\n",
    "　⇒IoUを計算し、被っている場合は削除する。\n",
    "\n",
    "- Hard Negative Mining \\\n",
    "背景と判断されるBBが発生する可能性がある。\n",
    "\n",
    "※RCNNでも既に用いられており初出の処理ではない\n",
    "※他にも, 原著論文では学習上の工夫としてDefault Box のアスペクト比の選び方やData Augmentationについても触れられている"
   ]
  },
  {
   "cell_type": "markdown",
   "id": "904e462d",
   "metadata": {},
   "source": [
    "# Semantic Segmentationの概略"
   ]
  },
  {
   "cell_type": "markdown",
   "id": "1706d399",
   "metadata": {},
   "source": [
    "## 問題\n",
    "Convolutionをかけると、解像度が下がる。\n",
    "\n",
    "### Up-samplingなんて面倒なことが必要になるなら、そもそもPoolingしなければ良いのでは？\n",
    "\n",
    "⇒正しく認識するためには受容野にある程度の大きさが必要であった。\n",
    "　受容野を広げる典型：①深いConv.層 ②プーリング（ストライド）"
   ]
  },
  {
   "cell_type": "markdown",
   "id": "39569894",
   "metadata": {},
   "source": [
    "## FCN（Fully Convolutional Network）の基本アイディア\n",
    "\n",
    "全結合層の部分をConvolution層に変更すると、ヒートマップになる。\n"
   ]
  },
  {
   "cell_type": "markdown",
   "id": "807e3847",
   "metadata": {},
   "source": [
    "### Deconvolution/Transposed convolution\n",
    "アップサンプリングの手法\n",
    "\n",
    "※逆畳み込みと呼ばれることも多いが畳み込みの逆演算ではないことに注意 \\\n",
    "　→当然, poolingで失われた情報が復元されるわけではない"
   ]
  },
  {
   "cell_type": "code",
   "execution_count": null,
   "id": "7c7bf8d1",
   "metadata": {},
   "outputs": [],
   "source": []
  },
  {
   "cell_type": "code",
   "execution_count": null,
   "id": "ddcb731c",
   "metadata": {},
   "outputs": [],
   "source": []
  },
  {
   "cell_type": "code",
   "execution_count": null,
   "id": "3b650f2e",
   "metadata": {},
   "outputs": [],
   "source": []
  }
 ],
 "metadata": {
  "kernelspec": {
   "display_name": "Python 3 (ipykernel)",
   "language": "python",
   "name": "python3"
  },
  "language_info": {
   "codemirror_mode": {
    "name": "ipython",
    "version": 3
   },
   "file_extension": ".py",
   "mimetype": "text/x-python",
   "name": "python",
   "nbconvert_exporter": "python",
   "pygments_lexer": "ipython3",
   "version": "3.9.7"
  }
 },
 "nbformat": 4,
 "nbformat_minor": 5
}
