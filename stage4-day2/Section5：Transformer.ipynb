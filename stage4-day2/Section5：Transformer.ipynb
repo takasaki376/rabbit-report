{
 "cells": [
  {
   "cell_type": "markdown",
   "id": "be179538",
   "metadata": {},
   "source": [
    "# Section5：Transformer"
   ]
  },
  {
   "cell_type": "markdown",
   "id": "7c84b0f0",
   "metadata": {},
   "source": [
    "# Seq2seqとは？\n",
    "## 系列(Sequence)を入力として、系列を出力するもの\n",
    "- Encoder-Decoderモデルとも呼ばれる \n",
    "- 入力系列がEncode(内部状態に変換)され、内部状態からDecode(系列に変換)する \n",
    "- 実応用上も、入力・出力共に系列情報なものは多い \n",
    " - 翻訳 (英語→日本語) \n",
    " - 音声認識 (波形→テキスト) \n",
    " - チャットボット (テキスト→テキスト)\n",
    " \n"
   ]
  },
  {
   "cell_type": "markdown",
   "id": "ddea47f7",
   "metadata": {},
   "source": [
    "## 言語モデルとは\n",
    "言語モデルは単語の並びに確率を与える\n",
    "\n",
    "- 単語の並びに対して尤度(それがどれだけ起こり得るか)、すなわち、文章として自然かを確率で評価する \n",
    "- 例) \n",
    " - You say goodbye → 0.092 (自然) \n",
    " - You say good die → 0.00000032 (不自然) \n",
    "- 数式的には同時確率を事後確率に分解して表せる\n",
    "\n",
    "### 時刻t-1までの情報で、時刻tの事後確率を求めることが目標 \n",
    "→これで同時確率が計算できる"
   ]
  },
  {
   "cell_type": "markdown",
   "id": "812dfd54",
   "metadata": {},
   "source": [
    "## RNN x 言語モデル\n",
    "\n",
    "- RNNは系列情報を内部状態に変換することができる \n",
    "- 文章の各単語が現れる際の同時確率は、事後確率で分解できる \n",
    " - したがって、事後確率を求めることがRNNの目標になる \n",
    "- 言語モデルを再現するようにRNNの重みが学習されていれば、ある時点の次の単語を予測することができる \n",
    " - 先頭単語を与えれば文章を生成することも可能"
   ]
  },
  {
   "cell_type": "markdown",
   "id": "ff8f71d7",
   "metadata": {},
   "source": [
    "## 実装演習"
   ]
  },
  {
   "cell_type": "code",
   "execution_count": 1,
   "id": "976714b3",
   "metadata": {
    "scrolled": true
   },
   "outputs": [
    {
     "name": "stderr",
     "output_type": "stream",
     "text": [
      "C:\\Users\\takas\\anaconda3\\envs\\ml\\lib\\site-packages\\wheel\\pep425tags.py:80: RuntimeWarning: Config variable 'Py_DEBUG' is unset, Python ABI tag may be incorrect\n",
      "  if get_flag('Py_DEBUG',\n",
      "ERROR: torch-0.4.0-cp39-cp39-linux_x86_64.whl is not a supported wheel on this platform.\n"
     ]
    },
    {
     "name": "stdout",
     "output_type": "stream",
     "text": [
      "1.8.2+cpu\n",
      "False\n"
     ]
    }
   ],
   "source": [
    "from os import path\n",
    "from wheel.pep425tags import get_abbr_impl, get_impl_ver, get_abi_tag\n",
    "platform = '{}{}-{}'.format(get_abbr_impl(), get_impl_ver(), get_abi_tag())\n",
    "\n",
    "accelerator = 'cu80' if path.exists('/opt/bin/nvidia-smi') else 'cpu'\n",
    "\n",
    "!pip install -q http://download.pytorch.org/whl/{accelerator}/torch-0.4.0-{platform}-linux_x86_64.whl torchvision\n",
    "import torch\n",
    "print(torch.__version__)\n",
    "print(torch.cuda.is_available())"
   ]
  },
  {
   "cell_type": "code",
   "execution_count": 2,
   "id": "8313fc2b",
   "metadata": {},
   "outputs": [],
   "source": [
    "# !bitsadmin.exe /TRANSFER  https://www.dropbox.com/s/9narw5x4uizmehh/utils.py\n",
    "# !mkdir images data\n",
    "\n",
    "# # data取得\n",
    "# !bitsadmin.exe /TRANSFER https://www.dropbox.com/s/o4kyc52a8we25wy/dev.en  data/\n",
    "# !bitsadmin.exe /TRANSFER https://www.dropbox.com/s/kdgskm5hzg6znuc/dev.ja  data/\n",
    "# !bitsadmin.exe /TRANSFER https://www.dropbox.com/s/gyyx4gohv9v65uh/test.en  data/\n",
    "# !bitsadmin.exe /TRANSFER https://www.dropbox.com/s/hotxwbgoe2n013k/test.ja  data/\n",
    "# !bitsadmin.exe /TRANSFER https://www.dropbox.com/s/5lsftkmb20ay9e1/train.en  data/\n",
    "# !bitsadmin.exe /TRANSFER https://www.dropbox.com/s/ak53qirssci6f1j/train.ja  data/"
   ]
  },
  {
   "cell_type": "code",
   "execution_count": 3,
   "id": "570e32ac",
   "metadata": {},
   "outputs": [
    {
     "name": "stdout",
     "output_type": "stream",
     "text": [
      " ドライブ C のボリューム ラベルがありません。\n",
      " ボリューム シリアル番号は CAF3-F41E です\n",
      "\n",
      " C:\\Users\\takas\\rabbit\\rabbit-report\\stage4-day2\\data のディレクトリ\n",
      "\n",
      "2021/12/27  01:38    <DIR>          .\n",
      "2021/12/27  01:38    <DIR>          ..\n",
      "2021/12/27  01:36            17,054 dev.en\n",
      "2021/12/27  01:37            27,781 dev.ja\n",
      "2021/12/27  01:37            17,301 test.en\n",
      "2021/12/27  01:37            27,793 test.ja\n",
      "2021/12/27  01:37         1,701,356 train.en\n",
      "2021/12/27  01:38         2,784,447 train.ja\n",
      "               6 個のファイル           4,575,732 バイト\n",
      "               2 個のディレクトリ  344,095,592,448 バイトの空き領域\n"
     ]
    }
   ],
   "source": [
    "! dir data"
   ]
  },
  {
   "cell_type": "code",
   "execution_count": 4,
   "id": "ccf3a438",
   "metadata": {},
   "outputs": [
    {
     "name": "stdout",
     "output_type": "stream",
     "text": [
      "1.8.2+cpu\n"
     ]
    }
   ],
   "source": [
    "import random\n",
    "import numpy as np\n",
    "from sklearn.model_selection import train_test_split\n",
    "from sklearn.utils import shuffle\n",
    "from nltk import bleu_score\n",
    "\n",
    "import torch\n",
    "import torch.nn as nn\n",
    "import torch.nn.functional as F\n",
    "import torch.optim as optim\n",
    "from torch.nn.utils.rnn import pad_packed_sequence, pack_padded_sequence\n",
    "from utils import Vocab\n",
    "\n",
    "# デバイスの設定\n",
    "device = torch.device(\"cuda\" if torch.cuda.is_available() else \"cpu\")\n",
    "\n",
    "torch.manual_seed(1)\n",
    "random_state = 42\n",
    "\n",
    "print(torch.__version__)"
   ]
  },
  {
   "cell_type": "markdown",
   "id": "3c73bbe5",
   "metadata": {},
   "source": [
    "# 1.データセットの準備\n",
    "英語-日本語の対訳コーパスである、Tanaka Corpus ( http://www.edrdg.org/wiki/index.php/Tanaka_Corpus )を使います。<br>\n",
    "今回はそのうちの一部分を取り出したsmall_parallel_enja: 50k En/Ja Parallel Corpus for Testing SMT Methods ( https://github.com/odashi/small_parallel_enja )を使用します。\n",
    "\n"
   ]
  },
  {
   "cell_type": "markdown",
   "id": "4c599542",
   "metadata": {},
   "source": [
    "## 1.1データの読み込みと単語の分割"
   ]
  },
  {
   "cell_type": "code",
   "execution_count": 5,
   "id": "81b24614",
   "metadata": {},
   "outputs": [],
   "source": [
    "def load_data(file_path):\n",
    "    # テキストファイルからデータを読み込むメソッド\n",
    "    data = []\n",
    "    for line in open(file_path, encoding='utf-8'):\n",
    "        words = line.strip().split()  # スペースで単語を分割\n",
    "        data.append(words)\n",
    "    return data"
   ]
  },
  {
   "cell_type": "code",
   "execution_count": 6,
   "id": "02d8c330",
   "metadata": {},
   "outputs": [],
   "source": [
    "train_X = load_data('./data/train.en')\n",
    "train_Y = load_data('./data/train.ja')"
   ]
  },
  {
   "cell_type": "code",
   "execution_count": 7,
   "id": "d089d1ff",
   "metadata": {},
   "outputs": [],
   "source": [
    "# 訓練データと検証データに分割\n",
    "train_X, valid_X, train_Y, valid_Y = train_test_split(train_X, train_Y, test_size=0.2, random_state=random_state)"
   ]
  },
  {
   "cell_type": "markdown",
   "id": "49e84f73",
   "metadata": {},
   "source": [
    "この時点で入力と教師データは以下のようになっています"
   ]
  },
  {
   "cell_type": "code",
   "execution_count": 8,
   "id": "4433bbf1",
   "metadata": {},
   "outputs": [
    {
     "name": "stdout",
     "output_type": "stream",
     "text": [
      "train data ['where', 'shall', 'we', 'eat', 'tonight', '?']\n",
      "valid data ['you', 'may', 'extend', 'your', 'stay', 'in', 'tokyo', '.']\n"
     ]
    }
   ],
   "source": [
    "print('train data', train_X[0])\n",
    "print('valid data', valid_X[0])"
   ]
  },
  {
   "cell_type": "markdown",
   "id": "16180c3e",
   "metadata": {},
   "source": [
    "## 1.2単語辞書の作成\n",
    "データセットに登場する各単語にIDを割り振る"
   ]
  },
  {
   "cell_type": "code",
   "execution_count": 9,
   "id": "a4276a0b",
   "metadata": {},
   "outputs": [],
   "source": [
    "# まず特殊トークンを定義しておく\n",
    "PAD_TOKEN = '<PAD>'  # バッチ処理の際に、短い系列の末尾を埋めるために使う （Padding）\n",
    "BOS_TOKEN = '<S>'  # 系列の始まりを表す （Beggining of sentence）\n",
    "EOS_TOKEN = '</S>'  # 系列の終わりを表す （End of sentence）\n",
    "UNK_TOKEN = '<UNK>'  # 語彙に存在しない単語を表す （Unknown）\n",
    "PAD = 0\n",
    "BOS = 1\n",
    "EOS = 2\n",
    "UNK = 3"
   ]
  },
  {
   "cell_type": "code",
   "execution_count": 10,
   "id": "dff89dd5",
   "metadata": {},
   "outputs": [],
   "source": [
    "MIN_COUNT = 2  # 語彙に含める単語の最低出現回数 再提出現回数に満たない単語はUNKに置き換えられる\n",
    "\n",
    "# 単語をIDに変換する辞書の初期値を設定\n",
    "word2id = {\n",
    "    PAD_TOKEN: PAD,\n",
    "    BOS_TOKEN: BOS,\n",
    "    EOS_TOKEN: EOS,\n",
    "    UNK_TOKEN: UNK,\n",
    "    }\n",
    "\n",
    "# 単語辞書を作成\n",
    "vocab_X = Vocab(word2id=word2id)\n",
    "vocab_Y = Vocab(word2id=word2id)\n",
    "vocab_X.build_vocab(train_X, min_count=MIN_COUNT)\n",
    "vocab_Y.build_vocab(train_Y, min_count=MIN_COUNT)"
   ]
  },
  {
   "cell_type": "code",
   "execution_count": 11,
   "id": "20a571ed",
   "metadata": {},
   "outputs": [
    {
     "name": "stdout",
     "output_type": "stream",
     "text": [
      "入力言語の語彙数： 3725\n",
      "出力言語の語彙数： 4405\n"
     ]
    }
   ],
   "source": [
    "vocab_size_X = len(vocab_X.id2word)\n",
    "vocab_size_Y = len(vocab_Y.id2word)\n",
    "print('入力言語の語彙数：', vocab_size_X)\n",
    "print('出力言語の語彙数：', vocab_size_Y)"
   ]
  },
  {
   "cell_type": "markdown",
   "id": "66d83088",
   "metadata": {},
   "source": [
    "# 2.テンソルへの変換\n",
    "### 2.1 IDへの変換\n",
    "まずはモデルが文章を認識できるように、文章を単語IDのリストに変換します"
   ]
  },
  {
   "cell_type": "code",
   "execution_count": 12,
   "id": "3c868757",
   "metadata": {},
   "outputs": [],
   "source": [
    "def sentence_to_ids(vocab, sentence):\n",
    "    # 単語(str)のリストをID(int)のリストに変換する関数\n",
    "    ids = [vocab.word2id.get(word, UNK) for word in sentence]\n",
    "    ids += [EOS]  # EOSを加える\n",
    "    return ids"
   ]
  },
  {
   "cell_type": "code",
   "execution_count": 13,
   "id": "701c3337",
   "metadata": {},
   "outputs": [],
   "source": [
    "train_X = [sentence_to_ids(vocab_X, sentence) for sentence in train_X]\n",
    "train_Y = [sentence_to_ids(vocab_Y, sentence) for sentence in train_Y]\n",
    "valid_X = [sentence_to_ids(vocab_X, sentence) for sentence in valid_X]\n",
    "valid_Y = [sentence_to_ids(vocab_Y, sentence) for sentence in valid_Y]"
   ]
  },
  {
   "cell_type": "markdown",
   "id": "26cf29de",
   "metadata": {},
   "source": [
    "この時点で入力と教師データは以下のようになっている"
   ]
  },
  {
   "cell_type": "code",
   "execution_count": 14,
   "id": "88933a34",
   "metadata": {},
   "outputs": [
    {
     "name": "stdout",
     "output_type": "stream",
     "text": [
      "train data [132, 321, 28, 290, 367, 12, 2]\n",
      "valid data [8, 93, 3532, 36, 236, 13, 284, 4, 2]\n"
     ]
    }
   ],
   "source": [
    "print('train data', train_X[0])\n",
    "print('valid data', valid_X[0])"
   ]
  },
  {
   "cell_type": "markdown",
   "id": "e7106820",
   "metadata": {},
   "source": [
    "### 2.2 DataLoaderの定義\n",
    "データセットからバッチを取得するデータローダーを定義します\n",
    "- この際、長さの異なる複数の系列をバッチで並列に扱えるように、短い系列の末尾を特定のシンボル（`<PAD>`など）でパディングし、バッチ内の系列の長さを最長のものに合わせる\n",
    "- (batch_size, max_length)のサイズの行列を得るが、実際にモデルを学習させるときには、バッチをまたいで各時刻ごとに進めていくので、転置して(max_length, batch_size)の形に変える<br>（batch_first=Trueのオプションを使う場合は不要）"
   ]
  },
  {
   "cell_type": "code",
   "execution_count": 15,
   "id": "6c17b4ba",
   "metadata": {},
   "outputs": [],
   "source": [
    "def pad_seq(seq, max_length):\n",
    "    # 系列(seq)が指定の文長(max_length)になるように末尾をパディングする\n",
    "    res = seq + [PAD for i in range(max_length - len(seq))]\n",
    "    return res    \n",
    "\n",
    "\n",
    "class DataLoader(object):\n",
    "\n",
    "    def __init__(self, X, Y, batch_size, shuffle=False):\n",
    "        \"\"\"\n",
    "        :param X: list, 入力言語の文章（単語IDのリスト）のリスト\n",
    "        :param Y: list, 出力言語の文章（単語IDのリスト）のリスト\n",
    "        :param batch_size: int, バッチサイズ\n",
    "        :param shuffle: bool, サンプルの順番をシャッフルするか否か\n",
    "        \"\"\"\n",
    "        self.data = list(zip(X, Y))\n",
    "        self.batch_size = batch_size\n",
    "        self.shuffle = shuffle\n",
    "        self.start_index = 0\n",
    "        \n",
    "        self.reset()\n",
    "    \n",
    "    def reset(self):\n",
    "        if self.shuffle:  # サンプルの順番をシャッフルする\n",
    "            self.data = shuffle(self.data, random_state=random_state)\n",
    "        self.start_index = 0  # ポインタの位置を初期化する\n",
    "    \n",
    "    def __iter__(self):\n",
    "        return self\n",
    "\n",
    "    def __next__(self):\n",
    "        # ポインタが最後まで到達したら初期化する\n",
    "        if self.start_index >= len(self.data):\n",
    "            self.reset()\n",
    "            raise StopIteration()\n",
    "\n",
    "        # バッチを取得\n",
    "        seqs_X, seqs_Y = zip(*self.data[self.start_index:self.start_index+self.batch_size])\n",
    "        # 入力系列seqs_Xの文章の長さ順（降順）に系列ペアをソートする\n",
    "        seq_pairs = sorted(zip(seqs_X, seqs_Y), key=lambda p: len(p[0]), reverse=True)\n",
    "        seqs_X, seqs_Y = zip(*seq_pairs)\n",
    "        # 短い系列の末尾をパディングする\n",
    "        lengths_X = [len(s) for s in seqs_X]  # 後述のEncoderのpack_padded_sequenceでも用いる\n",
    "        lengths_Y = [len(s) for s in seqs_Y]\n",
    "        max_length_X = max(lengths_X)\n",
    "        max_length_Y = max(lengths_Y)\n",
    "        padded_X = [pad_seq(s, max_length_X) for s in seqs_X]\n",
    "        padded_Y = [pad_seq(s, max_length_Y) for s in seqs_Y]\n",
    "        # tensorに変換し、転置する\n",
    "        batch_X = torch.tensor(padded_X, dtype=torch.long, device=device).transpose(0, 1)\n",
    "        batch_Y = torch.tensor(padded_Y, dtype=torch.long, device=device).transpose(0, 1)\n",
    "\n",
    "        # ポインタを更新する\n",
    "        self.start_index += self.batch_size\n",
    "\n",
    "        return batch_X, batch_Y, lengths_X"
   ]
  },
  {
   "cell_type": "markdown",
   "id": "dc7252a7",
   "metadata": {},
   "source": [
    "# 3.モデルの構築\n",
    "EncoderとDecoderのRNNを定義します。\n",
    "### 導入：PackedSequence\n",
    "PyTorchのRNNでは、可変長の系列のバッチを効率よく計算できるように系列を表現する`PackedSequence`というクラスを用いることができます。\n",
    "\n",
    "入力バッチのテンソルをこの`PackedSequence`のインスタンスに変換してからRNNに入力することで、パディング部分の計算を省略することができるため、効率的な計算が可能になります。\n",
    "\n",
    "`PackedSequence`を作成するには、まず、系列長の異なるバッチに対してパディングを行なってください。\n",
    "\n",
    "ここで、パディングを行う前に各サンプルの系列長(`lengths`)を保存しておきます。"
   ]
  },
  {
   "cell_type": "code",
   "execution_count": 16,
   "id": "e58c76ab",
   "metadata": {},
   "outputs": [
    {
     "name": "stdout",
     "output_type": "stream",
     "text": [
      "各サンプルの系列長: [4, 3, 2]\n",
      "\n",
      "paddingされたテンソル:\n",
      " tensor([[1, 2, 3, 4],\n",
      "        [5, 6, 7, 0],\n",
      "        [8, 9, 0, 0]])\n",
      "padding & 転置されたテンソル:\n",
      " tensor([[1, 5, 8],\n",
      "        [2, 6, 9],\n",
      "        [3, 7, 0],\n",
      "        [4, 0, 0]])\n",
      "padding & 転置されたテンソルのサイズ:\n",
      " torch.Size([4, 3])\n",
      "\n"
     ]
    }
   ],
   "source": [
    "# 系列長がそれぞれ4,3,2の3つのサンプルからなるバッチを作成\n",
    "batch = [[1,2,3,4], [5,6,7], [8,9]]\n",
    "lengths = [len(sample) for sample in batch]\n",
    "print('各サンプルの系列長:', lengths)\n",
    "print()\n",
    "\n",
    "# 最大系列長に合うように各サンプルをpadding\n",
    "_max_length = max(lengths)\n",
    "padded = torch.tensor([pad_seq(sample, _max_length) for sample in batch])\n",
    "print('paddingされたテンソル:\\n', padded)\n",
    "padded = padded.transpose(0,1) # (max_length, batch_size)に転置\n",
    "print('padding & 転置されたテンソル:\\n', padded)\n",
    "print('padding & 転置されたテンソルのサイズ:\\n', padded.size())\n",
    "print()"
   ]
  },
  {
   "cell_type": "markdown",
   "id": "152f42e0",
   "metadata": {},
   "source": [
    "次に、パディングを行ったテンソル(`padded`)と各サンプルの元々の系列長(`lengths`)を`torch.nn.utils.rnn.pack_padded_sequence`という関数に与えると、\n",
    "`data`と`batch_sizes`という要素を持った`PackedSequence`のインスタンス(`packed`)が作成できます。\n",
    "- `data`: テンソルの`PAD`以外の値のみを保有するベクトル\n",
    "- `batch_sizes`: 各時刻で計算が必要な(=`PAD`に到達していない)バッチの数を表すベクトル"
   ]
  },
  {
   "cell_type": "code",
   "execution_count": 17,
   "id": "f0a87019",
   "metadata": {},
   "outputs": [
    {
     "name": "stdout",
     "output_type": "stream",
     "text": [
      "PackedSequenceのインスタンス:\n",
      " PackedSequence(data=tensor([1, 5, 8, 2, 6, 9, 3, 7, 4]), batch_sizes=tensor([3, 3, 2, 1]), sorted_indices=None, unsorted_indices=None)\n",
      "\n"
     ]
    }
   ],
   "source": [
    "# PackedSequenceに変換（テンソルをRNNに入力する前に適用する）\n",
    "packed = pack_padded_sequence(padded, lengths=lengths) # 各サンプルの系列長も与える\n",
    "print('PackedSequenceのインスタンス:\\n', packed) # テンソルのPAD以外の値(data)と各時刻で計算が必要な(=PADに到達していない)バッチの数(batch_sizes)を有するインスタンス\n",
    "print()"
   ]
  },
  {
   "cell_type": "markdown",
   "id": "0297b150",
   "metadata": {},
   "source": [
    "こうして得られた`PackedSequence`のインスタンスをRNNに入力します。（ここでは省略）\n",
    "\n",
    "RNNから出力されたテンソルは`PackedSeauence`のインスタンスのままなので、後段の計算につなぐために`torch.nn.utils.rnn.pad_packed_sequence`の関数によって通常のテンソルに戻します。"
   ]
  },
  {
   "cell_type": "code",
   "execution_count": 18,
   "id": "73123de4",
   "metadata": {},
   "outputs": [
    {
     "name": "stdout",
     "output_type": "stream",
     "text": [
      "PADを含む元のテンソル:\n",
      " tensor([[1, 5, 8],\n",
      "        [2, 6, 9],\n",
      "        [3, 7, 0],\n",
      "        [4, 0, 0]])\n",
      "各サンプルの系列長: tensor([4, 3, 2])\n"
     ]
    }
   ],
   "source": [
    "# PackedSequenceのインスタンスをRNNに入力する（ここでは省略）\n",
    "output = packed\n",
    "\n",
    "# テンソルに戻す(RNNの出力に対して適用する)\n",
    "output, _length = pad_packed_sequence(output)  # PADを含む元のテンソルと各サンプルの系列長を返す\n",
    "print('PADを含む元のテンソル:\\n', output)\n",
    "print('各サンプルの系列長:', _length)"
   ]
  },
  {
   "cell_type": "markdown",
   "id": "db0727a8",
   "metadata": {},
   "source": [
    "### Encoder\n",
    "今回はEncoder側でバッチを処理する際に、`pack_padded_sequence`関数によってtensorを`PackedSequence`に変換し、処理を終えた後に`pad_packed_sequence`関数によってtensorに戻すという処理を行います。"
   ]
  },
  {
   "cell_type": "code",
   "execution_count": 19,
   "id": "03dbda99",
   "metadata": {},
   "outputs": [],
   "source": [
    "class Encoder(nn.Module):\n",
    "    def __init__(self, input_size, hidden_size):\n",
    "        \"\"\"\n",
    "        :param input_size: int, 入力言語の語彙数\n",
    "        :param hidden_size: int, 隠れ層のユニット数\n",
    "        \"\"\"\n",
    "        super(Encoder, self).__init__()\n",
    "        self.hidden_size = hidden_size\n",
    "\n",
    "        self.embedding = nn.Embedding(input_size, hidden_size, padding_idx=PAD)\n",
    "        self.gru = nn.GRU(hidden_size, hidden_size)\n",
    "\n",
    "    def forward(self, seqs, input_lengths, hidden=None):\n",
    "        \"\"\"\n",
    "        :param seqs: tensor, 入力のバッチ, size=(max_length, batch_size)\n",
    "        :param input_lengths: 入力のバッチの各サンプルの文長\n",
    "        :param hidden: tensor, 隠れ状態の初期値, Noneの場合は0で初期化される\n",
    "        :return output: tensor, Encoderの出力, size=(max_length, batch_size, hidden_size)\n",
    "        :return hidden: tensor, Encoderの隠れ状態, size=(1, batch_size, hidden_size)\n",
    "        \"\"\"\n",
    "        emb = self.embedding(seqs) # seqsはパディング済み\n",
    "        packed = pack_padded_sequence(emb, input_lengths) # PackedSequenceオブジェクトに変換\n",
    "        output, hidden = self.gru(packed, hidden)\n",
    "        output, _ = pad_packed_sequence(output)\n",
    "        return output, hidden"
   ]
  },
  {
   "cell_type": "markdown",
   "id": "732ca2f8",
   "metadata": {},
   "source": [
    "### Decoder\n",
    "今回はDecoder側ではパディング等行わないので、通常のtensorのままRNNに入力して問題ありません。"
   ]
  },
  {
   "cell_type": "code",
   "execution_count": 20,
   "id": "fc3c1191",
   "metadata": {},
   "outputs": [],
   "source": [
    "class Decoder(nn.Module):\n",
    "    def __init__(self, hidden_size, output_size):\n",
    "        \"\"\"\n",
    "        :param hidden_size: int, 隠れ層のユニット数\n",
    "        :param output_size: int, 出力言語の語彙数\n",
    "        :param dropout: float, ドロップアウト率\n",
    "        \"\"\"\n",
    "        super(Decoder, self).__init__()\n",
    "        self.hidden_size = hidden_size\n",
    "        self.output_size = output_size\n",
    "\n",
    "        self.embedding = nn.Embedding(output_size, hidden_size, padding_idx=PAD)\n",
    "        self.gru = nn.GRU(hidden_size, hidden_size)\n",
    "        self.out = nn.Linear(hidden_size, output_size)\n",
    "\n",
    "    def forward(self, seqs, hidden):\n",
    "        \"\"\"\n",
    "        :param seqs: tensor, 入力のバッチ, size=(1, batch_size)\n",
    "        :param hidden: tensor, 隠れ状態の初期値, Noneの場合は0で初期化される\n",
    "        :return output: tensor, Decoderの出力, size=(1, batch_size, output_size)\n",
    "        :return hidden: tensor, Decoderの隠れ状態, size=(1, batch_size, hidden_size)\n",
    "        \"\"\"\n",
    "        emb = self.embedding(seqs)\n",
    "        output, hidden = self.gru(emb, hidden)\n",
    "        output = self.out(output)\n",
    "        return output, hidden"
   ]
  },
  {
   "cell_type": "markdown",
   "id": "f9de1659",
   "metadata": {},
   "source": [
    "## EncoderDecoder\n",
    "上で定義したEncoderとDecoderを用いた、一連の処理をまとめるEncoderDecoderのクラスを定義します。\n",
    "\n",
    "ここで、Decoder側の処理で注意する点があります。\n",
    "\n",
    "RNNでは、時刻$t$の出力を時刻$t+1$の入力とすることができるが、この方法でDecoderを学習させると連鎖的に誤差が大きくなっていき、学習が不安定になったり収束が遅くなったりする問題が発生します。\n",
    "\n",
    "\n",
    "この問題への対策として**Teacher Forcing**というテクニックがあります。\n",
    "これは、訓練時にはDecoder側の入力に、ターゲット系列（参照訳）をそのまま使うというものです。\n",
    "これにより学習が安定し、収束が早くなるというメリットがありますが、逆に評価時は前の時刻にDecoderが生成したものが使われるため、学習時と分布が異なってしまうというデメリットもあります。\n",
    "\n",
    "\n",
    "Teacher Forcingの拡張として、ターゲット系列を入力とするか生成された結果を入力とするかを確率的にサンプリングする**Scheduled Sampling**という手法があります。\n",
    "\n",
    "ここではScheduled Samplingを採用し、一定の確率に基づいてターゲット系列を入力とするか生成された結果を入力とするかを切り替えられるようにクラスを定義しておきます。"
   ]
  },
  {
   "cell_type": "code",
   "execution_count": 21,
   "id": "5afaacdb",
   "metadata": {},
   "outputs": [],
   "source": [
    "class EncoderDecoder(nn.Module):\n",
    "    \"\"\"EncoderとDecoderの処理をまとめる\"\"\"\n",
    "    def __init__(self, input_size, output_size, hidden_size):\n",
    "        \"\"\"\n",
    "        :param input_size: int, 入力言語の語彙数\n",
    "        :param output_size: int, 出力言語の語彙数\n",
    "        :param hidden_size: int, 隠れ層のユニット数\n",
    "        \"\"\"\n",
    "        super(EncoderDecoder, self).__init__()\n",
    "        self.encoder = Encoder(input_size, hidden_size)\n",
    "        self.decoder = Decoder(hidden_size, output_size)\n",
    "\n",
    "    def forward(self, batch_X, lengths_X, max_length, batch_Y=None, use_teacher_forcing=False):\n",
    "        \"\"\"\n",
    "        :param batch_X: tensor, 入力系列のバッチ, size=(max_length, batch_size)\n",
    "        :param lengths_X: list, 入力系列のバッチ内の各サンプルの文長\n",
    "        :param max_length: int, Decoderの最大文長\n",
    "        :param batch_Y: tensor, Decoderで用いるターゲット系列\n",
    "        :param use_teacher_forcing: Decoderでターゲット系列を入力とするフラグ\n",
    "        :return decoder_outputs: tensor, Decoderの出力, \n",
    "            size=(max_length, batch_size, self.decoder.output_size)\n",
    "        \"\"\"\n",
    "        # encoderに系列を入力（複数時刻をまとめて処理）\n",
    "        _, encoder_hidden = self.encoder(batch_X, lengths_X)\n",
    "        \n",
    "        _batch_size = batch_X.size(1)\n",
    "\n",
    "        # decoderの入力と隠れ層の初期状態を定義\n",
    "        decoder_input = torch.tensor([BOS] * _batch_size, dtype=torch.long, device=device) # 最初の入力にはBOSを使用する\n",
    "        decoder_input = decoder_input.unsqueeze(0)  # (1, batch_size)\n",
    "        decoder_hidden = encoder_hidden  # Encoderの最終隠れ状態を取得\n",
    "\n",
    "        # decoderの出力のホルダーを定義\n",
    "        decoder_outputs = torch.zeros(max_length, _batch_size, self.decoder.output_size, device=device) # max_length分の固定長\n",
    "\n",
    "        # 各時刻ごとに処理\n",
    "        for t in range(max_length):\n",
    "            decoder_output, decoder_hidden = self.decoder(decoder_input, decoder_hidden)\n",
    "            decoder_outputs[t] = decoder_output\n",
    "            # 次の時刻のdecoderの入力を決定\n",
    "            if use_teacher_forcing and batch_Y is not None:  # teacher forceの場合、ターゲット系列を用いる\n",
    "                decoder_input = batch_Y[t].unsqueeze(0)\n",
    "            else:  # teacher forceでない場合、自身の出力を用いる\n",
    "                decoder_input = decoder_output.max(-1)[1]\n",
    "                \n",
    "        return decoder_outputs"
   ]
  },
  {
   "cell_type": "markdown",
   "id": "b24f8fa7",
   "metadata": {},
   "source": [
    "# 4.訓練\n",
    "### 4.1 損失関数の定義\n",
    "基本的にはクロスエントロピーを損失関数として用いますが、パディングを行うと短い系列の末尾には`<PAD>`トークンが入るため、この部分の損失を計算しないように、マスクをかけます。"
   ]
  },
  {
   "cell_type": "code",
   "execution_count": 22,
   "id": "1b6f5977",
   "metadata": {},
   "outputs": [
    {
     "name": "stderr",
     "output_type": "stream",
     "text": [
      "C:\\Users\\takas\\anaconda3\\envs\\ml\\lib\\site-packages\\torch\\nn\\_reduction.py:42: UserWarning: size_average and reduce args will be deprecated, please use reduction='sum' instead.\n",
      "  warnings.warn(warning.format(ret))\n"
     ]
    }
   ],
   "source": [
    "mce = nn.CrossEntropyLoss(size_average=False, ignore_index=PAD) # PADを無視する\n",
    "def masked_cross_entropy(logits, target):\n",
    "    logits_flat = logits.view(-1, logits.size(-1)) # (max_seq_len * batch_size, output_size)\n",
    "    target_flat = target.view(-1) # (max_seq_len * batch_size, 1)\n",
    "    return mce(logits_flat, target_flat)"
   ]
  },
  {
   "cell_type": "markdown",
   "id": "9c36f90a",
   "metadata": {},
   "source": [
    "### 4.2学習"
   ]
  },
  {
   "cell_type": "code",
   "execution_count": 23,
   "id": "1567a175",
   "metadata": {},
   "outputs": [],
   "source": [
    "# ハイパーパラメータの設定\n",
    "num_epochs = 10\n",
    "batch_size = 64\n",
    "lr = 1e-3  # 学習率\n",
    "teacher_forcing_rate = 0.2  # Teacher Forcingを行う確率\n",
    "ckpt_path = 'model.pth'  # 学習済みのモデルを保存するパス\n",
    "\n",
    "model_args = {\n",
    "    'input_size': vocab_size_X,\n",
    "    'output_size': vocab_size_Y,\n",
    "    'hidden_size': 256,\n",
    "}"
   ]
  },
  {
   "cell_type": "code",
   "execution_count": 24,
   "id": "3c6f124e",
   "metadata": {},
   "outputs": [],
   "source": [
    "# データローダを定義\n",
    "train_dataloader = DataLoader(train_X, train_Y, batch_size=batch_size, shuffle=True)\n",
    "valid_dataloader = DataLoader(valid_X, valid_Y, batch_size=batch_size, shuffle=False)\n",
    "\n",
    "# モデルとOptimizerを定義\n",
    "model = EncoderDecoder(**model_args).to(device)\n",
    "optimizer = optim.Adam(model.parameters(), lr=lr)"
   ]
  },
  {
   "cell_type": "markdown",
   "id": "6da47941",
   "metadata": {},
   "source": [
    "実際に損失関数を計算する関数を定義します。"
   ]
  },
  {
   "cell_type": "code",
   "execution_count": 25,
   "id": "0e9ba3dc",
   "metadata": {},
   "outputs": [],
   "source": [
    "def compute_loss(batch_X, batch_Y, lengths_X, model, optimizer=None, is_train=True):\n",
    "    # 損失を計算する関数\n",
    "    model.train(is_train)  # train/evalモードの切替え\n",
    "    \n",
    "    # 一定確率でTeacher Forcingを行う\n",
    "    use_teacher_forcing = is_train and (random.random() < teacher_forcing_rate)\n",
    "    max_length = batch_Y.size(0)\n",
    "    # 推論\n",
    "    pred_Y = model(batch_X, lengths_X, max_length, batch_Y, use_teacher_forcing)\n",
    "    \n",
    "    # 損失関数を計算\n",
    "    loss = masked_cross_entropy(pred_Y.contiguous(), batch_Y.contiguous())\n",
    "    \n",
    "    if is_train:  # 訓練時はパラメータを更新\n",
    "        optimizer.zero_grad()\n",
    "        loss.backward()\n",
    "        optimizer.step()\n",
    "    \n",
    "    batch_Y = batch_Y.transpose(0, 1).contiguous().data.cpu().tolist()\n",
    "    pred = pred_Y.max(dim=-1)[1].data.cpu().numpy().T.tolist()\n",
    "\n",
    "    return loss.item(), batch_Y, pred"
   ]
  },
  {
   "cell_type": "markdown",
   "id": "a35fd5f7",
   "metadata": {},
   "source": [
    "ここで、Loss以外に、学習の進捗を確認するためにモデルの性能を評価する指標として、BLEUを計算します。\n",
    "\n",
    "BLEUは機械翻訳の分野において最も一般的な自動評価基準の一つで、予め用意した複数の参照訳と、機械翻訳モデルが出力した訳のn-gramのマッチ率に基づく指標です。\n",
    "\n",
    "NLTK (Natural Language Tool Kit) という自然言語処理で用いられるライブラリを用いて簡単に計算することができます。"
   ]
  },
  {
   "cell_type": "code",
   "execution_count": 26,
   "id": "5af33b5e",
   "metadata": {},
   "outputs": [],
   "source": [
    "def calc_bleu(refs, hyps):\n",
    "    \"\"\"\n",
    "    BLEUスコアを計算する関数\n",
    "    :param refs: list, 参照訳。単語のリストのリスト (例： [['I', 'have', 'a', 'pen'], ...])\n",
    "    :param hyps: list, モデルの生成した訳。単語のリストのリスト (例： ['I', 'have', 'a', 'pen'])\n",
    "    :return: float, BLEUスコア(0~100)\n",
    "    \"\"\"\n",
    "    refs = [[ref[:ref.index(EOS)]] for ref in refs] # EOSは評価しないで良いので切り捨てる, refsのほうは複数なのでlistが一個多くかかっている\n",
    "    hyps = [hyp[:hyp.index(EOS)] if EOS in hyp else hyp for hyp in hyps]\n",
    "    return 100 * bleu_score.corpus_bleu(refs, hyps)"
   ]
  },
  {
   "cell_type": "markdown",
   "id": "327b1919",
   "metadata": {},
   "source": [
    "それではモデルの訓練を行います。"
   ]
  },
  {
   "cell_type": "code",
   "execution_count": 27,
   "id": "4a3a9fc0",
   "metadata": {},
   "outputs": [
    {
     "name": "stdout",
     "output_type": "stream",
     "text": [
      "Epoch 1: train_loss: 52.14  train_bleu: 3.47  valid_loss: 49.35  valid_bleu: 4.60\n",
      "--------------------------------------------------------------------------------\n",
      "Epoch 2: train_loss: 44.78  train_bleu: 7.34  valid_loss: 44.96  valid_bleu: 7.35\n",
      "--------------------------------------------------------------------------------\n",
      "Epoch 3: train_loss: 40.56  train_bleu: 10.93  valid_loss: 42.49  valid_bleu: 9.54\n",
      "--------------------------------------------------------------------------------\n",
      "Epoch 4: train_loss: 37.79  train_bleu: 13.56  valid_loss: 41.29  valid_bleu: 12.51\n",
      "--------------------------------------------------------------------------------\n",
      "Epoch 5: train_loss: 35.26  train_bleu: 16.38  valid_loss: 40.34  valid_bleu: 13.75\n",
      "--------------------------------------------------------------------------------\n",
      "Epoch 6: train_loss: 33.46  train_bleu: 18.62  valid_loss: 40.01  valid_bleu: 14.89\n",
      "--------------------------------------------------------------------------------\n",
      "Epoch 7: train_loss: 31.84  train_bleu: 20.59  valid_loss: 39.88  valid_bleu: 14.34\n",
      "--------------------------------------------------------------------------------\n",
      "Epoch 8: train_loss: 30.81  train_bleu: 22.01  valid_loss: 40.24  valid_bleu: 16.22\n",
      "--------------------------------------------------------------------------------\n",
      "Epoch 9: train_loss: 29.19  train_bleu: 24.23  valid_loss: 40.80  valid_bleu: 18.38\n",
      "--------------------------------------------------------------------------------\n",
      "Epoch 10: train_loss: 28.32  train_bleu: 25.83  valid_loss: 40.72  valid_bleu: 17.64\n",
      "--------------------------------------------------------------------------------\n"
     ]
    }
   ],
   "source": [
    "# 訓練\n",
    "best_valid_bleu = 0.\n",
    "\n",
    "for epoch in range(1, num_epochs+1):\n",
    "    train_loss = 0.\n",
    "    train_refs = []\n",
    "    train_hyps = []\n",
    "    valid_loss = 0.\n",
    "    valid_refs = []\n",
    "    valid_hyps = []\n",
    "    # train\n",
    "    for batch in train_dataloader:\n",
    "        batch_X, batch_Y, lengths_X = batch\n",
    "        loss, gold, pred = compute_loss(\n",
    "            batch_X, batch_Y, lengths_X, model, optimizer, \n",
    "            is_train=True\n",
    "            )\n",
    "        train_loss += loss\n",
    "        train_refs += gold\n",
    "        train_hyps += pred\n",
    "    # valid\n",
    "    for batch in valid_dataloader:\n",
    "        batch_X, batch_Y, lengths_X = batch\n",
    "        loss, gold, pred = compute_loss(\n",
    "            batch_X, batch_Y, lengths_X, model, \n",
    "            is_train=False\n",
    "            )\n",
    "        valid_loss += loss\n",
    "        valid_refs += gold\n",
    "        valid_hyps += pred\n",
    "    # 損失をサンプル数で割って正規化\n",
    "    train_loss = np.sum(train_loss) / len(train_dataloader.data)\n",
    "    valid_loss = np.sum(valid_loss) / len(valid_dataloader.data)\n",
    "    # BLEUを計算\n",
    "    train_bleu = calc_bleu(train_refs, train_hyps)\n",
    "    valid_bleu = calc_bleu(valid_refs, valid_hyps)\n",
    "\n",
    "    # validationデータでBLEUが改善した場合にはモデルを保存\n",
    "    if valid_bleu > best_valid_bleu:\n",
    "        ckpt = model.to('cpu').state_dict()\n",
    "        torch.save(ckpt, ckpt_path)\n",
    "        best_valid_bleu = valid_bleu\n",
    "\n",
    "    print('Epoch {}: train_loss: {:5.2f}  train_bleu: {:2.2f}  valid_loss: {:5.2f}  valid_bleu: {:2.2f}'.format(\n",
    "            epoch, train_loss, train_bleu, valid_loss, valid_bleu))\n",
    "        \n",
    "    print('-'*80)"
   ]
  },
  {
   "cell_type": "markdown",
   "id": "33a758e9",
   "metadata": {},
   "source": [
    "# 5.評価"
   ]
  },
  {
   "cell_type": "code",
   "execution_count": 28,
   "id": "bc0aab11",
   "metadata": {},
   "outputs": [
    {
     "data": {
      "text/plain": [
       "EncoderDecoder(\n",
       "  (encoder): Encoder(\n",
       "    (embedding): Embedding(3725, 256, padding_idx=0)\n",
       "    (gru): GRU(256, 256)\n",
       "  )\n",
       "  (decoder): Decoder(\n",
       "    (embedding): Embedding(4405, 256, padding_idx=0)\n",
       "    (gru): GRU(256, 256)\n",
       "    (out): Linear(in_features=256, out_features=4405, bias=True)\n",
       "  )\n",
       ")"
      ]
     },
     "execution_count": 28,
     "metadata": {},
     "output_type": "execute_result"
    }
   ],
   "source": [
    "# 学習済みモデルの読み込み\n",
    "ckpt = torch.load(ckpt_path ,map_location=torch.device('cpu')) # cpuで処理する場合はmap_locationで指定する必要があります。\n",
    "model.load_state_dict(ckpt)\n",
    "model.eval()"
   ]
  },
  {
   "cell_type": "code",
   "execution_count": 29,
   "id": "18272eb8",
   "metadata": {},
   "outputs": [],
   "source": [
    "def ids_to_sentence(vocab, ids):\n",
    "    # IDのリストを単語のリストに変換する\n",
    "    return [vocab.id2word[_id] for _id in ids]\n",
    "\n",
    "def trim_eos(ids):\n",
    "    # IDのリストからEOS以降の単語を除外する\n",
    "    if EOS in ids:\n",
    "        return ids[:ids.index(EOS)]\n",
    "    else:\n",
    "        return ids"
   ]
  },
  {
   "cell_type": "code",
   "execution_count": 30,
   "id": "e81e0eff",
   "metadata": {},
   "outputs": [],
   "source": [
    "# テストデータの読み込み\n",
    "test_X = load_data('./data/dev.en')\n",
    "test_Y = load_data('./data/dev.ja')"
   ]
  },
  {
   "cell_type": "code",
   "execution_count": 31,
   "id": "d9407c65",
   "metadata": {},
   "outputs": [],
   "source": [
    "test_X = [sentence_to_ids(vocab_X, sentence) for sentence in test_X]\n",
    "test_Y = [sentence_to_ids(vocab_Y, sentence) for sentence in test_Y]"
   ]
  },
  {
   "cell_type": "code",
   "execution_count": 32,
   "id": "7286183b",
   "metadata": {},
   "outputs": [],
   "source": [
    "test_dataloader = DataLoader(test_X, test_Y, batch_size=1, shuffle=False)"
   ]
  },
  {
   "cell_type": "code",
   "execution_count": 33,
   "id": "43f709c1",
   "metadata": {},
   "outputs": [
    {
     "name": "stdout",
     "output_type": "stream",
     "text": [
      "src: show your own business .\n",
      "tgt: 自分 の 事 を しろ 。\n",
      "out: 自分 の 自分 を し て て 。 。\n",
      "without trim: 自分 の 自分 を し て て 。 。 </S> </S> </S> </S> </S> </S> </S> </S> </S> </S> </S>\n"
     ]
    }
   ],
   "source": [
    "# 生成\n",
    "batch_X, batch_Y, lengths_X = next(test_dataloader)\n",
    "sentence_X = ' '.join(ids_to_sentence(vocab_X, batch_X.data.cpu().numpy()[:-1, 0]))\n",
    "sentence_Y = ' '.join(ids_to_sentence(vocab_Y, batch_Y.data.cpu().numpy()[:-1, 0]))\n",
    "print('src: {}'.format(sentence_X))\n",
    "print('tgt: {}'.format(sentence_Y))\n",
    "\n",
    "output = model(batch_X, lengths_X, max_length=20)\n",
    "output = output.max(dim=-1)[1].view(-1).data.cpu().tolist()\n",
    "output_sentence = ' '.join(ids_to_sentence(vocab_Y, trim_eos(output)))\n",
    "output_sentence_without_trim = ' '.join(ids_to_sentence(vocab_Y, output))\n",
    "print('out: {}'.format(output_sentence))\n",
    "print('without trim: {}'.format(output_sentence_without_trim))"
   ]
  },
  {
   "cell_type": "code",
   "execution_count": 34,
   "id": "832ca957",
   "metadata": {},
   "outputs": [
    {
     "name": "stdout",
     "output_type": "stream",
     "text": [
      "18.6720646449301\n"
     ]
    }
   ],
   "source": [
    "# BLEUの計算\n",
    "test_dataloader = DataLoader(test_X, test_Y, batch_size=1, shuffle=False)\n",
    "refs_list = []\n",
    "hyp_list = []\n",
    "\n",
    "for batch in test_dataloader:\n",
    "    batch_X, batch_Y, lengths_X = batch\n",
    "    pred_Y = model(batch_X, lengths_X, max_length=20)\n",
    "    pred = pred_Y.max(dim=-1)[1].view(-1).data.cpu().tolist()\n",
    "    refs = batch_Y.view(-1).data.cpu().tolist()\n",
    "    refs_list.append(refs)\n",
    "    hyp_list.append(pred)\n",
    "bleu = calc_bleu(refs_list, hyp_list)\n",
    "print(bleu)"
   ]
  },
  {
   "cell_type": "markdown",
   "id": "9317fa0c",
   "metadata": {},
   "source": [
    "### Beam Search\n",
    "テストデータに対して新たな文を生成する際、これまでは各時刻で最も確率の高い単語を正解として採用し、次のステップでの入力として使っていました。\n",
    "ただ、本当にやりたいのは、文全体の尤度が最も高くなるような文を生成することです。そのため、ただ近視眼的に確率の高い単語を採用していくより、もう少し大局的に評価していく必要があります。\n",
    "\n",
    "Beam Searchでは、各時刻において一定の数$K$のそれまでのスコア(対数尤度など)の高い文を保持しながら選択を行っていきます。  \n",
    "\n",
    "\n",
    "図はSlack上のものを参照してください。"
   ]
  },
  {
   "cell_type": "code",
   "execution_count": 35,
   "id": "51c3e780",
   "metadata": {},
   "outputs": [],
   "source": [
    "class BeamEncoderDecoder(EncoderDecoder):\n",
    "    \"\"\"\n",
    "    Beam Searchでdecodeを行うためのクラス\n",
    "    \"\"\"\n",
    "    def __init__(self, input_size, output_size, hidden_size, beam_size=4):\n",
    "        \"\"\"\n",
    "        :param input_size: int, 入力言語の語彙数\n",
    "        :param output_size: int, 出力言語の語彙数\n",
    "        :param hidden_size: int, 隠れ層のユニット数\n",
    "        :param beam_size: int, ビーム数\n",
    "        \"\"\"\n",
    "        super(BeamEncoderDecoder, self).__init__(input_size, output_size, hidden_size)\n",
    "        self.beam_size = beam_size\n",
    "\n",
    "    def forward(self, batch_X, lengths_X, max_length):\n",
    "        \"\"\"\n",
    "        :param batch_X: tensor, 入力系列のバッチ, size=(max_length, batch_size)\n",
    "        :param lengths_X: list, 入力系列のバッチ内の各サンプルの文長\n",
    "        :param max_length: int, Decoderの最大文長\n",
    "        :return decoder_outputs: list, 各ビームのDecoderの出力\n",
    "        :return finished_scores: list of float, 各ビームのスコア\n",
    "        \"\"\"\n",
    "        _, encoder_hidden = self.encoder(batch_X, lengths_X)\n",
    "\n",
    "        # decoderの入力と隠れ層の初期状態を定義\n",
    "        decoder_input = torch.tensor([BOS] * self.beam_size, dtype=torch.long, device=device)\n",
    "        decoder_input = decoder_input.unsqueeze(0)  # (1, batch_size)\n",
    "        decoder_hidden = encoder_hidden\n",
    "\n",
    "        # beam_sizeの数だけrepeatする\n",
    "        decoder_input = decoder_input.expand(1, beam_size)\n",
    "        decoder_hidden = decoder_hidden.expand(1, beam_size, -1).contiguous()\n",
    "\n",
    "        k = beam_size\n",
    "        finished_beams = []\n",
    "        finished_scores = []\n",
    "        prev_probs = torch.zeros(beam_size, 1, dtype=torch.float, device=device)  # 前の時刻の各ビームの対数尤度を保持しておく\n",
    "        output_size = self.decoder.output_size\n",
    "\n",
    "        # 各時刻ごとに処理\n",
    "        for t in range(max_length):\n",
    "            # decoder_input: (1, k)\n",
    "            decoder_output, decoder_hidden = self.decoder(decoder_input[-1:], decoder_hidden)\n",
    "            # decoder_output: (1, k, output_size)\n",
    "            # decoder_hidden: (1, k, hidden_size)\n",
    "            decoder_output_t = decoder_output[-1]  # (k, output_size)\n",
    "            log_probs = prev_probs + F.log_softmax(decoder_output_t, dim=-1)  # (k, output_size)\n",
    "            scores = log_probs  # 対数尤度をスコアとする\n",
    "\n",
    "            # スコアの高いビームとその単語を取得\n",
    "            flat_scores = scores.view(-1)  # (k*output_size,)\n",
    "            if t == 0:\n",
    "                flat_scores = flat_scores[:output_size]  # t=0のときは後半の同じ値の繰り返しを除外\n",
    "            top_vs, top_is = flat_scores.data.topk(k)\n",
    "            beam_indices = top_is / output_size  # (k,)\n",
    "            word_indices = top_is % output_size  # (k,)\n",
    "            \n",
    "            # ビームを更新する\n",
    "            _next_beam_indices = []\n",
    "            _next_word_indices = []\n",
    "            for b, w in zip(beam_indices, word_indices):\n",
    "                if w.item() == EOS:  # EOSに到達した場合はそのビームは更新して終了\n",
    "                    k -= 1\n",
    "                    beam = torch.cat([decoder_input.t()[b], w.view(1,)])  # (t+2,)\n",
    "                    score = scores[b, w].item()\n",
    "                    finished_beams.append(beam)\n",
    "                    finished_scores.append(score)\n",
    "                else:   # それ以外の場合はビームを更新\n",
    "                    _next_beam_indices.append(b)\n",
    "                    _next_word_indices.append(w)\n",
    "            if k == 0:\n",
    "                break\n",
    "\n",
    "            # tensorｎに変換\n",
    "            next_beam_indices = torch.tensor(_next_beam_indices, device=device)\n",
    "            next_word_indices = torch.tensor(_next_word_indices, device=device)\n",
    "\n",
    "            # 次の時刻のDecoderの入力を更新\n",
    "            decoder_input = torch.index_select(\n",
    "                decoder_input, dim=-1, index=next_beam_indices)\n",
    "            decoder_input = torch.cat(\n",
    "                [decoder_input, next_word_indices.unsqueeze(0)], dim=0)\n",
    "    \n",
    "            # 次の時刻のDecoderの隠れ層を更新\n",
    "            decoder_hidden = torch.index_select(\n",
    "                decoder_hidden, dim=1, index=next_beam_indices)\n",
    "\n",
    "            # 各ビームの対数尤度を更新\n",
    "            flat_probs = log_probs.view(-1)  # (k*output_size,)\n",
    "            next_indices = (next_beam_indices + 1) * next_word_indices\n",
    "            prev_probs = torch.index_select(\n",
    "                flat_probs, dim=0, index=next_indices).unsqueeze(1)  # (k, 1)\n",
    "\n",
    "        # すべてのビームが完了したらデータを整形\n",
    "        decoder_outputs = [[idx.item() for idx in beam[1:-1]] for beam in finished_beams]\n",
    "        \n",
    "        return decoder_outputs, finished_scores"
   ]
  },
  {
   "cell_type": "code",
   "execution_count": 36,
   "id": "69038dd6",
   "metadata": {},
   "outputs": [
    {
     "data": {
      "text/plain": [
       "BeamEncoderDecoder(\n",
       "  (encoder): Encoder(\n",
       "    (embedding): Embedding(3725, 256, padding_idx=0)\n",
       "    (gru): GRU(256, 256)\n",
       "  )\n",
       "  (decoder): Decoder(\n",
       "    (embedding): Embedding(4405, 256, padding_idx=0)\n",
       "    (gru): GRU(256, 256)\n",
       "    (out): Linear(in_features=256, out_features=4405, bias=True)\n",
       "  )\n",
       ")"
      ]
     },
     "execution_count": 36,
     "metadata": {},
     "output_type": "execute_result"
    }
   ],
   "source": [
    "# 学習済みモデルの読み込み\n",
    "beam_size = 3\n",
    "beam_model = BeamEncoderDecoder(**model_args, beam_size=beam_size).to(device)\n",
    "beam_model.load_state_dict(ckpt)\n",
    "beam_model.eval()"
   ]
  },
  {
   "cell_type": "code",
   "execution_count": 37,
   "id": "5d04c7eb",
   "metadata": {},
   "outputs": [],
   "source": [
    "test_dataloader = DataLoader(test_X, test_Y, batch_size=1, shuffle=False)"
   ]
  },
  {
   "cell_type": "code",
   "execution_count": 38,
   "id": "a90f944d",
   "metadata": {},
   "outputs": [
    {
     "name": "stdout",
     "output_type": "stream",
     "text": [
      "src: show your own business .\n",
      "tgt: 自分 の 事 を しろ 。\n",
      "out: 自分 の 自分 を し て て 。 。\n"
     ]
    }
   ],
   "source": [
    "# 生成\n",
    "batch_X, batch_Y, lengths_X = next(test_dataloader)\n",
    "sentence_X = ' '.join(ids_to_sentence(vocab_X, batch_X.data.cpu().numpy()[:-1, 0]))\n",
    "sentence_Y = ' '.join(ids_to_sentence(vocab_Y, batch_Y.data.cpu().numpy()[:-1, 0]))\n",
    "print('src: {}'.format(sentence_X))\n",
    "print('tgt: {}'.format(sentence_Y))\n",
    "\n",
    "# 普通のdecode\n",
    "output = model(batch_X, lengths_X, max_length=20)\n",
    "output = output.max(dim=-1)[1].view(-1).data.cpu().tolist()\n",
    "output_sentence = ' '.join(ids_to_sentence(vocab_Y, trim_eos(output)))\n",
    "print('out: {}'.format(output_sentence))\n"
   ]
  },
  {
   "cell_type": "code",
   "execution_count": 39,
   "id": "d4b9cc08",
   "metadata": {},
   "outputs": [
    {
     "ename": "RuntimeError",
     "evalue": "index_select(): Expected dtype int32 or int64 for index",
     "output_type": "error",
     "traceback": [
      "\u001b[1;31m---------------------------------------------------------------------------\u001b[0m",
      "\u001b[1;31mRuntimeError\u001b[0m                              Traceback (most recent call last)",
      "\u001b[1;32m~\\AppData\\Local\\Temp/ipykernel_16100/2011020290.py\u001b[0m in \u001b[0;36m<module>\u001b[1;34m\u001b[0m\n\u001b[0;32m      1\u001b[0m \u001b[1;31m# beam decode\u001b[0m\u001b[1;33m\u001b[0m\u001b[1;33m\u001b[0m\u001b[0m\n\u001b[1;32m----> 2\u001b[1;33m \u001b[0moutputs\u001b[0m\u001b[1;33m,\u001b[0m \u001b[0mscores\u001b[0m \u001b[1;33m=\u001b[0m \u001b[0mbeam_model\u001b[0m\u001b[1;33m(\u001b[0m\u001b[0mbatch_X\u001b[0m\u001b[1;33m,\u001b[0m \u001b[0mlengths_X\u001b[0m\u001b[1;33m,\u001b[0m \u001b[0mmax_length\u001b[0m\u001b[1;33m=\u001b[0m\u001b[1;36m20\u001b[0m\u001b[1;33m)\u001b[0m\u001b[1;33m\u001b[0m\u001b[1;33m\u001b[0m\u001b[0m\n\u001b[0m\u001b[0;32m      3\u001b[0m \u001b[1;33m\u001b[0m\u001b[0m\n\u001b[0;32m      4\u001b[0m \u001b[1;31m# scoreの良い順にソート\u001b[0m\u001b[1;33m\u001b[0m\u001b[1;33m\u001b[0m\u001b[0m\n\u001b[0;32m      5\u001b[0m \u001b[0moutputs\u001b[0m\u001b[1;33m,\u001b[0m \u001b[0mscores\u001b[0m \u001b[1;33m=\u001b[0m \u001b[0mzip\u001b[0m\u001b[1;33m(\u001b[0m\u001b[1;33m*\u001b[0m\u001b[0msorted\u001b[0m\u001b[1;33m(\u001b[0m\u001b[0mzip\u001b[0m\u001b[1;33m(\u001b[0m\u001b[0moutputs\u001b[0m\u001b[1;33m,\u001b[0m \u001b[0mscores\u001b[0m\u001b[1;33m)\u001b[0m\u001b[1;33m,\u001b[0m \u001b[0mkey\u001b[0m\u001b[1;33m=\u001b[0m\u001b[1;32mlambda\u001b[0m \u001b[0mx\u001b[0m\u001b[1;33m:\u001b[0m \u001b[1;33m-\u001b[0m\u001b[0mx\u001b[0m\u001b[1;33m[\u001b[0m\u001b[1;36m1\u001b[0m\u001b[1;33m]\u001b[0m\u001b[1;33m)\u001b[0m\u001b[1;33m)\u001b[0m\u001b[1;33m\u001b[0m\u001b[1;33m\u001b[0m\u001b[0m\n",
      "\u001b[1;32m~\\anaconda3\\envs\\ml\\lib\\site-packages\\torch\\nn\\modules\\module.py\u001b[0m in \u001b[0;36m_call_impl\u001b[1;34m(self, *input, **kwargs)\u001b[0m\n\u001b[0;32m    887\u001b[0m             \u001b[0mresult\u001b[0m \u001b[1;33m=\u001b[0m \u001b[0mself\u001b[0m\u001b[1;33m.\u001b[0m\u001b[0m_slow_forward\u001b[0m\u001b[1;33m(\u001b[0m\u001b[1;33m*\u001b[0m\u001b[0minput\u001b[0m\u001b[1;33m,\u001b[0m \u001b[1;33m**\u001b[0m\u001b[0mkwargs\u001b[0m\u001b[1;33m)\u001b[0m\u001b[1;33m\u001b[0m\u001b[1;33m\u001b[0m\u001b[0m\n\u001b[0;32m    888\u001b[0m         \u001b[1;32melse\u001b[0m\u001b[1;33m:\u001b[0m\u001b[1;33m\u001b[0m\u001b[1;33m\u001b[0m\u001b[0m\n\u001b[1;32m--> 889\u001b[1;33m             \u001b[0mresult\u001b[0m \u001b[1;33m=\u001b[0m \u001b[0mself\u001b[0m\u001b[1;33m.\u001b[0m\u001b[0mforward\u001b[0m\u001b[1;33m(\u001b[0m\u001b[1;33m*\u001b[0m\u001b[0minput\u001b[0m\u001b[1;33m,\u001b[0m \u001b[1;33m**\u001b[0m\u001b[0mkwargs\u001b[0m\u001b[1;33m)\u001b[0m\u001b[1;33m\u001b[0m\u001b[1;33m\u001b[0m\u001b[0m\n\u001b[0m\u001b[0;32m    890\u001b[0m         for hook in itertools.chain(\n\u001b[0;32m    891\u001b[0m                 \u001b[0m_global_forward_hooks\u001b[0m\u001b[1;33m.\u001b[0m\u001b[0mvalues\u001b[0m\u001b[1;33m(\u001b[0m\u001b[1;33m)\u001b[0m\u001b[1;33m,\u001b[0m\u001b[1;33m\u001b[0m\u001b[1;33m\u001b[0m\u001b[0m\n",
      "\u001b[1;32m~\\AppData\\Local\\Temp/ipykernel_16100/762265759.py\u001b[0m in \u001b[0;36mforward\u001b[1;34m(self, batch_X, lengths_X, max_length)\u001b[0m\n\u001b[0;32m     77\u001b[0m \u001b[1;33m\u001b[0m\u001b[0m\n\u001b[0;32m     78\u001b[0m             \u001b[1;31m# 次の時刻のDecoderの入力を更新\u001b[0m\u001b[1;33m\u001b[0m\u001b[1;33m\u001b[0m\u001b[0m\n\u001b[1;32m---> 79\u001b[1;33m             decoder_input = torch.index_select(\n\u001b[0m\u001b[0;32m     80\u001b[0m                 decoder_input, dim=-1, index=next_beam_indices)\n\u001b[0;32m     81\u001b[0m             decoder_input = torch.cat(\n",
      "\u001b[1;31mRuntimeError\u001b[0m: index_select(): Expected dtype int32 or int64 for index"
     ]
    }
   ],
   "source": [
    "# beam decode\n",
    "outputs, scores = beam_model(batch_X, lengths_X, max_length=20)\n",
    "\n",
    "# scoreの良い順にソート\n",
    "outputs, scores = zip(*sorted(zip(outputs, scores), key=lambda x: -x[1]))\n",
    "for o, output in enumerate(outputs):\n",
    "    output_sentence = ' '.join(ids_to_sentence(vocab_Y, output))\n",
    "    print('out{}: {}'.format(o+1, output_sentence))    "
   ]
  },
  {
   "cell_type": "markdown",
   "id": "5d881e6c",
   "metadata": {},
   "source": [
    "# 参考文献\n",
    "- [Practical PyTorch: Translation with a Sequence to Sequence Network and Attention](https://github.com/spro/practical-pytorch/blob/master/seq2seq-translation/seq2seq-translation-batched.ipynb)\n",
    "- [Translation with a Sequence to Sequence Network and Attention](https://pytorch.org/tutorials/intermediate/seq2seq_translation_tutorial.html#sphx-glr-intermediate-seq2seq-translation-tutorial-py)\n",
    "- [Encoder\\-decoderモデルとTeacher Forcing，Scheduled Sampling，Professor Forcing](http://satopirka.com/2018/02/encoder-decoder%E3%83%A2%E3%83%87%E3%83%AB%E3%81%A8teacher-forcingscheduled-samplingprofessor-forcing/)\n",
    "- [Sequence\\-to\\-Sequence Learning as Beam\\-Search Optimization](https://arxiv.org/abs/1606.02960)"
   ]
  },
  {
   "cell_type": "code",
   "execution_count": null,
   "id": "876420ee",
   "metadata": {},
   "outputs": [],
   "source": []
  },
  {
   "cell_type": "markdown",
   "id": "d95b0c92",
   "metadata": {},
   "source": [
    "## ニューラル機械翻訳の問題点：長さに弱い\n",
    "- 翻訳元の文の内容をひとつのベクトルで表現 \n",
    "- 文長が長くなると表現力が足りなくなる \n",
    "- 文長と翻訳精度の関係性\n",
    "\n",
    "## Attention (注意機構) \n",
    "- 翻訳先の各単語を選択する際に、翻訳元の文中の各単語の隠れ状態を利用\n",
    "\n",
    "#### 翻訳元の各単語の隠れ状態の加重平均\n",
    "\n",
    "\\begin{aligned}\n",
    "C_i = \\sum_{j=1}^{T_x} \\alpha_{ij}h_j\n",
    "\\end{aligned}\n",
    "\n",
    "#### 重み(全て足すと１) 重みはFFNNで求める\n",
    "\n",
    "\\begin{aligned}\n",
    "\\alpha_{ij} &= \\frac{exp(e_{ij})}{\\sum_{k=1}^{T_x} exp(e_{ik})} \\\\[10px]\n",
    "e_{ik} &= a(s_{i-1} , h_j)\n",
    "\\end{aligned}\n"
   ]
  },
  {
   "cell_type": "markdown",
   "id": "52f8ab39",
   "metadata": {},
   "source": [
    "### Attentionは何をしているのか\n",
    "query(検索クエリ)に一致するkeyを索引し、対応するvalueを取り出す操作であると見做すことができる。これは辞書オブジェクトの機能と同じである。\n"
   ]
  },
  {
   "cell_type": "code",
   "execution_count": 29,
   "id": "f5533231",
   "metadata": {},
   "outputs": [
    {
     "data": {
      "image/jpeg": "[encoded data removed]",
      "text/plain": [
       "<IPython.core.display.Image object>"
      ]
     },
     "execution_count": 29,
     "metadata": {},
     "output_type": "execute_result"
    }
   ],
   "source": [
    "from IPython.display import Image\n",
    "Image(\"./Section5_Attention1.jpg\")"
   ]
  },
  {
   "cell_type": "markdown",
   "id": "e377acb7",
   "metadata": {},
   "source": [
    "## Attention is all you need\n",
    "- 2017年6月に登場 \n",
    "- RNNを使わない \n",
    " - 必要なのはAttentionだけ \n",
    "- 当時のSOTAをはるかに少ない計算量で実現 \n",
    " - 英仏 (3600万文) の学習を8GPUで3.5日で完了"
   ]
  },
  {
   "cell_type": "markdown",
   "id": "7487b68c",
   "metadata": {},
   "source": [
    "## 注意機構には二種類ある\n",
    "\n",
    "### Source Target-Attention(ソースターゲット注意機構)\n",
    "情報が来る場所と狙う場所が分かれている。 \\\n",
    "受け取った情報に対して、狙うべき情報が近い場合に注目する。\n",
    "\n",
    "### Self-Attention(自己注意機構)\n",
    "Q,K,Vがすべて同じ場所から来る。"
   ]
  },
  {
   "cell_type": "markdown",
   "id": "c0e04f0b",
   "metadata": {},
   "source": [
    "## Transformer-Encoder\n",
    "\n",
    "### Scaled dot product attention\n",
    "\n",
    "\n",
    "### Position-Wise Feed-Forward Networks\n",
    "- 位置情報を保持したまま順伝播させる\n",
    "\n",
    "### Multi-Head attention\n",
    "- 全単語に関するAttentionをまとめて計算する\n",
    "\n",
    "#### 重みパラメタの異なる８個のヘッドを使用\n",
    "- ８個のScaled Dot-Product Attentionの出力をConcat \n",
    "- それぞれのヘッドが異なる種類の情報を収集"
   ]
  },
  {
   "cell_type": "markdown",
   "id": "708fcdc0",
   "metadata": {},
   "source": [
    "## Decoder\n",
    "- Encoderと同じく6層 \n",
    " - 各層で二種類の注意機構 \n",
    " - 注意機構の仕組みはEncoderとほぼ同じ \n",
    "- 自己注意機構 \n",
    " - 生成単語列の情報を収集 \n",
    " - 直下の層の出力へのアテンション \n",
    " - 未来の情報を見ないようにマスク \n",
    "- Encoder-Decoder attention \n",
    " - 入力文の情報を収集 \n",
    " - Encoderの出力へのアテンション\n",
    " \n",
    "### Add (Residual Connection) \n",
    "- 入出力の差分を学習させる \n",
    "- 実装上は出力に入力をそのまま加算するだけ \n",
    "- 効果：学習・テストエラーの低減 \n",
    "\n",
    "### Norm (Layer Normalization) \n",
    "- 各層においてバイアスを除く活性化関数への入力を平均０、分散１に正則化 \n",
    "- 効果：学習の高速化\n",
    "\n"
   ]
  },
  {
   "cell_type": "markdown",
   "id": "a944a1d9",
   "metadata": {},
   "source": [
    "## Position Encoding\n",
    "RNNを用いないので単語列の語順情報を追加する必要がある"
   ]
  },
  {
   "cell_type": "markdown",
   "id": "406cd810",
   "metadata": {},
   "source": [
    "#### ゼロから作るディープラーニング②　8.1　Attentionの仕組み\n",
    "これまで見てきたseq2seqをさらに強力にする注意機構（Attention mechanism）というアイデアを紹介します。このAttentionというメカニズムによって、seq2seqは私たち人間と同じように、必要な情報だけに「注意」を向けさせることができます。"
   ]
  },
  {
   "cell_type": "markdown",
   "id": "1ea39143",
   "metadata": {},
   "source": [
    "# 演習 Transformerモデル\n",
    "TransformerはRNNやCNNを使用せず、Attentionのみを用いるSeq2Seqモデルです。\n",
    "\n",
    "並列計算が可能なためRNNに比べて計算が高速な上、Self-Attentionと呼ばれる機構を用いることにより、局所的な位置しか参照できないCNNと異なり、系列内の任意の位置の情報を参照することを可能にしています。\n",
    "\n",
    "その他にもいくつかの工夫が加えられており、翻訳に限らない自然言語処理のあらゆるタスクで圧倒的な性能を示すことが知られています。\n",
    "\n",
    "原論文：[Attention is All You Need](https://arxiv.org/abs/1706.03762)\n",
    "\n",
    "参考実装：https://github.com/jadore801120/attention-is-all-you-need-pytorch"
   ]
  },
  {
   "cell_type": "code",
   "execution_count": 40,
   "id": "514e81b6",
   "metadata": {},
   "outputs": [],
   "source": [
    "import time\n",
    "import numpy as np\n",
    "from sklearn.utils import shuffle\n",
    "from sklearn.model_selection import train_test_split\n",
    "import matplotlib\n",
    "import matplotlib.pyplot as plt\n",
    "import seaborn as sns\n",
    "%matplotlib inline\n",
    "\n",
    "from nltk import bleu_score\n",
    "\n",
    "import torch\n",
    "import torch.nn as nn\n",
    "import torch.optim as optim\n",
    "import torch.nn.functional as F\n",
    "\n",
    "from utils import Vocab\n",
    "\n",
    "device = torch.device(\"cuda\" if torch.cuda.is_available() else \"cpu\")\n",
    "\n",
    "torch.manual_seed(1)\n",
    "random_state = 42"
   ]
  },
  {
   "cell_type": "code",
   "execution_count": 41,
   "id": "7430e01a",
   "metadata": {},
   "outputs": [
    {
     "name": "stdout",
     "output_type": "stream",
     "text": [
      "1.8.2+cpu\n"
     ]
    }
   ],
   "source": [
    "print(torch.__version__)"
   ]
  },
  {
   "cell_type": "code",
   "execution_count": 42,
   "id": "1c32b32a",
   "metadata": {},
   "outputs": [],
   "source": [
    "PAD = 0\n",
    "UNK = 1\n",
    "BOS = 2\n",
    "EOS = 3\n",
    "\n",
    "PAD_TOKEN = '<PAD>'\n",
    "UNK_TOKEN = '<UNK>'\n",
    "BOS_TOKEN = '<S>'\n",
    "EOS_TOKEN = '</S>'"
   ]
  },
  {
   "cell_type": "code",
   "execution_count": 43,
   "id": "9c8cf522",
   "metadata": {},
   "outputs": [],
   "source": [
    "def load_data(file_path):\n",
    "    \"\"\"\n",
    "    テキストファイルからデータを読み込む\n",
    "    :param file_path: str, テキストファイルのパス\n",
    "    :return data: list, 文章（単語のリスト）のリスト\n",
    "    \"\"\"\n",
    "    data = []\n",
    "    for line in open(file_path, encoding='utf-8'):\n",
    "        words = line.strip().split()  # スペースで単語を分割\n",
    "        data.append(words)\n",
    "    return data"
   ]
  },
  {
   "cell_type": "code",
   "execution_count": 44,
   "id": "2afd59fd",
   "metadata": {},
   "outputs": [],
   "source": [
    "train_X = load_data('./data/train.en')\n",
    "train_Y = load_data('./data/train.ja')"
   ]
  },
  {
   "cell_type": "code",
   "execution_count": 45,
   "id": "5466946c",
   "metadata": {},
   "outputs": [],
   "source": [
    "# 訓練データと検証データに分割\n",
    "train_X, valid_X, train_Y, valid_Y = train_test_split(train_X, train_Y, test_size=0.2, random_state=random_state)"
   ]
  },
  {
   "cell_type": "code",
   "execution_count": 46,
   "id": "6edf485f",
   "metadata": {},
   "outputs": [
    {
     "name": "stdout",
     "output_type": "stream",
     "text": [
      "train_X: [['where', 'shall', 'we', 'eat', 'tonight', '?'], ['i', 'made', 'a', 'big', 'mistake', 'in', 'choosing', 'my', 'wife', '.'], ['i', \"'ll\", 'have', 'to', 'think', 'about', 'it', '.'], ['it', 'is', 'called', 'a', 'lily', '.'], ['could', 'you', 'lend', 'me', 'some', 'money', 'until', 'this', 'weekend', '?']]\n",
      "train_Y: [['今夜', 'は', 'どこ', 'で', '食事', 'を', 'し', 'よ', 'う', 'か', '。'], ['僕', 'は', '妻', 'を', '選', 'ぶ', 'の', 'に', '大変', 'な', '間違い', 'を', 'し', 'た', '。'], ['考え', 'と', 'く', 'よ', '。'], ['ｌｉｌｙ', 'と', '呼', 'ば', 'れ', 'て', 'い', 'ま', 'す', '。'], ['今週末', 'まで', 'いくら', 'か', '金', 'を', '貸', 'し', 'て', 'くれ', 'ま', 'せ', 'ん', 'か', '。']]\n"
     ]
    }
   ],
   "source": [
    "# データセットの中身を確認\n",
    "print('train_X:', train_X[:5])\n",
    "print('train_Y:', train_Y[:5])"
   ]
  },
  {
   "cell_type": "code",
   "execution_count": 47,
   "id": "c70b7b9c",
   "metadata": {},
   "outputs": [],
   "source": [
    "MIN_COUNT = 2  # 語彙に含める単語の最低出現回数\n",
    "\n",
    "word2id = {\n",
    "    PAD_TOKEN: PAD,\n",
    "    BOS_TOKEN: BOS,\n",
    "    EOS_TOKEN: EOS,\n",
    "    UNK_TOKEN: UNK,\n",
    "    }\n",
    "\n",
    "vocab_X = Vocab(word2id=word2id)\n",
    "vocab_Y = Vocab(word2id=word2id)\n",
    "vocab_X.build_vocab(train_X, min_count=MIN_COUNT)\n",
    "vocab_Y.build_vocab(train_Y, min_count=MIN_COUNT)\n",
    "\n",
    "vocab_size_X = len(vocab_X.id2word)\n",
    "vocab_size_Y = len(vocab_Y.id2word)"
   ]
  },
  {
   "cell_type": "code",
   "execution_count": 48,
   "id": "a3a2020c",
   "metadata": {},
   "outputs": [],
   "source": [
    "def sentence_to_ids(vocab, sentence):\n",
    "    \"\"\"\n",
    "    単語のリストをインデックスのリストに変換する\n",
    "    :param vocab: Vocabのインスタンス\n",
    "    :param sentence: list of str\n",
    "    :return indices: list of int\n",
    "    \"\"\"\n",
    "    ids = [vocab.word2id.get(word, UNK) for word in sentence]\n",
    "    ids = [BOS] + ids + [EOS]  # EOSを末尾に加える\n",
    "    return ids"
   ]
  },
  {
   "cell_type": "code",
   "execution_count": 49,
   "id": "e47c302b",
   "metadata": {},
   "outputs": [],
   "source": [
    "train_X = [sentence_to_ids(vocab_X, sentence) for sentence in train_X]\n",
    "train_Y = [sentence_to_ids(vocab_Y, sentence) for sentence in train_Y]\n",
    "valid_X = [sentence_to_ids(vocab_X, sentence) for sentence in valid_X]\n",
    "valid_Y = [sentence_to_ids(vocab_Y, sentence) for sentence in valid_Y]"
   ]
  },
  {
   "cell_type": "code",
   "execution_count": 50,
   "id": "fa5226f1",
   "metadata": {},
   "outputs": [],
   "source": [
    "class DataLoader(object):\n",
    "    def __init__(self, src_insts, tgt_insts, batch_size, shuffle=True):\n",
    "        \"\"\"\n",
    "        :param src_insts: list, 入力言語の文章（単語IDのリスト）のリスト\n",
    "        :param tgt_insts: list, 出力言語の文章（単語IDのリスト）のリスト\n",
    "        :param batch_size: int, バッチサイズ\n",
    "        :param shuffle: bool, サンプルの順番をシャッフルするか否か\n",
    "        \"\"\"\n",
    "        self.data = list(zip(src_insts, tgt_insts))\n",
    "\n",
    "        self.batch_size = batch_size\n",
    "        self.shuffle = shuffle\n",
    "        self.start_index = 0\n",
    "        \n",
    "        self.reset()\n",
    "    \n",
    "    def reset(self):\n",
    "        if self.shuffle:\n",
    "            self.data = shuffle(self.data, random_state=random_state)\n",
    "        self.start_index = 0\n",
    "    \n",
    "    def __iter__(self):\n",
    "        return self\n",
    "    \n",
    "    def __next__(self):\n",
    "\n",
    "        def preprocess_seqs(seqs):\n",
    "            # パディング\n",
    "            max_length = max([len(s) for s in seqs])\n",
    "            data = [s + [PAD] * (max_length - len(s)) for s in seqs]\n",
    "            # 単語の位置を表現するベクトルを作成\n",
    "            positions = [[pos+1 if w != PAD else 0 for pos, w in enumerate(seq)] for seq in data]\n",
    "            # テンソルに変換\n",
    "            data_tensor = torch.tensor(data, dtype=torch.long, device=device)\n",
    "            position_tensor = torch.tensor(positions, dtype=torch.long, device=device)\n",
    "            return data_tensor, position_tensor            \n",
    "\n",
    "        # ポインタが最後まで到達したら初期化する\n",
    "        if self.start_index >= len(self.data):\n",
    "            self.reset()\n",
    "            raise StopIteration()\n",
    "\n",
    "        # バッチを取得して前処理\n",
    "        src_seqs, tgt_seqs = zip(*self.data[self.start_index:self.start_index+self.batch_size])\n",
    "        src_data, src_pos = preprocess_seqs(src_seqs)\n",
    "        tgt_data, tgt_pos = preprocess_seqs(tgt_seqs)\n",
    "\n",
    "        # ポインタを更新する\n",
    "        self.start_index += self.batch_size\n",
    "\n",
    "        return (src_data, src_pos), (tgt_data, tgt_pos)"
   ]
  },
  {
   "cell_type": "markdown",
   "id": "c60ff676",
   "metadata": {},
   "source": [
    "## 2.各モジュールの定義\n",
    "TransformerのモデルもEncoder-Decoderモデルの構造になっています。\n",
    "EncoderとDecoderは\n",
    "- Positional Encoding: 入出力の単語のEmbedding時に単語の位置情報を埋め込む\n",
    "- Scaled Dot-Product Attention: 内積でAttentionを計算し、スケーリングを行う\n",
    "- Multi-head Attention: Scaled Dot-Product Attentionを複数のヘッドで並列化する\n",
    "- Position-Wise Feed Forward Network: 単語列の位置ごとに独立して処理を行う\n",
    "など、いくつかのモジュールから構成されているため、それぞれのモジュールを個別に定義していきます。\n",
    "\n",
    "### ① Position Encoding\n",
    "Transformerは系列の処理にRNNを使用しないので、そのままでは単語列の語順を考慮することができません。\n",
    "\n",
    "そのため、入力系列の埋め込み行列に単語の位置情報を埋め込むPosition Encodingを加算します。\n",
    "\n",
    "Positional Encodingの行列$PE$の各成分は次式で表されます。\n",
    "$PE_{(pos, 2i)} = \\sin(pos/10000^{2i/d_{model}})$\n",
    "\n",
    "$PE_{(pos, 2i+1)} = \\cos(pos/10000^{2i/d_{model}})$\n",
    "ここで$pos$は単語の位置を、$i$は成分の次元を表しています。\n",
    "\n",
    "Positional Encodingの各成分は、波長が$2\\pi$から$10000*2\\pi$に幾何学的に伸びる正弦波に対応します。"
   ]
  },
  {
   "cell_type": "code",
   "execution_count": 51,
   "id": "3b60bde6",
   "metadata": {},
   "outputs": [],
   "source": [
    "def position_encoding_init(n_position, d_pos_vec):\n",
    "    \"\"\"\n",
    "    Positional Encodingのための行列の初期化を行う\n",
    "    :param n_position: int, 系列長\n",
    "    :param d_pos_vec: int, 隠れ層の次元数\n",
    "    :return torch.tensor, size=(n_position, d_pos_vec)\n",
    "    \"\"\"\n",
    "    # PADがある単語の位置はpos=0にしておき、position_encも0にする\n",
    "    position_enc = np.array([\n",
    "        [pos / np.power(10000, 2 * (j // 2) / d_pos_vec) for j in range(d_pos_vec)]\n",
    "        if pos != 0 else np.zeros(d_pos_vec) for pos in range(n_position)])\n",
    "    position_enc[1:, 0::2] = np.sin(position_enc[1:, 0::2])  # dim 2i\n",
    "    position_enc[1:, 1::2] = np.cos(position_enc[1:, 1::2])  # dim 2i+1\n",
    "    return torch.tensor(position_enc, dtype=torch.float)"
   ]
  },
  {
   "cell_type": "markdown",
   "id": "3c187d7b",
   "metadata": {},
   "source": [
    "ちなみに、Position Encodingを可視化すると以下のようになります。"
   ]
  },
  {
   "cell_type": "code",
   "execution_count": 52,
   "id": "74d0f7eb",
   "metadata": {},
   "outputs": [
    {
     "data": {
      "image/png": "[encoded data removed]",
      "text/plain": [
       "<Figure size 1152x576 with 2 Axes>"
      ]
     },
     "metadata": {
      "needs_background": "light"
     },
     "output_type": "display_data"
    }
   ],
   "source": [
    "pe = position_encoding_init(50, 256).numpy()\n",
    "plt.figure(figsize=(16,8))\n",
    "sns.heatmap(pe, cmap='Blues')\n",
    "plt.show()"
   ]
  },
  {
   "cell_type": "markdown",
   "id": "baa31f98",
   "metadata": {},
   "source": [
    "縦軸が単語の位置を、横軸が成分の次元を表しており、濃淡が加算される値です。\n",
    "\n",
    "ここでは最大系列長を50、隠れ層の次元数を256としました。"
   ]
  },
  {
   "cell_type": "markdown",
   "id": "62cd494a",
   "metadata": {},
   "source": [
    "### ② Multihead Attention\n",
    "ソース・ターゲット注意機構と自己注意機構\n",
    "Attentionは一般に、queryベクトルとkeyベクトルの類似度を求めて、その正規化した重みをvalueベクトルに適用して値を取り出す処理を行います。\n",
    "\n",
    "一般的な翻訳モデルで用いられるAttentionはソース・ターゲット注意機構と呼ばれ、この場合queryはDecoderの隠れ状態(Target)、keyはEncoderの隠れ状態(Source)、valueもEncoderの隠れ状態(Source)で表現されるのが一般的です。モデル全体の図では、右側のDecoderブロックの中央にあるAttentionがこれに相当します。\n",
    "\n",
    "Transformerでは、このソース・ターゲット注意機構に加えて、query,key,valueを同じ系列内で定義する自己注意機構を用います。これにより、ある単語位置の出力を求める際にあらゆる位置を参照できるため、局所的な位置しか参照できない畳み込み層よりも良い性能を発揮できると言われています。モデル全体の図では、左側のEncoderブロックと右側のDecoderブロックの下部にあるAttentionがこれに当たります。\n",
    "\n",
    "Transformerでは、Scaled Dot-Product Attentionと呼ばれるAttentionを、複数のヘッドで並列に扱うMulti-Head Attentionによって、Source-Target-AttentionとSelf-Attentionを実現します。\n",
    "\n",
    "#### Scaled Dot-Product Attention\n",
    "Attentionには、注意の重みを隠れ層 1 つのフィードフォワードネットワークで求めるAdditive Attentionと、注意の重みを内積で求めるDot-Product Attentionが存在します。  一般に、Dot-Product Attentionのほうがパラメータが少なく高速であり、Transformerでもこちらを使います。\n",
    "\n",
    "\n",
    "Tranformerではさらなる工夫として、query($Q$)とkey($K$)の内積をスケーリング因子 $\\sqrt{d_k}$ で除算します。\n",
    "\n",
    "$Attention(Q, K, V) = softmax(\\frac{QK^T}{\\sqrt{d_k}})V$ \n",
    "\n",
    "\n",
    "これは、$d_k$（keyベクトルの次元数）が大きい場合に内積が大きくなりすぎて逆伝播のsoftmaxの勾配が極端に小さくなることを防ぐ役割を果たします。"
   ]
  },
  {
   "cell_type": "code",
   "execution_count": 53,
   "id": "c6a07c22",
   "metadata": {},
   "outputs": [],
   "source": [
    "class ScaledDotProductAttention(nn.Module):\n",
    "    \n",
    "    def __init__(self, d_model, attn_dropout=0.1):\n",
    "        \"\"\"\n",
    "        :param d_model: int, 隠れ層の次元数\n",
    "        :param attn_dropout: float, ドロップアウト率\n",
    "        \"\"\"\n",
    "        super(ScaledDotProductAttention, self).__init__()\n",
    "        self.temper = np.power(d_model, 0.5)  # スケーリング因子\n",
    "        self.dropout = nn.Dropout(attn_dropout)\n",
    "        self.softmax = nn.Softmax(dim=-1)\n",
    "\n",
    "    def forward(self, q, k, v, attn_mask):\n",
    "        \"\"\"\n",
    "        :param q: torch.tensor, queryベクトル, \n",
    "            size=(n_head*batch_size, len_q, d_model/n_head)\n",
    "        :param k: torch.tensor, key, \n",
    "            size=(n_head*batch_size, len_k, d_model/n_head)\n",
    "        :param v: torch.tensor, valueベクトル, \n",
    "            size=(n_head*batch_size, len_v, d_model/n_head)\n",
    "        :param attn_mask: torch.tensor, Attentionに適用するマスク, \n",
    "            size=(n_head*batch_size, len_q, len_k)\n",
    "        :return output: 出力ベクトル, \n",
    "            size=(n_head*batch_size, len_q, d_model/n_head)\n",
    "        :return attn: Attention\n",
    "            size=(n_head*batch_size, len_q, len_k)\n",
    "        \"\"\"\n",
    "        # QとKの内積でAttentionの重みを求め、スケーリングする\n",
    "        attn = torch.bmm(q, k.transpose(1, 2)) / self.temper  # (n_head*batch_size, len_q, len_k)\n",
    "        # Attentionをかけたくない部分がある場合は、その部分を負の無限大に飛ばしてSoftmaxの値が0になるようにする\n",
    "        attn.data.masked_fill_(attn_mask, -float('inf'))\n",
    "        \n",
    "        attn = self.softmax(attn)\n",
    "        attn = self.dropout(attn)\n",
    "        output = torch.bmm(attn, v)\n",
    "\n",
    "        return output, attn"
   ]
  },
  {
   "cell_type": "markdown",
   "id": "8c330106",
   "metadata": {},
   "source": [
    "#### Multi-Head Attention\n",
    "TransformerではAttentionを複数のヘッドで並列に行うMulti-Head Attentionを採用しています。\n",
    "\n",
    "複数のヘッドでAttentionを行うことにより、各ヘッドが異なる部分空間を処理でき、精度が向上するとされています。"
   ]
  },
  {
   "cell_type": "code",
   "execution_count": 54,
   "id": "6caec236",
   "metadata": {},
   "outputs": [],
   "source": [
    "class MultiHeadAttention(nn.Module):\n",
    "    def __init__(self, n_head, d_model, d_k, d_v, dropout=0.1):\n",
    "        \"\"\"\n",
    "        :param n_head: int, ヘッド数\n",
    "        :param d_model: int, 隠れ層の次元数\n",
    "        :param d_k: int, keyベクトルの次元数\n",
    "        :param d_v: int, valueベクトルの次元数\n",
    "        :param dropout: float, ドロップアウト率\n",
    "        \"\"\"\n",
    "        super(MultiHeadAttention, self).__init__()\n",
    "\n",
    "        self.n_head = n_head\n",
    "        self.d_k = d_k\n",
    "        self.d_v = d_v\n",
    "\n",
    "        # 各ヘッドごとに異なる重みで線形変換を行うための重み\n",
    "        # nn.Parameterを使うことで、Moduleのパラメータとして登録できる. TFでは更新が必要な変数はtf.Variableでラップするのでわかりやすい\n",
    "        self.w_qs = nn.Parameter(torch.empty([n_head, d_model, d_k], dtype=torch.float))\n",
    "        self.w_ks = nn.Parameter(torch.empty([n_head, d_model, d_k], dtype=torch.float))\n",
    "        self.w_vs = nn.Parameter(torch.empty([n_head, d_model, d_v], dtype=torch.float))\n",
    "        # nn.init.xavier_normal_で重みの値を初期化\n",
    "        nn.init.xavier_normal_(self.w_qs)\n",
    "        nn.init.xavier_normal_(self.w_ks)\n",
    "        nn.init.xavier_normal_(self.w_vs)\n",
    "\n",
    "        self.attention = ScaledDotProductAttention(d_model)\n",
    "        self.layer_norm = nn.LayerNorm(d_model) # 各層においてバイアスを除く活性化関数への入力を平均０、分散１に正則化\n",
    "        self.proj = nn.Linear(n_head*d_v, d_model)  # 複数ヘッド分のAttentionの結果を元のサイズに写像するための線形層\n",
    "        # nn.init.xavier_normal_で重みの値を初期化\n",
    "        nn.init.xavier_normal_(self.proj.weight)\n",
    "        \n",
    "        self.dropout = nn.Dropout(dropout)\n",
    "\n",
    "\n",
    "    def forward(self, q, k, v, attn_mask=None):\n",
    "        \"\"\"\n",
    "        :param q: torch.tensor, queryベクトル, \n",
    "            size=(batch_size, len_q, d_model)\n",
    "        :param k: torch.tensor, key, \n",
    "            size=(batch_size, len_k, d_model)\n",
    "        :param v: torch.tensor, valueベクトル, \n",
    "            size=(batch_size, len_v, d_model)\n",
    "        :param attn_mask: torch.tensor, Attentionに適用するマスク, \n",
    "            size=(batch_size, len_q, len_k)\n",
    "        :return outputs: 出力ベクトル, \n",
    "            size=(batch_size, len_q, d_model)\n",
    "        :return attns: Attention\n",
    "            size=(n_head*batch_size, len_q, len_k)\n",
    "            \n",
    "        \"\"\"\n",
    "        d_k, d_v = self.d_k, self.d_v\n",
    "        n_head = self.n_head\n",
    "\n",
    "        # residual connectionのための入力 出力に入力をそのまま加算する\n",
    "        residual = q\n",
    "\n",
    "        batch_size, len_q, d_model = q.size()\n",
    "        batch_size, len_k, d_model = k.size()\n",
    "        batch_size, len_v, d_model = v.size()\n",
    "\n",
    "        # 複数ヘッド化\n",
    "        # torch.repeat または .repeatで指定したdimに沿って同じテンソルを作成\n",
    "        q_s = q.repeat(n_head, 1, 1) # (n_head*batch_size, len_q, d_model)\n",
    "        k_s = k.repeat(n_head, 1, 1) # (n_head*batch_size, len_k, d_model)\n",
    "        v_s = v.repeat(n_head, 1, 1) # (n_head*batch_size, len_v, d_model)\n",
    "        # ヘッドごとに並列計算させるために、n_headをdim=0に、batch_sizeをdim=1に寄せる\n",
    "        q_s = q_s.view(n_head, -1, d_model) # (n_head, batch_size*len_q, d_model)\n",
    "        k_s = k_s.view(n_head, -1, d_model) # (n_head, batch_size*len_k, d_model)\n",
    "        v_s = v_s.view(n_head, -1, d_model) # (n_head, batch_size*len_v, d_model)\n",
    "\n",
    "        # 各ヘッドで線形変換を並列計算(p16左側`Linear`)\n",
    "        q_s = torch.bmm(q_s, self.w_qs)  # (n_head, batch_size*len_q, d_k)\n",
    "        k_s = torch.bmm(k_s, self.w_ks)  # (n_head, batch_size*len_k, d_k)\n",
    "        v_s = torch.bmm(v_s, self.w_vs)  # (n_head, batch_size*len_v, d_v)\n",
    "        # Attentionは各バッチ各ヘッドごとに計算させるためにbatch_sizeをdim=0に寄せる\n",
    "        q_s = q_s.view(-1, len_q, d_k)   # (n_head*batch_size, len_q, d_k)\n",
    "        k_s = k_s.view(-1, len_k, d_k)   # (n_head*batch_size, len_k, d_k)\n",
    "        v_s = v_s.view(-1, len_v, d_v)   # (n_head*batch_size, len_v, d_v)\n",
    "\n",
    "        # Attentionを計算(p16.左側`Scaled Dot-Product Attention * h`)\n",
    "        outputs, attns = self.attention(q_s, k_s, v_s, attn_mask=attn_mask.repeat(n_head, 1, 1))\n",
    "\n",
    "        # 各ヘッドの結果を連結(p16左側`Concat`)\n",
    "        # torch.splitでbatch_sizeごとのn_head個のテンソルに分割\n",
    "        outputs = torch.split(outputs, batch_size, dim=0)  # (batch_size, len_q, d_model) * n_head\n",
    "        # dim=-1で連結\n",
    "        outputs = torch.cat(outputs, dim=-1)  # (batch_size, len_q, d_model*n_head)\n",
    "\n",
    "        # residual connectionのために元の大きさに写像(p16左側`Linear`)\n",
    "        outputs = self.proj(outputs)  # (batch_size, len_q, d_model)\n",
    "        outputs = self.dropout(outputs)\n",
    "        outputs = self.layer_norm(outputs + residual)\n",
    "\n",
    "        return outputs, attns"
   ]
  },
  {
   "cell_type": "markdown",
   "id": "f39d1a04",
   "metadata": {},
   "source": [
    "### ③ Position-Wise Feed Forward Network\n",
    "単語列の位置ごとに独立して処理する2層のネットワークであるPosition-Wise Feed Forward Networkを定義します。"
   ]
  },
  {
   "cell_type": "code",
   "execution_count": 55,
   "id": "8bf12603",
   "metadata": {},
   "outputs": [],
   "source": [
    "class PositionwiseFeedForward(nn.Module):\n",
    "    \"\"\"\n",
    "    :param d_hid: int, 隠れ層1層目の次元数\n",
    "    :param d_inner_hid: int, 隠れ層2層目の次元数\n",
    "    :param dropout: float, ドロップアウト率\n",
    "    \"\"\"\n",
    "    def __init__(self, d_hid, d_inner_hid, dropout=0.1):\n",
    "        super(PositionwiseFeedForward, self).__init__()\n",
    "        # window size 1のconv層を定義することでPosition wiseな全結合層を実現する.\n",
    "        self.w_1 = nn.Conv1d(d_hid, d_inner_hid, 1)\n",
    "        self.w_2 = nn.Conv1d(d_inner_hid, d_hid, 1)\n",
    "        self.layer_norm = nn.LayerNorm(d_hid)\n",
    "        self.dropout = nn.Dropout(dropout)\n",
    "        self.relu = nn.ReLU()\n",
    "\n",
    "    def forward(self, x):\n",
    "        \"\"\"\n",
    "        :param x: torch.tensor,\n",
    "            size=(batch_size, max_length, d_hid)\n",
    "        :return: torch.tensor,\n",
    "            size=(batch_size, max_length, d_hid) \n",
    "        \"\"\"\n",
    "        residual = x\n",
    "        output = self.relu(self.w_1(x.transpose(1, 2)))\n",
    "        output = self.w_2(output).transpose(2, 1)\n",
    "        output = self.dropout(output)\n",
    "        return self.layer_norm(output + residual)"
   ]
  },
  {
   "cell_type": "markdown",
   "id": "17be1a89",
   "metadata": {},
   "source": [
    "### ④ Masking\n",
    "TransformerではAttentionに対して２つのマスクを定義します。\n",
    "\n",
    "一つはkey側の系列のPADトークンに対してAttentionを行わないようにするマスクです。"
   ]
  },
  {
   "cell_type": "code",
   "execution_count": 56,
   "id": "6ab02679",
   "metadata": {},
   "outputs": [],
   "source": [
    "def get_attn_padding_mask(seq_q, seq_k):\n",
    "    \"\"\"\n",
    "    keyのPADに対するattentionを0にするためのマスクを作成する\n",
    "    :param seq_q: tensor, queryの系列, size=(batch_size, len_q)\n",
    "    :param seq_k: tensor, keyの系列, size=(batch_size, len_k)\n",
    "    :return pad_attn_mask: tensor, size=(batch_size, len_q, len_k)\n",
    "    \"\"\"\n",
    "    batch_size, len_q = seq_q.size()\n",
    "    batch_size, len_k = seq_k.size()\n",
    "    pad_attn_mask = seq_k.data.eq(PAD).unsqueeze(1)   # (N, 1, len_k) PAD以外のidを全て0にする\n",
    "    pad_attn_mask = pad_attn_mask.expand(batch_size, len_q, len_k) # (N, len_q, len_k)\n",
    "    return pad_attn_mask"
   ]
  },
  {
   "cell_type": "code",
   "execution_count": 57,
   "id": "9bb840e4",
   "metadata": {},
   "outputs": [
    {
     "name": "stdout",
     "output_type": "stream",
     "text": [
      "query:\n",
      " tensor([[1, 2, 3]])\n",
      "key:\n",
      " tensor([[4, 5, 6, 7, 0]])\n",
      "mask:\n",
      " tensor([[[False, False, False, False,  True],\n",
      "         [False, False, False, False,  True],\n",
      "         [False, False, False, False,  True]]])\n"
     ]
    }
   ],
   "source": [
    "_seq_q = torch.tensor([[1, 2, 3]])\n",
    "_seq_k = torch.tensor([[4, 5, 6, 7, PAD]])\n",
    "_mask = get_attn_padding_mask(_seq_q, _seq_k)  # 行がquery、列がkeyに対応し、key側がPAD(=0)の時刻だけ1で他が0の行列ができる\n",
    "print('query:\\n', _seq_q)\n",
    "print('key:\\n', _seq_k)\n",
    "print('mask:\\n', _mask)"
   ]
  },
  {
   "cell_type": "markdown",
   "id": "d5d1f761",
   "metadata": {},
   "source": [
    "もう一つはDecoder側でSelf Attentionを行う際に、各時刻で未来の情報に対するAttentionを行わないようにするマスクです。"
   ]
  },
  {
   "cell_type": "code",
   "execution_count": 58,
   "id": "4c42a7f8",
   "metadata": {},
   "outputs": [],
   "source": [
    "def get_attn_subsequent_mask(seq):\n",
    "    \"\"\"\n",
    "    未来の情報に対するattentionを0にするためのマスクを作成する\n",
    "    :param seq: tensor, size=(batch_size, length)\n",
    "    :return subsequent_mask: tensor, size=(batch_size, length, length)\n",
    "    \"\"\"\n",
    "    attn_shape = (seq.size(1), seq.size(1))\n",
    "    # 上三角行列(diagonal=1: 対角線より上が1で下が0)\n",
    "    subsequent_mask = torch.triu(torch.ones(attn_shape, dtype=torch.uint8, device=device), diagonal=1)\n",
    "    subsequent_mask = subsequent_mask.repeat(seq.size(0), 1, 1)\n",
    "    return subsequent_mask"
   ]
  },
  {
   "cell_type": "code",
   "execution_count": 59,
   "id": "9c0bc50b",
   "metadata": {},
   "outputs": [
    {
     "name": "stdout",
     "output_type": "stream",
     "text": [
      "seq:\n",
      " tensor([[1, 2, 3, 4]])\n",
      "mask:\n",
      " tensor([[[0, 1, 1, 1],\n",
      "         [0, 0, 1, 1],\n",
      "         [0, 0, 0, 1],\n",
      "         [0, 0, 0, 0]]], dtype=torch.uint8)\n"
     ]
    }
   ],
   "source": [
    "_seq = torch.tensor([[1,2,3,4]])\n",
    "_mask = get_attn_subsequent_mask(_seq)  # 行がquery、列がkeyに対応し、queryより未来のkeyの値が1で他は0の行列ができいる\n",
    "print('seq:\\n', _seq)\n",
    "print('mask:\\n', _mask)"
   ]
  },
  {
   "cell_type": "markdown",
   "id": "ccb952e0",
   "metadata": {},
   "source": [
    "## 3. モデルの定義\n",
    "\n",
    "### Encoder\n",
    "これまで定義してきたサブレイヤーを統合して、Encoderを定義します。\n",
    "\n",
    "EncoderではSelf AttentionとPosition-Wise Feed Forward Networkからなるブロックを複数層繰り返すので、ブロックのクラスEncoderLayerを定義した後にEncoderを定義します。"
   ]
  },
  {
   "cell_type": "code",
   "execution_count": 60,
   "id": "2be94e1e",
   "metadata": {},
   "outputs": [],
   "source": [
    "class EncoderLayer(nn.Module):\n",
    "    \"\"\"Encoderのブロックのクラス\"\"\"\n",
    "    def __init__(self, d_model, d_inner_hid, n_head, d_k, d_v, dropout=0.1):\n",
    "        \"\"\"\n",
    "        :param d_model: int, 隠れ層の次元数\n",
    "        :param d_inner_hid: int, Position Wise Feed Forward Networkの隠れ層2層目の次元数\n",
    "        :param n_head: int,　ヘッド数\n",
    "        :param d_k: int, keyベクトルの次元数\n",
    "        :param d_v: int, valueベクトルの次元数\n",
    "        :param dropout: float, ドロップアウト率\n",
    "        \"\"\"\n",
    "        super(EncoderLayer, self).__init__()\n",
    "        # Encoder内のSelf-Attention\n",
    "        self.slf_attn = MultiHeadAttention(\n",
    "            n_head, d_model, d_k, d_v, dropout=dropout)\n",
    "        # Postionwise FFN\n",
    "        self.pos_ffn = PositionwiseFeedForward(d_model, d_inner_hid, dropout=dropout)\n",
    "\n",
    "    def forward(self, enc_input, slf_attn_mask=None):\n",
    "        \"\"\"\n",
    "        :param enc_input: tensor, Encoderの入力, \n",
    "            size=(batch_size, max_length, d_model)\n",
    "        :param slf_attn_mask: tensor, Self Attentionの行列にかけるマスク, \n",
    "            size=(batch_size, len_q, len_k)\n",
    "        :return enc_output: tensor, Encoderの出力, \n",
    "            size=(batch_size, max_length, d_model)\n",
    "        :return enc_slf_attn: tensor, EncoderのSelf Attentionの行列, \n",
    "            size=(n_head*batch_size, len_q, len_k)\n",
    "        \"\"\"\n",
    "        # Self-Attentionのquery, key, valueにはすべてEncoderの入力（enc_input）が入る\n",
    "        enc_output, enc_slf_attn = self.slf_attn(\n",
    "            enc_input, enc_input, enc_input, attn_mask=slf_attn_mask)\n",
    "        enc_output = self.pos_ffn(enc_output)\n",
    "        return enc_output, enc_slf_attn"
   ]
  },
  {
   "cell_type": "code",
   "execution_count": 61,
   "id": "aad6412e",
   "metadata": {},
   "outputs": [],
   "source": [
    "class Encoder(nn.Module):\n",
    "    \"\"\"EncoderLayerブロックからなるEncoderのクラス\"\"\"\n",
    "    def __init__(\n",
    "            self, n_src_vocab, max_length, n_layers=6, n_head=8, d_k=64, d_v=64,\n",
    "            d_word_vec=512, d_model=512, d_inner_hid=1024, dropout=0.1):\n",
    "        \"\"\"\n",
    "        :param n_src_vocab: int, 入力言語の語彙数\n",
    "        :param max_length: int, 最大系列長\n",
    "        :param n_layers: int, レイヤー数\n",
    "        :param n_head: int,　ヘッド数\n",
    "        :param d_k: int, keyベクトルの次元数\n",
    "        :param d_v: int, valueベクトルの次元数\n",
    "        :param d_word_vec: int, 単語の埋め込みの次元数\n",
    "        :param d_model: int, 隠れ層の次元数\n",
    "        :param d_inner_hid: int, Position Wise Feed Forward Networkの隠れ層2層目の次元数\n",
    "        :param dropout: float, ドロップアウト率        \n",
    "        \"\"\"\n",
    "        super(Encoder, self).__init__()\n",
    "\n",
    "        n_position = max_length + 1\n",
    "        self.max_length = max_length\n",
    "        self.d_model = d_model\n",
    "\n",
    "        # Positional Encodingを用いたEmbedding\n",
    "        self.position_enc = nn.Embedding(n_position, d_word_vec, padding_idx=PAD)\n",
    "        self.position_enc.weight.data = position_encoding_init(n_position, d_word_vec)\n",
    "\n",
    "        # 一般的なEmbedding\n",
    "        self.src_word_emb = nn.Embedding(n_src_vocab, d_word_vec, padding_idx=PAD)\n",
    "\n",
    "        # EncoderLayerをn_layers個積み重ねる\n",
    "        self.layer_stack = nn.ModuleList([\n",
    "            EncoderLayer(d_model, d_inner_hid, n_head, d_k, d_v, dropout=dropout)\n",
    "            for _ in range(n_layers)])\n",
    "\n",
    "    def forward(self, src_seq, src_pos):\n",
    "        \"\"\"\n",
    "        :param src_seq: tensor, 入力系列, \n",
    "            size=(batch_size, max_length)\n",
    "        :param src_pos: tensor, 入力系列の各単語の位置情報,\n",
    "            size=(batch_size, max_length)\n",
    "        :return enc_output: tensor, Encoderの最終出力, \n",
    "            size=(batch_size, max_length, d_model)\n",
    "        :return enc_slf_attns: list, EncoderのSelf Attentionの行列のリスト\n",
    "        \"\"\"\n",
    "        # 一般的な単語のEmbeddingを行う\n",
    "        enc_input = self.src_word_emb(src_seq)\n",
    "        # Positional EncodingのEmbeddingを加算する\n",
    "        enc_input += self.position_enc(src_pos)\n",
    "\n",
    "        enc_slf_attns = []\n",
    "        enc_output = enc_input\n",
    "        # key(=enc_input)のPADに対応する部分のみ1のマスクを作成\n",
    "        enc_slf_attn_mask = get_attn_padding_mask(src_seq, src_seq)\n",
    "\n",
    "        # n_layers個のEncoderLayerに入力を通す\n",
    "        for enc_layer in self.layer_stack:\n",
    "            enc_output, enc_slf_attn = enc_layer(\n",
    "                enc_output, slf_attn_mask=enc_slf_attn_mask)\n",
    "            enc_slf_attns += [enc_slf_attn]\n",
    "\n",
    "        return enc_output, enc_slf_attns"
   ]
  },
  {
   "cell_type": "markdown",
   "id": "8951242b",
   "metadata": {},
   "source": [
    "### Decoder\n",
    "\n",
    "Deocoderも同様にSelf Attention, Source-Target Attention, Position-Wise Feed Forward Networkからなるブロックを複数層繰り返ので、ブロックのクラスDecoderLayerを定義した後にDecoderを定義します。"
   ]
  },
  {
   "cell_type": "code",
   "execution_count": 62,
   "id": "b6d43cf7",
   "metadata": {},
   "outputs": [],
   "source": [
    "class DecoderLayer(nn.Module):\n",
    "    \"\"\"Decoderのブロックのクラス\"\"\"\n",
    "    def __init__(self, d_model, d_inner_hid, n_head, d_k, d_v, dropout=0.1):\n",
    "        \"\"\"\n",
    "        :param d_model: int, 隠れ層の次元数\n",
    "        :param d_inner_hid: int, Position Wise Feed Forward Networkの隠れ層2層目の次元数\n",
    "        :param n_head: int,　ヘッド数\n",
    "        :param d_k: int, keyベクトルの次元数\n",
    "        :param d_v: int, valueベクトルの次元数\n",
    "        :param dropout: float, ドロップアウト率\n",
    "        \"\"\"\n",
    "        super(DecoderLayer, self).__init__()\n",
    "        # Decoder内のSelf-Attention\n",
    "        self.slf_attn = MultiHeadAttention(n_head, d_model, d_k, d_v, dropout=dropout)\n",
    "        # Encoder-Decoder間のSource-Target Attention\n",
    "        self.enc_attn = MultiHeadAttention(n_head, d_model, d_k, d_v, dropout=dropout)\n",
    "        # Positionwise FFN\n",
    "        self.pos_ffn = PositionwiseFeedForward(d_model, d_inner_hid, dropout=dropout)\n",
    "\n",
    "    def forward(self, dec_input, enc_output, slf_attn_mask=None, dec_enc_attn_mask=None):\n",
    "        \"\"\"\n",
    "        :param dec_input: tensor, Decoderの入力, \n",
    "            size=(batch_size, max_length, d_model)\n",
    "        :param enc_output: tensor, Encoderの出力, \n",
    "            size=(batch_size, max_length, d_model)\n",
    "        :param slf_attn_mask: tensor, Self Attentionの行列にかけるマスク, \n",
    "            size=(batch_size, len_q, len_k)\n",
    "        :param dec_enc_attn_mask: tensor, Soutce-Target Attentionの行列にかけるマスク, \n",
    "            size=(batch_size, len_q, len_k)\n",
    "        :return dec_output: tensor, Decoderの出力, \n",
    "            size=(batch_size, max_length, d_model)\n",
    "        :return dec_slf_attn: tensor, DecoderのSelf Attentionの行列, \n",
    "            size=(n_head*batch_size, len_q, len_k)\n",
    "        :return dec_enc_attn: tensor, DecoderのSoutce-Target Attentionの行列, \n",
    "            size=(n_head*batch_size, len_q, len_k)\n",
    "        \"\"\"\n",
    "        # Self-Attentionのquery, key, valueにはすべてDecoderの入力（dec_input）が入る\n",
    "        dec_output, dec_slf_attn = self.slf_attn(\n",
    "            dec_input, dec_input, dec_input, attn_mask=slf_attn_mask)\n",
    "        # Source-Target-AttentionのqueryにはDecoderの出力(dec_output), key, valueにはEncoderの出力（enc_output）が入る\n",
    "        dec_output, dec_enc_attn = self.enc_attn(\n",
    "            dec_output, enc_output, enc_output, attn_mask=dec_enc_attn_mask)\n",
    "        dec_output = self.pos_ffn(dec_output)\n",
    "\n",
    "        return dec_output, dec_slf_attn, dec_enc_attn"
   ]
  },
  {
   "cell_type": "code",
   "execution_count": 63,
   "id": "28185c95",
   "metadata": {},
   "outputs": [],
   "source": [
    "class Decoder(nn.Module):\n",
    "    \"\"\"DecoderLayerブロックからなるDecoderのクラス\"\"\"\n",
    "    def __init__(\n",
    "            self, n_tgt_vocab, max_length, n_layers=6, n_head=8, d_k=64, d_v=64,\n",
    "            d_word_vec=512, d_model=512, d_inner_hid=1024, dropout=0.1):\n",
    "        \"\"\"\n",
    "        :param n_tgt_vocab: int, 出力言語の語彙数\n",
    "        :param max_length: int, 最大系列長\n",
    "        :param n_layers: int, レイヤー数\n",
    "        :param n_head: int,　ヘッド数\n",
    "        :param d_k: int, keyベクトルの次元数\n",
    "        :param d_v: int, valueベクトルの次元数\n",
    "        :param d_word_vec: int, 単語の埋め込みの次元数\n",
    "        :param d_model: int, 隠れ層の次元数\n",
    "        :param d_inner_hid: int, Position Wise Feed Forward Networkの隠れ層2層目の次元数\n",
    "        :param dropout: float, ドロップアウト率        \n",
    "        \"\"\"\n",
    "        super(Decoder, self).__init__()\n",
    "        n_position = max_length + 1\n",
    "        self.max_length = max_length\n",
    "        self.d_model = d_model\n",
    "\n",
    "        # Positional Encodingを用いたEmbedding\n",
    "        self.position_enc = nn.Embedding(\n",
    "            n_position, d_word_vec, padding_idx=PAD)\n",
    "        self.position_enc.weight.data = position_encoding_init(n_position, d_word_vec)\n",
    "\n",
    "        # 一般的なEmbedding\n",
    "        self.tgt_word_emb = nn.Embedding(\n",
    "            n_tgt_vocab, d_word_vec, padding_idx=PAD)\n",
    "        self.dropout = nn.Dropout(dropout)\n",
    "\n",
    "        # DecoderLayerをn_layers個積み重ねる\n",
    "        self.layer_stack = nn.ModuleList([\n",
    "            DecoderLayer(d_model, d_inner_hid, n_head, d_k, d_v, dropout=dropout)\n",
    "            for _ in range(n_layers)])\n",
    "\n",
    "    def forward(self, tgt_seq, tgt_pos, src_seq, enc_output):\n",
    "        \"\"\"\n",
    "        :param tgt_seq: tensor, 出力系列, \n",
    "            size=(batch_size, max_length)\n",
    "        :param tgt_pos: tensor, 出力系列の各単語の位置情報,\n",
    "            size=(batch_size, max_length)\n",
    "        :param src_seq: tensor, 入力系列, \n",
    "            size=(batch_size, n_src_vocab)\n",
    "        :param enc_output: tensor, Encoderの出力, \n",
    "            size=(batch_size, max_length, d_model)\n",
    "        :return dec_output: tensor, Decoderの最終出力, \n",
    "            size=(batch_size, max_length, d_model)\n",
    "        :return dec_slf_attns: list, DecoderのSelf Attentionの行列のリスト \n",
    "        :return dec_slf_attns: list, DecoderのSelf Attentionの行列のリスト\n",
    "        \"\"\"\n",
    "        # 一般的な単語のEmbeddingを行う\n",
    "        dec_input = self.tgt_word_emb(tgt_seq)\n",
    "        # Positional EncodingのEmbeddingを加算する\n",
    "        dec_input += self.position_enc(tgt_pos)\n",
    "\n",
    "        # Self-Attention用のマスクを作成\n",
    "        # key(=dec_input)のPADに対応する部分が1のマスクと、queryから見たkeyの未来の情報に対応する部分が1のマスクのORをとる\n",
    "        dec_slf_attn_pad_mask = get_attn_padding_mask(tgt_seq, tgt_seq)  # (N, max_length, max_length)\n",
    "        dec_slf_attn_sub_mask = get_attn_subsequent_mask(tgt_seq)  # (N, max_length, max_length)\n",
    "        dec_slf_attn_mask = torch.gt(dec_slf_attn_pad_mask + dec_slf_attn_sub_mask, 0)  # ORをとる\n",
    "\n",
    "        # key(=dec_input)のPADに対応する部分のみ1のマスクを作成\n",
    "        dec_enc_attn_pad_mask = get_attn_padding_mask(tgt_seq, src_seq)  # (N, max_length, max_length)\n",
    "\n",
    "        dec_slf_attns, dec_enc_attns = [], []\n",
    "\n",
    "        dec_output = dec_input\n",
    "        # n_layers個のDecoderLayerに入力を通す\n",
    "        for dec_layer in self.layer_stack:\n",
    "            dec_output, dec_slf_attn, dec_enc_attn = dec_layer(\n",
    "                dec_output, enc_output,\n",
    "                slf_attn_mask=dec_slf_attn_mask,\n",
    "                dec_enc_attn_mask=dec_enc_attn_pad_mask)\n",
    "\n",
    "            dec_slf_attns += [dec_slf_attn]\n",
    "            dec_enc_attns += [dec_enc_attn]\n",
    "\n",
    "        return dec_output, dec_slf_attns, dec_enc_attns"
   ]
  },
  {
   "cell_type": "code",
   "execution_count": 64,
   "id": "e69ad9af",
   "metadata": {},
   "outputs": [],
   "source": [
    "class Transformer(nn.Module):\n",
    "    \"\"\"Transformerのモデル全体のクラス\"\"\"\n",
    "    def __init__(\n",
    "            self, n_src_vocab, n_tgt_vocab, max_length, n_layers=6, n_head=8,\n",
    "            d_word_vec=512, d_model=512, d_inner_hid=1024, d_k=64, d_v=64,\n",
    "            dropout=0.1, proj_share_weight=True):\n",
    "        \"\"\"\n",
    "        :param n_src_vocab: int, 入力言語の語彙数\n",
    "        :param n_tgt_vocab: int, 出力言語の語彙数\n",
    "        :param max_length: int, 最大系列長\n",
    "        :param n_layers: int, レイヤー数\n",
    "        :param n_head: int,　ヘッド数\n",
    "        :param d_k: int, keyベクトルの次元数\n",
    "        :param d_v: int, valueベクトルの次元数\n",
    "        :param d_word_vec: int, 単語の埋め込みの次元数\n",
    "        :param d_model: int, 隠れ層の次元数\n",
    "        :param d_inner_hid: int, Position Wise Feed Forward Networkの隠れ層2層目の次元数\n",
    "        :param dropout: float, ドロップアウト率        \n",
    "        :param proj_share_weight: bool, 出力言語の単語のEmbeddingと出力の写像で重みを共有する        \n",
    "        \"\"\"\n",
    "        super(Transformer, self).__init__()\n",
    "        self.encoder = Encoder(\n",
    "            n_src_vocab, max_length, n_layers=n_layers, n_head=n_head,\n",
    "            d_word_vec=d_word_vec, d_model=d_model,\n",
    "            d_inner_hid=d_inner_hid, dropout=dropout)\n",
    "        self.decoder = Decoder(\n",
    "            n_tgt_vocab, max_length, n_layers=n_layers, n_head=n_head,\n",
    "            d_word_vec=d_word_vec, d_model=d_model,\n",
    "            d_inner_hid=d_inner_hid, dropout=dropout)\n",
    "        self.tgt_word_proj = nn.Linear(d_model, n_tgt_vocab, bias=False)\n",
    "        nn.init.xavier_normal_(self.tgt_word_proj.weight)\n",
    "        self.dropout = nn.Dropout(dropout)\n",
    "\n",
    "        assert d_model == d_word_vec  # 各モジュールの出力のサイズは揃える\n",
    "\n",
    "        if proj_share_weight:\n",
    "            # 出力言語の単語のEmbeddingと出力の写像で重みを共有する\n",
    "            assert d_model == d_word_vec\n",
    "            self.tgt_word_proj.weight = self.decoder.tgt_word_emb.weight\n",
    "\n",
    "    def get_trainable_parameters(self):\n",
    "        # Positional Encoding以外のパラメータを更新する\n",
    "        enc_freezed_param_ids = set(map(id, self.encoder.position_enc.parameters()))\n",
    "        dec_freezed_param_ids = set(map(id, self.decoder.position_enc.parameters()))\n",
    "        freezed_param_ids = enc_freezed_param_ids | dec_freezed_param_ids\n",
    "        return (p for p in self.parameters() if id(p) not in freezed_param_ids)\n",
    "\n",
    "    def forward(self, src, tgt):\n",
    "        src_seq, src_pos = src\n",
    "        tgt_seq, tgt_pos = tgt\n",
    "\n",
    "        src_seq = src_seq[:, 1:]\n",
    "        src_pos = src_pos[:, 1:]\n",
    "        tgt_seq = tgt_seq[:, :-1]\n",
    "        tgt_pos = tgt_pos[:, :-1]\n",
    "\n",
    "        enc_output, *_ = self.encoder(src_seq, src_pos)\n",
    "        dec_output, *_ = self.decoder(tgt_seq, tgt_pos, src_seq, enc_output)\n",
    "        seq_logit = self.tgt_word_proj(dec_output)\n",
    "\n",
    "        return seq_logit"
   ]
  },
  {
   "cell_type": "markdown",
   "id": "10ae9e77",
   "metadata": {},
   "source": [
    "## 4. 学習"
   ]
  },
  {
   "cell_type": "code",
   "execution_count": 65,
   "id": "9cde92f8",
   "metadata": {},
   "outputs": [],
   "source": [
    "def compute_loss(batch_X, batch_Y, model, criterion, optimizer=None, is_train=True):\n",
    "    # バッチの損失を計算\n",
    "    model.train(is_train)\n",
    "    \n",
    "    pred_Y = model(batch_X, batch_Y)\n",
    "    gold = batch_Y[0][:, 1:].contiguous()\n",
    "#     gold = batch_Y[0].contiguous()\n",
    "    loss = criterion(pred_Y.view(-1, pred_Y.size(2)), gold.view(-1))\n",
    "\n",
    "    if is_train:  # 訓練時はパラメータを更新\n",
    "        optimizer.zero_grad()\n",
    "        loss.backward()\n",
    "        optimizer.step()\n",
    "\n",
    "    gold = gold.data.cpu().numpy().tolist()\n",
    "    pred = pred_Y.max(dim=-1)[1].data.cpu().numpy().tolist()\n",
    "\n",
    "    return loss.item(), gold, pred"
   ]
  },
  {
   "cell_type": "code",
   "execution_count": 66,
   "id": "b2ddcdef",
   "metadata": {},
   "outputs": [],
   "source": [
    "MAX_LENGTH = 20\n",
    "batch_size = 64\n",
    "num_epochs = 15\n",
    "lr = 0.001\n",
    "ckpt_path = 'transformer.pth'\n",
    "max_length = MAX_LENGTH + 2"
   ]
  },
  {
   "cell_type": "code",
   "execution_count": 67,
   "id": "2fa8e571",
   "metadata": {},
   "outputs": [],
   "source": [
    "model_args = {\n",
    "    'n_src_vocab': vocab_size_X,\n",
    "    'n_tgt_vocab': vocab_size_Y,\n",
    "    'max_length': max_length,\n",
    "    'proj_share_weight': True,\n",
    "    'd_k': 32,\n",
    "    'd_v': 32,\n",
    "    'd_model': 128,\n",
    "    'd_word_vec': 128,\n",
    "    'd_inner_hid': 256,\n",
    "    'n_layers': 3,\n",
    "    'n_head': 6,\n",
    "    'dropout': 0.1,\n",
    "}"
   ]
  },
  {
   "cell_type": "code",
   "execution_count": 68,
   "id": "f316602f",
   "metadata": {},
   "outputs": [
    {
     "name": "stderr",
     "output_type": "stream",
     "text": [
      "C:\\Users\\takas\\anaconda3\\envs\\ml\\lib\\site-packages\\torch\\nn\\_reduction.py:42: UserWarning: size_average and reduce args will be deprecated, please use reduction='sum' instead.\n",
      "  warnings.warn(warning.format(ret))\n"
     ]
    }
   ],
   "source": [
    "# DataLoaderやモデルを定義\n",
    "train_dataloader = DataLoader(\n",
    "    train_X, train_Y, batch_size\n",
    "    )\n",
    "valid_dataloader = DataLoader(\n",
    "    valid_X, valid_Y, batch_size, \n",
    "    shuffle=False\n",
    "    )\n",
    "\n",
    "model = Transformer(**model_args).to(device)\n",
    "\n",
    "optimizer = optim.Adam(model.get_trainable_parameters(), lr=lr)\n",
    "\n",
    "criterion = nn.CrossEntropyLoss(ignore_index=PAD, size_average=False).to(device)"
   ]
  },
  {
   "cell_type": "code",
   "execution_count": 69,
   "id": "37272066",
   "metadata": {},
   "outputs": [],
   "source": [
    "def calc_bleu(refs, hyps):\n",
    "    \"\"\"\n",
    "    BLEUスコアを計算する関数\n",
    "    :param refs: list, 参照訳。単語のリストのリスト (例： [['I', 'have', 'a', 'pen'], ...])\n",
    "    :param hyps: list, モデルの生成した訳。単語のリストのリスト (例： [['I', 'have', 'a', 'pen'], ...])\n",
    "    :return: float, BLEUスコア(0~100)\n",
    "    \"\"\"\n",
    "    refs = [[ref[:ref.index(EOS)]] for ref in refs]\n",
    "    hyps = [hyp[:hyp.index(EOS)] if EOS in hyp else hyp for hyp in hyps]\n",
    "    return 100 * bleu_score.corpus_bleu(refs, hyps)"
   ]
  },
  {
   "cell_type": "code",
   "execution_count": 70,
   "id": "30bf49d6",
   "metadata": {},
   "outputs": [
    {
     "name": "stdout",
     "output_type": "stream",
     "text": [
      "Epoch 1 [3.3min]: train_loss: 77.49  train_bleu: 4.61  valid_loss: 41.30  valid_bleu: 10.62\n",
      "--------------------------------------------------------------------------------\n",
      "Epoch 2 [3.3min]: train_loss: 39.31  train_bleu: 12.33  valid_loss: 32.10  valid_bleu: 17.69\n",
      "--------------------------------------------------------------------------------\n",
      "Epoch 3 [3.3min]: train_loss: 31.82  train_bleu: 18.13  valid_loss: 28.00  valid_bleu: 22.11\n",
      "--------------------------------------------------------------------------------\n",
      "Epoch 4 [3.3min]: train_loss: 28.15  train_bleu: 21.78  valid_loss: 25.68  valid_bleu: 24.99\n",
      "--------------------------------------------------------------------------------\n",
      "Epoch 5 [3.3min]: train_loss: 25.71  train_bleu: 24.50  valid_loss: 24.28  valid_bleu: 26.83\n",
      "--------------------------------------------------------------------------------\n",
      "Epoch 6 [3.3min]: train_loss: 23.88  train_bleu: 26.84  valid_loss: 22.91  valid_bleu: 29.09\n",
      "--------------------------------------------------------------------------------\n",
      "Epoch 7 [3.3min]: train_loss: 22.47  train_bleu: 28.63  valid_loss: 22.16  valid_bleu: 30.10\n",
      "--------------------------------------------------------------------------------\n",
      "Epoch 8 [3.3min]: train_loss: 21.33  train_bleu: 30.11  valid_loss: 21.56  valid_bleu: 31.04\n",
      "--------------------------------------------------------------------------------\n",
      "Epoch 9 [3.3min]: train_loss: 20.27  train_bleu: 31.56  valid_loss: 20.99  valid_bleu: 31.99\n",
      "--------------------------------------------------------------------------------\n",
      "Epoch 10 [3.3min]: train_loss: 19.41  train_bleu: 32.76  valid_loss: 20.31  valid_bleu: 33.36\n",
      "--------------------------------------------------------------------------------\n",
      "Epoch 11 [3.3min]: train_loss: 18.66  train_bleu: 33.90  valid_loss: 20.08  valid_bleu: 33.48\n",
      "--------------------------------------------------------------------------------\n",
      "Epoch 12 [3.3min]: train_loss: 17.92  train_bleu: 35.04  valid_loss: 19.86  valid_bleu: 33.88\n",
      "--------------------------------------------------------------------------------\n",
      "Epoch 13 [3.3min]: train_loss: 17.29  train_bleu: 35.99  valid_loss: 19.30  valid_bleu: 34.98\n",
      "--------------------------------------------------------------------------------\n",
      "Epoch 14 [3.3min]: train_loss: 16.73  train_bleu: 36.89  valid_loss: 19.30  valid_bleu: 34.72\n",
      "--------------------------------------------------------------------------------\n",
      "Epoch 15 [3.3min]: train_loss: 16.22  train_bleu: 37.64  valid_loss: 19.00  valid_bleu: 35.49\n",
      "--------------------------------------------------------------------------------\n"
     ]
    }
   ],
   "source": [
    "# 訓練\n",
    "best_valid_bleu = 0.\n",
    "\n",
    "for epoch in range(1, num_epochs+1):\n",
    "    start = time.time()\n",
    "    train_loss = 0.\n",
    "    train_refs = []\n",
    "    train_hyps = []\n",
    "    valid_loss = 0.\n",
    "    valid_refs = []\n",
    "    valid_hyps = []\n",
    "    # train\n",
    "    for batch in train_dataloader:\n",
    "        batch_X, batch_Y = batch\n",
    "        loss, gold, pred = compute_loss(\n",
    "            batch_X, batch_Y, model, criterion, optimizer, is_train=True\n",
    "            )\n",
    "        train_loss += loss\n",
    "        train_refs += gold\n",
    "        train_hyps += pred\n",
    "    # valid\n",
    "    for batch in valid_dataloader:\n",
    "        batch_X, batch_Y = batch\n",
    "        loss, gold, pred = compute_loss(\n",
    "            batch_X, batch_Y, model, criterion, is_train=False\n",
    "            )\n",
    "        valid_loss += loss\n",
    "        valid_refs += gold\n",
    "        valid_hyps += pred\n",
    "    # 損失をサンプル数で割って正規化\n",
    "    train_loss /= len(train_dataloader.data) \n",
    "    valid_loss /= len(valid_dataloader.data) \n",
    "    # BLEUを計算\n",
    "    train_bleu = calc_bleu(train_refs, train_hyps)\n",
    "    valid_bleu = calc_bleu(valid_refs, valid_hyps)\n",
    "\n",
    "    # validationデータでBLEUが改善した場合にはモデルを保存\n",
    "    if valid_bleu > best_valid_bleu:\n",
    "        ckpt = model.to('cpu').state_dict()\n",
    "        torch.save(ckpt, ckpt_path)\n",
    "        best_valid_bleu = valid_bleu\n",
    "\n",
    "    elapsed_time = (time.time()-start) / 60\n",
    "    print('Epoch {} [{:.1f}min]: train_loss: {:5.2f}  train_bleu: {:2.2f}  valid_loss: {:5.2f}  valid_bleu: {:2.2f}'.format(\n",
    "            epoch, elapsed_time, train_loss, train_bleu, valid_loss, valid_bleu))\n",
    "    print('-'*80)"
   ]
  },
  {
   "cell_type": "markdown",
   "id": "9941f8d6",
   "metadata": {},
   "source": [
    "## 5. 評価"
   ]
  },
  {
   "cell_type": "code",
   "execution_count": 71,
   "id": "ffeaab86",
   "metadata": {},
   "outputs": [],
   "source": [
    "def test(model, src, max_length=20):\n",
    "    # 学習済みモデルで系列を生成する\n",
    "    model.eval()\n",
    "    \n",
    "    src_seq, src_pos = src\n",
    "    batch_size = src_seq.size(0)\n",
    "    enc_output, enc_slf_attns = model.encoder(src_seq, src_pos)\n",
    "        \n",
    "    tgt_seq = torch.full([batch_size, 1], BOS, dtype=torch.long, device=device)\n",
    "    tgt_pos = torch.arange(1, dtype=torch.long, device=device)\n",
    "    tgt_pos = tgt_pos.unsqueeze(0).repeat(batch_size, 1)\n",
    "\n",
    "    # 時刻ごとに処理\n",
    "    for t in range(1, max_length+1):\n",
    "        dec_output, dec_slf_attns, dec_enc_attns = model.decoder(\n",
    "            tgt_seq, tgt_pos, src_seq, enc_output)\n",
    "        dec_output = model.tgt_word_proj(dec_output)\n",
    "        out = dec_output[:, -1, :].max(dim=-1)[1].unsqueeze(1)\n",
    "        # 自身の出力を次の時刻の入力にする\n",
    "        tgt_seq = torch.cat([tgt_seq, out], dim=-1)\n",
    "        tgt_pos = torch.arange(t+1, dtype=torch.long, device=device)\n",
    "        tgt_pos = tgt_pos.unsqueeze(0).repeat(batch_size, 1)\n",
    "\n",
    "    return tgt_seq[:, 1:], enc_slf_attns, dec_slf_attns, dec_enc_attns"
   ]
  },
  {
   "cell_type": "code",
   "execution_count": 72,
   "id": "c7b73d15",
   "metadata": {},
   "outputs": [],
   "source": [
    "def ids_to_sentence(vocab, ids):\n",
    "    # IDのリストを単語のリストに変換する\n",
    "    return [vocab.id2word[_id] for _id in ids]\n",
    "\n",
    "def trim_eos(ids):\n",
    "    # IDのリストからEOS以降の単語を除外する\n",
    "    if EOS in ids:\n",
    "        return ids[:ids.index(EOS)]\n",
    "    else:\n",
    "        return ids"
   ]
  },
  {
   "cell_type": "code",
   "execution_count": 73,
   "id": "9937babe",
   "metadata": {},
   "outputs": [
    {
     "data": {
      "text/plain": [
       "<All keys matched successfully>"
      ]
     },
     "execution_count": 73,
     "metadata": {},
     "output_type": "execute_result"
    }
   ],
   "source": [
    "# 学習済みモデルの読み込み\n",
    "model = Transformer(**model_args).to(device)\n",
    "ckpt = torch.load(ckpt_path , map_location=torch.device('cpu'))\n",
    "model.load_state_dict(ckpt)"
   ]
  },
  {
   "cell_type": "code",
   "execution_count": 74,
   "id": "8b35e347",
   "metadata": {},
   "outputs": [],
   "source": [
    "# テストデータの読み込み\n",
    "test_X = load_data('./data/dev.en')\n",
    "test_Y = load_data('./data/dev.ja')\n",
    "test_X = [sentence_to_ids(vocab_X, sentence) for sentence in test_X]\n",
    "test_Y = [sentence_to_ids(vocab_Y, sentence) for sentence in test_Y]"
   ]
  },
  {
   "cell_type": "markdown",
   "id": "89c69ff5",
   "metadata": {},
   "source": [
    "### 生成"
   ]
  },
  {
   "cell_type": "code",
   "execution_count": 75,
   "id": "dd8aa048",
   "metadata": {},
   "outputs": [],
   "source": [
    "test_dataloader = DataLoader(\n",
    "    test_X, test_Y, 1,\n",
    "    shuffle=False\n",
    "    )"
   ]
  },
  {
   "cell_type": "code",
   "execution_count": 76,
   "id": "e7c44fc9",
   "metadata": {},
   "outputs": [
    {
     "name": "stdout",
     "output_type": "stream",
     "text": [
      "src: show your own business .\n",
      "tgt: 自分 の 事 を しろ 。\n",
      "out: あなた の 顔 を <UNK> し て い た い 。\n"
     ]
    }
   ],
   "source": [
    "src, tgt = next(test_dataloader)\n",
    "\n",
    "src_ids = src[0][0].cpu().numpy()\n",
    "tgt_ids = tgt[0][0].cpu().numpy()\n",
    "\n",
    "print('src: {}'.format(' '.join(ids_to_sentence(vocab_X, src_ids[1:-1]))))\n",
    "print('tgt: {}'.format(' '.join(ids_to_sentence(vocab_Y, tgt_ids[1:-1]))))\n",
    "\n",
    "preds, enc_slf_attns, dec_slf_attns, dec_enc_attns = test(model, src)\n",
    "pred_ids = preds[0].data.cpu().numpy().tolist()\n",
    "print('out: {}'.format(' '.join(ids_to_sentence(vocab_Y, trim_eos(pred_ids)))))"
   ]
  },
  {
   "cell_type": "markdown",
   "id": "18814173",
   "metadata": {},
   "source": [
    "## BLEUの評価"
   ]
  },
  {
   "cell_type": "code",
   "execution_count": 77,
   "id": "0d7aa766",
   "metadata": {},
   "outputs": [
    {
     "name": "stdout",
     "output_type": "stream",
     "text": [
      "24.603488346979837\n"
     ]
    }
   ],
   "source": [
    "# BLEUの評価\n",
    "test_dataloader = DataLoader(\n",
    "    test_X, test_Y, 128,\n",
    "    shuffle=False\n",
    "    )\n",
    "refs_list = []\n",
    "hyp_list = []\n",
    "\n",
    "for batch in test_dataloader:\n",
    "    batch_X, batch_Y = batch\n",
    "    preds, *_ = test(model, batch_X)\n",
    "    preds = preds.data.cpu().numpy().tolist()\n",
    "    refs = batch_Y[0].data.cpu().numpy()[:, 1:].tolist()\n",
    "    refs_list += refs\n",
    "    hyp_list += preds\n",
    "bleu = calc_bleu(refs_list, hyp_list)\n",
    "print(bleu)"
   ]
  },
  {
   "cell_type": "code",
   "execution_count": null,
   "id": "1e99eaea",
   "metadata": {},
   "outputs": [],
   "source": []
  },
  {
   "cell_type": "code",
   "execution_count": null,
   "id": "98c668ce",
   "metadata": {},
   "outputs": [],
   "source": []
  },
  {
   "cell_type": "code",
   "execution_count": null,
   "id": "f11c8df1",
   "metadata": {},
   "outputs": [],
   "source": []
  }
 ],
 "metadata": {
  "kernelspec": {
   "display_name": "Python 3 (ipykernel)",
   "language": "python",
   "name": "python3"
  },
  "language_info": {
   "codemirror_mode": {
    "name": "ipython",
    "version": 3
   },
   "file_extension": ".py",
   "mimetype": "text/x-python",
   "name": "python",
   "nbconvert_exporter": "python",
   "pygments_lexer": "ipython3",
   "version": "3.9.7"
  }
 },
 "nbformat": 4,
 "nbformat_minor": 5
}
