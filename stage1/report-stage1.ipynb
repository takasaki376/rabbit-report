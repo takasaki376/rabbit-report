{
 "cells": [
  {
   "cell_type": "markdown",
   "metadata": {},
   "source": [
    "# 第１章：線形代数"
   ]
  },
  {
   "cell_type": "markdown",
   "metadata": {},
   "source": [
    "線形代数とは、線形という言葉から幾何的な要素と代数的な要素から成り立つ。  \n",
    "幾何的とは、まっすぐなものを扱う。  \n",
    "代数的とは、連立方程式をの解や性質を扱う。  "
   ]
  },
  {
   "cell_type": "markdown",
   "metadata": {},
   "source": [
    "## 代数の成り立ち"
   ]
  },
  {
   "cell_type": "markdown",
   "metadata": {},
   "source": [
    "連立方程式の解を求める際に、係数を行列とすると、行列の中に解や性質が詰まっている。  \n",
    "ベクトルの変換を行う。"
   ]
  },
  {
   "cell_type": "markdown",
   "metadata": {},
   "source": [
    "## 演算規則"
   ]
  },
  {
   "cell_type": "markdown",
   "metadata": {},
   "source": [
    "### 和\n",
    "同じ次元のベクトルに対して足し算を行う。"
   ]
  },
  {
   "cell_type": "markdown",
   "metadata": {},
   "source": [
    "$$ \\begin{aligned}\n",
    "  \\left(\n",
    "    \\begin{array}{c}\n",
    "      ｘ_1 \\\\\n",
    "      x_2 \\\\\n",
    "      \\vdots \\\\\n",
    "      x_n\n",
    "    \\end{array}\n",
    "  \\right) \n",
    "  +\n",
    "  \\left(\n",
    "    \\begin{array}{c}\n",
    "      y_1 \\\\\n",
    "      y_2 \\\\\n",
    "      \\vdots \\\\\n",
    "      y_n\n",
    "    \\end{array}\n",
    "  \\right) \n",
    "  =\n",
    "  \\left(\n",
    "    \\begin{array}{c}\n",
    "       x_1y_1 \\\\\n",
    "       x_2y_2 \\\\\n",
    "      \\vdots \\\\\n",
    "       x_ny_n\n",
    "    \\end{array}\n",
    "  \\right) \\\\\n",
    "\\end{aligned}$$"
   ]
  },
  {
   "cell_type": "markdown",
   "metadata": {},
   "source": [
    "### スカラー倍\n",
    "任意の定数$c$に対して、ベクトルをかける"
   ]
  },
  {
   "cell_type": "markdown",
   "metadata": {},
   "source": [
    "$$ \\begin{aligned}\n",
    "　　c\n",
    "  \\left(\n",
    "    \\begin{array}{c}\n",
    "      ｘ_1 \\\\\n",
    "      x_2 \\\\\n",
    "      \\vdots \\\\\n",
    "      x_n\n",
    "    \\end{array}\n",
    "  \\right) \n",
    "  =\n",
    "  \\left(\n",
    "    \\begin{array}{c}\n",
    "      cx_1 \\\\\n",
    "      cx_2 \\\\\n",
    "      \\vdots \\\\\n",
    "      cx_n\n",
    "    \\end{array}\n",
    "  \\right) \\\\\n",
    "\\end{aligned}$$"
   ]
  },
  {
   "cell_type": "markdown",
   "metadata": {},
   "source": [
    "## １章　１－５　連立方程式"
   ]
  },
  {
   "cell_type": "markdown",
   "metadata": {},
   "source": [
    "## 連立方程式と線形計算"
   ]
  },
  {
   "cell_type": "markdown",
   "metadata": {},
   "source": [
    "例\n",
    "\n",
    "\\begin{eqnarray}\n",
    "    \\begin{cases}\n",
    "        2 x_1 + 4 x_2 &= 6 \\\\[6px]\n",
    "        2 x_1 + 5 x_2 &= 5 \\\\[6px]\n",
    "    \\end{cases}\n",
    "\\end{eqnarray}\n",
    "\n",
    "もっとシンプルに$A\\vec{x}=\\vec{b}$という形式で記載したい。\n",
    "\n",
    "$$ \\begin{aligned}\n",
    "　　\\left(\n",
    "    \\begin{array}{cc}\n",
    "      2 & 4 \\\\\n",
    "      2 & 5 \\\\\n",
    "    \\end{array}\n",
    "  \\right) \n",
    "  \\left(\n",
    "    \\begin{array}{c}\n",
    "      ｘ_1 \\\\\n",
    "      x_2 \\\\\n",
    "    \\end{array}\n",
    "  \\right) \n",
    "  =\n",
    "  \\left(\n",
    "    \\begin{array}{c}\n",
    "      6 \\\\\n",
    "      5 \\\\\n",
    "    \\end{array}\n",
    "  \\right) \\\\\n",
    "\\end{aligned}$$\n"
   ]
  },
  {
   "cell_type": "markdown",
   "metadata": {},
   "source": [
    "1行目に$\\frac{1}{2}$倍を加える　：　$ \\begin{aligned}\n",
    "　　\\left(\n",
    "    \\begin{array}{cc}\n",
    "      \\frac{1}{2} & 0 \\\\\n",
    "      0 & 1 \\\\\n",
    "    \\end{array}\n",
    "  \\right) \n",
    "\\end{aligned}$ を左からかける\n",
    "\n",
    "$$ \\begin{aligned}\n",
    "　　\\left(\n",
    "    \\begin{array}{cc}\n",
    "      \\frac{1}{2} & 0 \\\\\n",
    "      0 & 1 \\\\\n",
    "    \\end{array}\n",
    "  \\right) \n",
    "  \\left(\n",
    "    \\begin{array}{cc}\n",
    "      2 & 4 \\\\\n",
    "      2 & 5 \\\\\n",
    "    \\end{array}\n",
    "  \\right) \n",
    "  \\left(\n",
    "    \\begin{array}{c}\n",
    "      ｘ_1 \\\\\n",
    "      x_2 \\\\\n",
    "    \\end{array}\n",
    "  \\right) \n",
    "  &=\n",
    "　　\\left(\n",
    "    \\begin{array}{cc}\n",
    "      \\frac{1}{2} & 0 \\\\\n",
    "      0 & 1 \\\\\n",
    "    \\end{array}\n",
    "  \\right) \n",
    "  \\left(\n",
    "    \\begin{array}{c}\n",
    "      6 \\\\\n",
    "      5 \\\\\n",
    "    \\end{array}\n",
    "  \\right) \\\\\n",
    "  \\left(\n",
    "    \\begin{array}{cc}\n",
    "      1 & 2 \\\\\n",
    "      2 & 5\\\\\n",
    "    \\end{array}\n",
    "  \\right) \n",
    "  \\left(\n",
    "    \\begin{array}{c}\n",
    "      ｘ_1 \\\\\n",
    "      x_2 \\\\\n",
    "    \\end{array}\n",
    "  \\right) \n",
    "  &=\n",
    "  \\left(\n",
    "    \\begin{array}{c}\n",
    "      3 \\\\\n",
    "      5\\\\\n",
    "    \\end{array}\n",
    "  \\right) \\\\\n",
    "\\end{aligned}$$"
   ]
  },
  {
   "cell_type": "markdown",
   "metadata": {},
   "source": [
    "2行目に１行目の$-2$倍を加える　：　$ \\begin{aligned}\n",
    "　　\\left(\n",
    "    \\begin{array}{cc}\n",
    "      1 & 0 \\\\\n",
    "      -2 & 1 \\\\\n",
    "    \\end{array}\n",
    "  \\right) \n",
    "\\end{aligned}$ を左からかける\n",
    "\n",
    "$$ \\begin{aligned}\n",
    "　　\\left(\n",
    "    \\begin{array}{cc}\n",
    "      1 & 0 \\\\\n",
    "      -2 & 1 \\\\\n",
    "    \\end{array}\n",
    "  \\right) \n",
    "  \\left(\n",
    "    \\begin{array}{cc}\n",
    "      1 & 2 \\\\\n",
    "      2 & 5 \\\\\n",
    "    \\end{array}\n",
    "  \\right) \n",
    "  \\left(\n",
    "    \\begin{array}{c}\n",
    "      ｘ_1 \\\\\n",
    "      x_2 \\\\\n",
    "    \\end{array}\n",
    "  \\right) \n",
    "  &=\n",
    "　　\\left(\n",
    "    \\begin{array}{cc}\n",
    "      1 & 0 \\\\\n",
    "      -2 & 1 \\\\\n",
    "    \\end{array}\n",
    "  \\right) \n",
    "  \\left(\n",
    "    \\begin{array}{c}\n",
    "      3 \\\\\n",
    "      5 \\\\\n",
    "    \\end{array}\n",
    "  \\right) \\\\\n",
    "  \\left(\n",
    "    \\begin{array}{cc}\n",
    "      1 & 2 \\\\\n",
    "      0 & 1\\\\\n",
    "    \\end{array}\n",
    "  \\right) \n",
    "  \\left(\n",
    "    \\begin{array}{c}\n",
    "      ｘ_1 \\\\\n",
    "      x_2 \\\\\n",
    "    \\end{array}\n",
    "  \\right) \n",
    "  &=\n",
    "  \\left(\n",
    "    \\begin{array}{c}\n",
    "      3 \\\\\n",
    "      -1\\\\\n",
    "    \\end{array}\n",
    "  \\right) \\\\\n",
    "\\end{aligned}$$"
   ]
  },
  {
   "cell_type": "markdown",
   "metadata": {},
   "source": [
    "1行目に2行目の$-2$倍を加える　：　$ \\begin{aligned}\n",
    "　　\\left(\n",
    "    \\begin{array}{cc}\n",
    "      1 & -2 \\\\\n",
    "      0 & 1 \\\\\n",
    "    \\end{array}\n",
    "  \\right) \n",
    "\\end{aligned}$ を左からかける\n",
    "\n",
    "$$ \\begin{aligned}\n",
    "　　\\left(\n",
    "    \\begin{array}{cc}\n",
    "      1 & -2 \\\\\n",
    "      0 & 1 \\\\\n",
    "    \\end{array}\n",
    "  \\right) \n",
    "  \\left(\n",
    "    \\begin{array}{cc}\n",
    "      1 & 2 \\\\\n",
    "      0 & 1 \\\\\n",
    "    \\end{array}\n",
    "  \\right) \n",
    "  \\left(\n",
    "    \\begin{array}{c}\n",
    "      ｘ_1 \\\\\n",
    "      x_2 \\\\\n",
    "    \\end{array}\n",
    "  \\right) \n",
    "  &=\n",
    "　　\\left(\n",
    "    \\begin{array}{cc}\n",
    "      1 & -2 \\\\\n",
    "      0 & 1 \\\\\n",
    "    \\end{array}\n",
    "  \\right) \n",
    "  \\left(\n",
    "    \\begin{array}{c}\n",
    "      3 \\\\\n",
    "      -1 \\\\\n",
    "    \\end{array}\n",
    "  \\right) \\\\\n",
    "  \\left(\n",
    "    \\begin{array}{cc}\n",
    "      1 & 0 \\\\\n",
    "      0 & 1 \\\\\n",
    "    \\end{array}\n",
    "  \\right) \n",
    "  \\left(\n",
    "    \\begin{array}{c}\n",
    "      ｘ_1 \\\\\n",
    "      x_2 \\\\\n",
    "    \\end{array}\n",
    "  \\right) \n",
    "  &=\n",
    "  \\left(\n",
    "    \\begin{array}{c}\n",
    "      5 \\\\\n",
    "      -1 \\\\\n",
    "    \\end{array}\n",
    "  \\right) \\\\\n",
    "\\end{aligned}$$"
   ]
  },
  {
   "cell_type": "markdown",
   "metadata": {},
   "source": [
    "### 行基本変形"
   ]
  },
  {
   "cell_type": "markdown",
   "metadata": {},
   "source": [
    "ｉ行目をc倍する\n",
    "\n",
    "\n",
    "$$\n",
    "Q_{i,c} = \\left(\n",
    "    \\begin{array}{ccccccc}\n",
    "      1 &  &  &  &  &  &     \\\\\n",
    "        & \\ddots  &  &  &  &  &     \\\\\n",
    "        & & 1 & &  &  &  &      \\\\\n",
    "        & &  & c  &  &  &  &      \\\\\n",
    "         & &  & & 1 &  &  &      \\\\\n",
    "       &  &  &  &  & \\ddots & \\\\\n",
    "       &  &  &  &  &  &  1 \\\\ \n",
    "    \\end{array}\n",
    "  \\right)\n",
    "$$"
   ]
  },
  {
   "cell_type": "markdown",
   "metadata": {},
   "source": [
    "s行目にt行目のc倍を加える\n",
    "\n",
    "$$\n",
    "R_{s,t,c} = \\left(\n",
    "    \\begin{array}{ccccccc}\n",
    "      1 &  &  &  &  &  &     \\\\\n",
    "        & \\ddots  &  &  &  &  &     \\\\\n",
    "        & & 1 & & c &  &  &      \\\\\n",
    "        & &  &　\\ddots   &  &  &  &      \\\\\n",
    "         & &  & & 1 &  &  &      \\\\\n",
    "       &  &  &  &  & \\ddots & \\\\\n",
    "       &  &  &  &  &  &  1 \\\\ \n",
    "    \\end{array}\n",
    "  \\right)\n",
    "$$"
   ]
  },
  {
   "cell_type": "markdown",
   "metadata": {},
   "source": [
    "p行目にq行目を入れ替える\n",
    "\n",
    "$$\n",
    "P_{p,q} = \\left(\n",
    "    \\begin{array}{ccccccc}\n",
    "      1 &  &  &  &  &  &     \\\\\n",
    "        & \\ddots  &  &  &  &  &     \\\\\n",
    "        & & 0 & & 1 &  &  &      \\\\\n",
    "        & &  &　\\ddots   &  &  &  &      \\\\\n",
    "         & & 1 & & 0 &  &  &      \\\\\n",
    "       &  &  &  &  & \\ddots & \\\\\n",
    "       &  &  &  &  &  &  1 \\\\ \n",
    "    \\end{array}\n",
    "  \\right)\n",
    "$$"
   ]
  },
  {
   "cell_type": "markdown",
   "metadata": {},
   "source": [
    "## １章　１－８　固有値、固有ベクトル"
   ]
  },
  {
   "cell_type": "markdown",
   "metadata": {},
   "source": [
    "ある行列 A に対して，以下のような式が成り立つような，特殊なベクトル $\\vec{x}$ と，右辺の係数 $\\lambda$ がある。\n",
    "\n",
    "$$\n",
    "A\\vec{x} = \\lambda\\vec{x}\n",
    "$$\n",
    "\n",
    "行列 A とその特殊なベクトル $\\vec{x}$ の積は，ただのスカラーの数 $\\lambda$ とその特殊なベクトル $\\vec{x}$ との積と同じ値になる。\n",
    "この特殊なベクト$\\vec{x}$ とその係数 $\\lambda$ を，行列 A に対する，固有ベクトル，固有値という。"
   ]
  },
  {
   "cell_type": "markdown",
   "metadata": {},
   "source": [
    "例\n",
    "\n",
    "$A = \\left(\n",
    "    \\begin{array}{cc}\n",
    "       1 & 4  \\\\\n",
    "       2 & 3  \\\\\n",
    "    \\end{array}\n",
    "  \\right)$ の固有値，固有ベクトルを求めよ"
   ]
  },
  {
   "cell_type": "markdown",
   "metadata": {},
   "source": [
    "### 固有値の求め方\n",
    "\n",
    "固有値：$\\lambda$、固有ベクトル：$\\vec{x}$を求める\n",
    "\n",
    "\\begin{eqnarray}  \n",
    "    A \\vec{x} &= \\lambda \\vec{x} \\\\[8pt]\n",
    "    (A - \\lambda I)\\vec{x} &= \\vec{0}\n",
    "\\end{eqnarray}\n",
    "\n",
    "$\\vec{x} \\neq \\vec{0}$より\n",
    "\n",
    "\\begin{eqnarray}\n",
    "   |A - \\lambda I| &= 0 \\\\[8pt]\n",
    "   \\left|\n",
    "        \\begin{array}{cc}\n",
    "            1 & 4 \\\\\n",
    "            2 & 3 \\\\\n",
    "        \\end{array}\n",
    "    \\right|\n",
    "    - \\lambda \n",
    "    \\left|\n",
    "        \\begin{array}{cc}\n",
    "        1 & 0 \\\\\n",
    "        0 & 1 \\\\\n",
    "        \\end{array}\n",
    "    \\right|\n",
    "    &= 0 \\\\[8pt]\n",
    "    \\left|\n",
    "        \\begin{array}{cc}\n",
    "            1 - \\lambda & 4 \\\\\n",
    "            2 & 3 - \\lambda \\\\\n",
    "        \\end{array}\n",
    "    \\right|\n",
    "    &= 0 \\\\[8pt]\n",
    "    (1 - \\lambda)(3 - \\lambda) - 4 \\times 2 &= 0 \\\\[8pt]\n",
    "    (\\lambda^2 - 4 \\lambda + 3) -8 &= 0 \\\\[8pt]\n",
    "    \\lambda^2 - 4 \\lambda -5 &= 0 \\\\[8pt]\n",
    "    (\\lambda + 1)(\\lambda - 5) &= 0\n",
    "\\end{eqnarray}\n",
    "\n",
    "つまり、固有値$\\lambda = -1 \\, or \\, 5$ となる。\n",
    "\n"
   ]
  },
  {
   "cell_type": "markdown",
   "metadata": {},
   "source": [
    "### 固有ベクトルを求め方\n",
    "\n",
    "### $\\lambda = 5$ の時、$(A - \\lambda I)\\vec{x} = \\vec{0}$ から\n",
    "\n",
    "\\begin{aligned}\n",
    "    A \\vec{x} &= \\lambda \\vec{x} \\\\[8pt]\n",
    "    \\left(\n",
    "        \\begin{array}{cc}\n",
    "            1 & 4 \\\\\n",
    "            2 & 3 \\\\\n",
    "        \\end{array}\n",
    "    \\right)\n",
    "    \\left(\n",
    "        \\begin{array}{c}\n",
    "            x_1 \\\\\n",
    "            x_2 \\\\\n",
    "        \\end{array}\n",
    "    \\right)\n",
    "    &= 5 \n",
    "     \\left(\n",
    "        \\begin{array}{c}\n",
    "            x_1 \\\\\n",
    "            x_2 \\\\\n",
    "        \\end{array}\n",
    "    \\right) \\\\[12pt]\n",
    "\\end{aligned}\n",
    "    \n",
    "$\\begin{cases}\n",
    "            x_1 + 4 x_2 = 5 x_1 \\\\[4pt]\n",
    "            2 x_1 + 3 x_2 = 5 x_2 \\\\\n",
    "    \\end{cases} \n",
    "$となり、\n",
    "$\\begin{cases}\n",
    "            -4 x_1 + 4 x_2 = 0 \\\\[4pt]\n",
    "            2 x_1 + -2 x_2 = 0 \\\\\n",
    "    \\end{cases} \n",
    "$　→\n",
    "$x_1 = x_2$が求まる。\n"
   ]
  },
  {
   "cell_type": "markdown",
   "metadata": {},
   "source": [
    "### $\\lambda = -1$ の時、$(A - \\lambda I)\\vec{x} = \\vec{0}$ から\n",
    "\n",
    "\\begin{aligned}\n",
    "    A \\vec{x} &= \\lambda \\vec{x} \\\\[8pt]\n",
    "    \\left(\n",
    "        \\begin{array}{cc}\n",
    "            1 & 4 \\\\\n",
    "            2 & 3 \\\\\n",
    "        \\end{array}\n",
    "    \\right)\n",
    "    \\left(\n",
    "        \\begin{array}{c}\n",
    "            x_1 \\\\\n",
    "            x_2 \\\\\n",
    "        \\end{array}\n",
    "    \\right)\n",
    "    &= -1 \n",
    "     \\left(\n",
    "        \\begin{array}{c}\n",
    "            x_1 \\\\\n",
    "            x_2 \\\\\n",
    "        \\end{array}\n",
    "    \\right) \\\\[12pt]\n",
    "\\end{aligned}\n",
    "\n",
    "$\\begin{cases}\n",
    "            x_1 + 4 x_2 = -1 x_1 \\\\[4pt]\n",
    "            2 x_1 + 3 x_2 = -1 x_2 \\\\\n",
    "    \\end{cases} \n",
    "$となり、\n",
    "$\\begin{cases}\n",
    "            2 x_1 + 4 x_2 = 0 \\\\[4pt]\n",
    "            2 x_1 + 4 x_2 = 0 \\\\\n",
    "    \\end{cases} \n",
    "$　→\n",
    "$x_1 = -2x_2$が求まる。\n"
   ]
  },
  {
   "cell_type": "markdown",
   "metadata": {},
   "source": [
    "## １章　２－１、２－２ 固有値分解\n",
    "\n",
    "ある実数を正方形にならべて作られた行列 A が固有値 $\\lambda_1$ , $\\lambda_2$  ,･･･と固有ベクト  $\\vec{v}_1$   $\\vec{v}_2$ ,･･･を持ったとする。この固有値を対角線上に並べた行列（それ以外の成分は0）\n",
    "\n",
    "\\begin{aligned}\n",
    "  \\Lambda = \\left(\n",
    "    \\begin{array}{c}\n",
    "      \\lambda_1 &  &     \\\\\n",
    "       & \\lambda_2 &      \\\\\n",
    "       &  &   \\ddots  \\\\\n",
    "    \\end{array}\n",
    "  \\right)\n",
    "\\end{aligned}\n",
    "\n",
    "固有値$\\Lambda$の行列に対応する固有ベクトルを並べた行列\n",
    "\n",
    "\\begin{aligned}\n",
    "V = \\left(\n",
    "    \\begin{array}{c}\n",
    "      v_1 & v_2 & \\ldots \\\\\n",
    "    \\end{array}\n",
    "  \\right)\n",
    "\\end{aligned}\n",
    "\n",
    "を用意した時、それらは\n",
    "\n",
    "\\begin{aligned}\n",
    "AV = V \\Lambda\n",
    "\\end{aligned}\n",
    "\n",
    "と関係付けられる。したがって、\n",
    "\n",
    "\\begin{aligned}\n",
    "A = V \\Lambda V^{-1}\n",
    "\\end{aligned}\n",
    "\n",
    "と変形できる。\n",
    "このように正方形の行列を上述のような３つの行列の席に変換することを固有値分解という。"
   ]
  },
  {
   "cell_type": "markdown",
   "metadata": {},
   "source": [
    "固有値分解すると\n",
    "\n",
    "\\begin{aligned}\n",
    "  \\Lambda =\n",
    "  \\left(\n",
    "    \\begin{array}{c}\n",
    "      ５ & 0   \\\\\n",
    "      0 & -1  \\\\\n",
    "    \\end{array}\n",
    "  \\right) \\\\\n",
    "  V = \\left(\n",
    "    \\begin{array}{c}\n",
    "      1 &1  \\\\\n",
    "      1 & -\\frac{1}{2}   \\\\\n",
    "    \\end{array}\n",
    "  \\right)\n",
    "\\end{aligned}  \n",
    "\n",
    "より、\n",
    "\n",
    "\\begin{aligned}  \n",
    "A &= V \\Lambda V^{-1} \\\\[8px]\n",
    "  \\left(\n",
    "    \\begin{array}{cc}\n",
    "       1 & 4  \\\\\n",
    "       2 & 3  \\\\\n",
    "    \\end{array}\n",
    "  \\right)\n",
    "   &= \n",
    "  \\left(\n",
    "    \\begin{array}{c}\n",
    "      1 &1  \\\\\n",
    "      1 & -\\frac{1}{2}   \\\\\n",
    "    \\end{array}\n",
    "  \\right)\n",
    "  \\left(\n",
    "    \\begin{array}{c}\n",
    "      ５ & 0   \\\\\n",
    "      0 & -1  \\\\\n",
    "    \\end{array}\n",
    "  \\right)\n",
    "  \\left(\n",
    "    \\begin{array}{c}\n",
    "      1 &1  \\\\\n",
    "      1 & -\\frac{1}{2}   \\\\\n",
    "    \\end{array}\n",
    "  \\right)^{-1}\n",
    "\\end{aligned}"
   ]
  },
  {
   "cell_type": "markdown",
   "metadata": {},
   "source": [
    "### 利用用途\n",
    "主成分分析による次元削減を行うときに使用する。　\\\n",
    "ただし、正方行列しか固有値分解はできない。 \\\n",
    "正方行列以外の場合は、次の特異値分解を行う。"
   ]
  },
  {
   "cell_type": "markdown",
   "metadata": {},
   "source": [
    "## １章　３－１、４－１特異値分解"
   ]
  },
  {
   "cell_type": "markdown",
   "metadata": {},
   "source": [
    "\\begin{aligned}\n",
    "MV &= US \\\\[6px]\n",
    " M &= USV^{-1}  \\\\[6px]\n",
    " M^TU &= VS^T \\\\[6px]\n",
    " M^T &= VS^TU^{-1}  \\\\[6px]\n",
    "\\end{aligned}\n",
    "\n",
    "Uを左特異値ベクトルの行列  \n",
    "Vを右特異値ベクトルの行列  \n",
    "Sを特異値の行列\n",
    "\n",
    "$MM^{-1}$を固有値分解すると、左特異ベクトルと特異値の２乗が求まる。 \n",
    "\n",
    "\\begin{aligned}\n",
    "MM^{-1} &= (USV^{-1})(VS^TU^{-1}) \\\\[6px]\n",
    " &= USS^TU^{-1} \\\\[6px]\n",
    "\\end{aligned}\n",
    "\n",
    "$M^{-1}M$を固有値分解すると、右特異ベクトルと特異値の２乗が求まる。 \n",
    "\n",
    "\\begin{aligned}\n",
    "M^{-1}M &= (VS^TU^{-1})(USV^{-1}) \\\\[6px]\n",
    " &= VS^TSV^{-1} \\\\[6px]\n",
    "\\end{aligned}\n",
    "\n",
    "行列$M$の特異値を２乗すると、$MM^{-1}$、$M^{-1}M$の固有値が求まる。\n"
   ]
  },
  {
   "cell_type": "markdown",
   "metadata": {},
   "source": [
    "# 第２章　確率・統計"
   ]
  },
  {
   "cell_type": "markdown",
   "metadata": {},
   "source": [
    "## ２章　１－１　確率\n",
    "\n",
    "### 頻度確率　（客観確率） \n",
    "- 発生する確率 \n",
    "- 例：「サイコロをふって１が出る確率」 \n",
    "\n",
    "\n",
    "### ベイズ確率　（主観確率） \n",
    "- ある現象の頻度や傾向の代わりに、確率を知識の状態を表す合理的な期待値 \n",
    "- ある商店街の通りで、通行人が３人連続で男性だった。４人目は男性が通る確率の方が高い \n",
    "- 過去の現象から、期待値を求める。たまたま男性が多く通る道なのかも。。。 \n",
    "\n"
   ]
  },
  {
   "cell_type": "markdown",
   "metadata": {},
   "source": [
    "## ２章　１－２　条件付き確率 \n",
    "ある事象$X=x$が与えられた下で、$Y=y$となる確率\n",
    "\\begin{aligned}\n",
    "P(A \\backslash B) = \\frac{P(A \\cap B)}{P(B)}\n",
    "\\end{aligned}"
   ]
  },
  {
   "cell_type": "markdown",
   "metadata": {},
   "source": [
    "## ２章　１－３　独立な事象の同時確率 \n",
    "お互いの発生には因果関係のない事象$X=x$と事象$Y=y$が同時に発生する確率\n",
    "\\begin{aligned}\n",
    "  P(A \\cap B) &= P(A)P(B) \\\\\n",
    "  &= P(B \\cap A)\n",
    "\\end{aligned}"
   ]
  },
  {
   "cell_type": "markdown",
   "metadata": {},
   "source": [
    "## ２章　２－１ ベイズ則\n",
    "コロナウイルスの陽性反応が出た人のうち、本当に感染している人の割合 \\\n",
    " ※偽陽性があるため、陽性反応が出ても完成していない場合がある。  \\\n",
    " ※偽陰性があるため、本当は感染していても陽性反応がでない場合がある  \n",
    " \n",
    "\\begin{aligned}\n",
    "P(A \\backslash B) &= \\frac{P(A \\cap B)}{P(B)} \\\\[8px]\n",
    "&= \\frac{P(A)P(B \\backslash A)}{P(B)}\n",
    "\\end{aligned}\n"
   ]
  },
  {
   "cell_type": "markdown",
   "metadata": {},
   "source": [
    "## ２章　２－２　確率変数と確率分布"
   ]
  },
  {
   "cell_type": "markdown",
   "metadata": {},
   "source": [
    "### 確率変数\n",
    "- 事象と結びつけられた数値\n",
    "- 事象そのものを指すと解釈する場合も多い"
   ]
  },
  {
   "cell_type": "markdown",
   "metadata": {},
   "source": [
    "### 確率分布\n",
    "- 事象の発生する確率の分布\n",
    "- 離散値であれば表に表せる"
   ]
  },
  {
   "cell_type": "markdown",
   "metadata": {},
   "source": [
    "## ２章　３－１　期待値\n",
    "- その分布における確率変数の、平均値、もしくは「ありえそう」な値"
   ]
  },
  {
   "cell_type": "markdown",
   "metadata": {},
   "source": [
    "| 事象X | $X_1$ | $X_2$ | $\\ldots$ | $X_n$ |\n",
    "| - | - | - | - | - |\n",
    "| 確率変数$f(X)$ | $f(x_1)$  | $f(x_2)$  |  $\\ldots$ | $f(x_n)$ |\n",
    "| 確率$P(X)$ | $P(x_1)$  | $P(x_2)$  |  $\\ldots$ | $P(x_n)$ |"
   ]
  },
  {
   "cell_type": "markdown",
   "metadata": {},
   "source": [
    "期待値 $E(f)$\n",
    "\\begin{aligned}\n",
    "  = \\sum_k^n P(X = x_k) f(X = x_k)\n",
    "\\end{aligned}"
   ]
  },
  {
   "cell_type": "markdown",
   "metadata": {},
   "source": [
    "連続する値なら、期待値 $E(f)$\n",
    "\\begin{aligned}\n",
    "  = \\int P(X = x) f(X = x)dx\n",
    "\\end{aligned}"
   ]
  },
  {
   "cell_type": "markdown",
   "metadata": {},
   "source": [
    "## ２章　３－２　分散・共分散"
   ]
  },
  {
   "cell_type": "markdown",
   "metadata": {},
   "source": [
    "### 分散\n",
    "- データの散らばり具合\n",
    "- データの各々の値が、期待値からどれだけずれているのか平均したもの\n",
    "\n",
    "\\begin{aligned}\n",
    "Var(f) &= E((f_{(X-x)}-E_{(f)})^2) \\\\[8px]\n",
    "&= E(f^2_{(X=x)}) - (E_{(x)})^2\n",
    "\\end{aligned}"
   ]
  },
  {
   "cell_type": "markdown",
   "metadata": {},
   "source": [
    "### 共分散\n",
    "- 二つのデータ系列の傾向の違い\n",
    "    - 正の値をとれば似た傾向\n",
    "    - 負の値をとれば逆の傾向\n",
    "    - ゼロをとれば関係性に乏しい\n",
    "    \n",
    "\\begin{aligned}\n",
    "Cov(f , g) &= E(f_{(X=x)} - E(f))(g_{(Y=y)} - E(g)) \\\\[8px]\n",
    "&= E(fg) - E(f)E(g)\n",
    "\\end{aligned}"
   ]
  },
  {
   "cell_type": "markdown",
   "metadata": {},
   "source": [
    "## ２章　３－３　分散と標準偏差\n",
    "分散は２乗しているため、元のデータと単位が違う \\\n",
    "　↓ \\\n",
    " 平方根を求めれば、元の単位に戻る　＝　標準偏差という\n",
    " \n",
    " \n",
    "\\begin{aligned}\n",
    "\\sigma &= \\sqrt{Var(f)} \\\\[8px]\n",
    "&=\\sqrt{E((f_{(X-x)}-E_{(f)})^2)}\n",
    "\\end{aligned}"
   ]
  },
  {
   "cell_type": "markdown",
   "metadata": {},
   "source": [
    "## ２章　４－１　様々な確率分布Ⅰ"
   ]
  },
  {
   "cell_type": "markdown",
   "metadata": {},
   "source": [
    "### ベルヌーイ分布\n",
    "- コイントスのイメージ\n",
    "- 裏と表で出る割合が等しくない場合でも扱える\n",
    "\n",
    "\n",
    "$$\n",
    "P(x \\mid \\mu ）= \\mu^x (1- \\mu) ^{1-x} \n",
    "$$"
   ]
  },
  {
   "cell_type": "markdown",
   "metadata": {},
   "source": [
    "### マルチヌーイ（カテゴリカル）分布\n",
    "- さいころを転がすイメージ\n",
    "- 各面の出る割合が等しくない場合でも扱える"
   ]
  },
  {
   "cell_type": "markdown",
   "metadata": {},
   "source": [
    "## ２章　４－２　様々な確率分布Ⅱ"
   ]
  },
  {
   "cell_type": "markdown",
   "metadata": {},
   "source": [
    "### 二項分布\n",
    "- ベルヌーイ分布の多試行版\n",
    "\n",
    "$$\n",
    "P(x \\mid \\mu,n ）= \\frac{n!}{x!(n-x)!}\\lambda^x(1 - \\lambda)^{n-x} \n",
    "$$"
   ]
  },
  {
   "cell_type": "markdown",
   "metadata": {},
   "source": [
    "### ガウス分布\n",
    "- 釣鐘型の連続分布\n",
    "\n",
    "$$\n",
    "N(x;u,\\sigma^2) = \\sqrt{\\frac{1}{2\\pi\\sigma^2}}exp(-\\frac{1}{2\\sigma^2}(x-\\mu)^2)\n",
    "$$"
   ]
  },
  {
   "cell_type": "markdown",
   "metadata": {},
   "source": [
    "# 第３章　情報理論"
   ]
  },
  {
   "cell_type": "markdown",
   "metadata": {},
   "source": [
    "## ３章　１－１　自己情報量"
   ]
  },
  {
   "cell_type": "markdown",
   "metadata": {},
   "source": [
    "- 対数の底がの底が２の時、単位はビット（bit）\n",
    "- 対数ネイピアの$e$の時、単位は（nat）\n",
    "$$\n",
    "l(x) = - \\log {(P(x)} = \\log{(w(x)) } \n",
    "$$"
   ]
  },
  {
   "cell_type": "markdown",
   "metadata": {},
   "source": [
    "## ３章　１－２　シャノンエントロピー"
   ]
  },
  {
   "cell_type": "markdown",
   "metadata": {},
   "source": [
    "- 自己情報量の期待値\n",
    "\n",
    "\\begin{aligned}\n",
    "H(x) &= E(I(x)) \\\\[6px]\n",
    "     &= - E(\\log (P(x)) \\\\[6px]\n",
    "     &= - \\sum _{} ^{} {P(x) \\log(p(x))}\n",
    "\\end{aligned}"
   ]
  },
  {
   "cell_type": "markdown",
   "metadata": {},
   "source": [
    "## ３章　２－１　カルバック・ライブラー　ダイバーフェンス"
   ]
  },
  {
   "cell_type": "markdown",
   "metadata": {},
   "source": [
    "- 同じ事象・確率変数における異なる確率分布 $P$,$Q$の違いを表す。\n",
    "\n",
    "\\begin{aligned}\n",
    "D_{kL}( P \\parallel Q ) &= E_{x～P} \\log{\\frac{P(x)}{Q(x)}}　 \\\\[8px]\n",
    " &= E_{x～P} {[\\log(P(x)) - \\log(Q(x))]}　\n",
    "\\end{aligned}"
   ]
  },
  {
   "cell_type": "markdown",
   "metadata": {},
   "source": [
    "## ３章　２－２　交差エントロピー"
   ]
  },
  {
   "cell_type": "markdown",
   "metadata": {},
   "source": [
    "- KLダイバージェンスの一部分を取り出したもの。\n",
    "- $Q$についての自己情報量を$P$の分布で平均している。\n",
    "\n",
    "\\begin{aligned}\n",
    "  H(P,Q) &= H(P) + D_KL(P \\parallel Q) \\\\[6px]\n",
    "  H(P,Q) &= -E_{x～P} \\log{Q(x)}\n",
    "\\end{aligned}"
   ]
  },
  {
   "cell_type": "code",
   "execution_count": null,
   "metadata": {},
   "outputs": [],
   "source": []
  }
 ],
 "metadata": {
  "kernelspec": {
   "display_name": "Python 3",
   "language": "python",
   "name": "python3"
  },
  "language_info": {
   "codemirror_mode": {
    "name": "ipython",
    "version": 3
   },
   "file_extension": ".py",
   "mimetype": "text/x-python",
   "name": "python",
   "nbconvert_exporter": "python",
   "pygments_lexer": "ipython3",
   "version": "3.8.8"
  }
 },
 "nbformat": 4,
 "nbformat_minor": 2
}
