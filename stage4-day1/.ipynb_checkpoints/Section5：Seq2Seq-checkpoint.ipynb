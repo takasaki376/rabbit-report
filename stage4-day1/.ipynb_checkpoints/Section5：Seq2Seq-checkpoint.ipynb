{
 "cells": [
  {
   "cell_type": "markdown",
   "id": "e3051421",
   "metadata": {},
   "source": [
    "# Section5：Seq2Seq"
   ]
  },
  {
   "cell_type": "markdown",
   "id": "fc00d7fd",
   "metadata": {},
   "source": [
    "## 5.1 Encoder RNN"
   ]
  },
  {
   "cell_type": "markdown",
   "id": "15d8c50f",
   "metadata": {},
   "source": [
    "## 5.2 Decoder RNN"
   ]
  },
  {
   "cell_type": "markdown",
   "id": "e69e4549",
   "metadata": {},
   "source": [
    "## 5.3 HRED"
   ]
  },
  {
   "cell_type": "markdown",
   "id": "8feffbb5",
   "metadata": {},
   "source": [
    "## 5.4 VHRED"
   ]
  },
  {
   "cell_type": "markdown",
   "id": "9849fddb",
   "metadata": {},
   "source": [
    "## 5.5 VAE\n",
    "### 5.5.1 オートエンコーダー\n",
    "### 5.5.2 VAE"
   ]
  },
  {
   "cell_type": "code",
   "execution_count": null,
   "id": "e8d124ea",
   "metadata": {},
   "outputs": [],
   "source": []
  }
 ],
 "metadata": {
  "kernelspec": {
   "display_name": "Python 3 (ipykernel)",
   "language": "python",
   "name": "python3"
  },
  "language_info": {
   "codemirror_mode": {
    "name": "ipython",
    "version": 3
   },
   "file_extension": ".py",
   "mimetype": "text/x-python",
   "name": "python",
   "nbconvert_exporter": "python",
   "pygments_lexer": "ipython3",
   "version": "3.9.7"
  }
 },
 "nbformat": 4,
 "nbformat_minor": 5
}
