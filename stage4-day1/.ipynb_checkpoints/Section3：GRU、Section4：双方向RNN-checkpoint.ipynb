{
 "cells": [
  {
   "cell_type": "markdown",
   "id": "b5e63d62",
   "metadata": {},
   "source": [
    "# Section3：GRU"
   ]
  },
  {
   "cell_type": "markdown",
   "id": "256fb89f",
   "metadata": {},
   "source": [
    "LSTMの課題\n",
    "\n",
    "- 課題 \\\n",
    "LSTMでは、パラメータ数が多く、計算負荷が高くなる問題があった。 \\\n",
    "　⇒GRU\n",
    " \n",
    "- GRUとは？ \\\n",
    "従来のLSTMでは、パラメータが多数存在していたため、計算負荷が大きかった。しかし、GRUでは、そのパラメータを大幅に削減し、精度は同等またはそれ以上が望める様になった構造。\n",
    "\n",
    "- メリット \\\n",
    "計算負荷が低い。"
   ]
  },
  {
   "cell_type": "markdown",
   "id": "26f00bf3",
   "metadata": {},
   "source": [
    "### ゼロから作るディープラーニング２　付録C　GRU"
   ]
  },
  {
   "cell_type": "code",
   "execution_count": null,
   "id": "ff9c3259",
   "metadata": {},
   "outputs": [],
   "source": []
  },
  {
   "cell_type": "markdown",
   "id": "613013d3",
   "metadata": {},
   "source": [
    "# 実装演習"
   ]
  },
  {
   "cell_type": "code",
   "execution_count": null,
   "id": "4f577853",
   "metadata": {},
   "outputs": [],
   "source": []
  },
  {
   "cell_type": "markdown",
   "id": "ff6803eb",
   "metadata": {},
   "source": [
    "# 確認テスト"
   ]
  },
  {
   "cell_type": "markdown",
   "id": "1e97c8e1",
   "metadata": {},
   "source": [
    "#### P88 \n",
    "問） \\\n",
    "LSTMとCECが抱える課題について、それぞれ簡潔に述べよ。"
   ]
  },
  {
   "cell_type": "code",
   "execution_count": null,
   "id": "e028f7fc",
   "metadata": {},
   "outputs": [],
   "source": []
  },
  {
   "cell_type": "markdown",
   "id": "dbba580b",
   "metadata": {},
   "source": [
    "#### P92\n",
    "問） \\\n",
    "LSTMとGRUの違いを簡潔に述べよ。"
   ]
  },
  {
   "cell_type": "code",
   "execution_count": null,
   "id": "29f4ac43",
   "metadata": {},
   "outputs": [],
   "source": []
  },
  {
   "cell_type": "markdown",
   "id": "6e621667",
   "metadata": {},
   "source": [
    "# Section4：双方向RNN"
   ]
  },
  {
   "cell_type": "markdown",
   "id": "aab0a1f6",
   "metadata": {},
   "source": [
    "過去の情報だけでなく、未来の情報を加味することで、精度を向上させるためのモデル\n",
    "\n",
    "実用例：文章の推敲や、機械翻訳等"
   ]
  },
  {
   "cell_type": "markdown",
   "id": "39e5f7ba",
   "metadata": {},
   "source": [
    "# 実装演習"
   ]
  },
  {
   "cell_type": "code",
   "execution_count": null,
   "id": "23581932",
   "metadata": {},
   "outputs": [],
   "source": []
  }
 ],
 "metadata": {
  "kernelspec": {
   "display_name": "Python 3 (ipykernel)",
   "language": "python",
   "name": "python3"
  },
  "language_info": {
   "codemirror_mode": {
    "name": "ipython",
    "version": 3
   },
   "file_extension": ".py",
   "mimetype": "text/x-python",
   "name": "python",
   "nbconvert_exporter": "python",
   "pygments_lexer": "ipython3",
   "version": "3.9.7"
  }
 },
 "nbformat": 4,
 "nbformat_minor": 5
}
