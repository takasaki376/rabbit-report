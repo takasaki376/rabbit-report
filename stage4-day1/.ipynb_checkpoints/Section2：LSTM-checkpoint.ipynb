{
 "cells": [
  {
   "cell_type": "markdown",
   "id": "49a4292d",
   "metadata": {},
   "source": [
    "# Section2：LSTM"
   ]
  },
  {
   "cell_type": "markdown",
   "id": "1ac35dac",
   "metadata": {},
   "source": [
    "### RNNの課題\n",
    "- 時系列を遡れば遡るほど、勾配が消失していく。 \\\n",
    "　⇒　長い時系列の学習が困難。\n",
    "\n",
    "\n",
    "- 解決策\n",
    "前回の授業で触れた勾配消失の解決方法とは別で、構造自体を変えて解決したものがLSTM。\n",
    "\n",
    "#### 勾配爆発とは？\n",
    "勾配が、層を逆伝播するごとに指数関数的に大きくなっていく。\n"
   ]
  },
  {
   "cell_type": "markdown",
   "id": "0cc64873",
   "metadata": {},
   "source": [
    "## 2.1 CEC\n",
    "勾配消失および勾配爆発の解決方法として、勾配が、1であれば解決できる。\n",
    "\n",
    "\\begin{aligned}\n",
    "  \\delta^{t-z-1} &= \\delta^{t-z} \n",
    "  \\left\\{\n",
    "    Wf(u^{t-z-1}) \n",
    "  \\right\\}  = 1 \\\\\n",
    "    \\frac{\\partial E}{\\partial C^{t-1}} \n",
    "    &= \\frac{\\partial E}{\\partial C^t}  \\frac{\\partial C^t}{\\partial C^{t-1}}\n",
    "    = \\frac{\\partial E}{\\partial C^t}  \\frac{\\partial}{\\partial C^{t-1}} \\{ a^t-C^{t-1} \\}\n",
    "    = \\frac{\\partial E}{\\partial C^t}\n",
    "\\end{aligned}\n",
    "\n",
    "- CECの課題 \\\n",
    "入力データについて、時間依存度に関係なく重みが一律である。 \\\n",
    "　⇒　ニューラルネットワークの学習特性が無いということ。"
   ]
  },
  {
   "cell_type": "markdown",
   "id": "0e1467e1",
   "metadata": {},
   "source": [
    "## 2.2 入力ゲートと出力ゲート\n",
    "\n",
    "- 入力・出力ゲートの役割とは？ \\\n",
    "入力・出力ゲートを追加することで、それぞれのゲートへの入力値の重みを、重み行列W,Uで可変可能とする。 \\\n",
    "⇒CECの課題を解決。"
   ]
  },
  {
   "cell_type": "markdown",
   "id": "0b267417",
   "metadata": {},
   "source": [
    "## 2.3 忘却ゲート"
   ]
  },
  {
   "cell_type": "markdown",
   "id": "a21f79af",
   "metadata": {},
   "source": [
    "- LSTMの現状 \\\n",
    "CECは、過去の情報が全て保管されている。\n",
    "- 課題 \\\n",
    "過去の情報が要らなくなった場合、削除することはできず、保管され続ける。\n",
    "- 解決策 \\\n",
    "過去の情報が要らなくなった場合、そのタイミングで情報を忘却する機能が必要。"
   ]
  },
  {
   "cell_type": "markdown",
   "id": "a092406f",
   "metadata": {},
   "source": [
    "## 2.4 覗き穴結合\n",
    "\n",
    "- 課題 \\\n",
    "CECの保存されている過去の情報を、任意のタイミングで他のノードに伝播させたり、あるいは任意のタイミングで忘却させたい。 \\\n",
    "CEC自身の値は、ゲート制御に影響を与えていない。\n",
    "\n",
    "覗き穴結合とは？ \\\n",
    "　⇒　CEC自身の値に、重み行列を介して伝播可能にした構造。"
   ]
  },
  {
   "cell_type": "markdown",
   "id": "0e0810a9",
   "metadata": {},
   "source": [
    "#### ゼロから作るディープラーニング② 6.2 勾配消失とLSTM\n",
    "RNNの学習においては、勾配消失も大きな問題です。そして、それを解決するにはRNNレイヤーのアーキテクチャを根本から変える必要があります。ここで登場するのが、「ゲート付きRNN」です。このゲート付きRNNには多くのアーキテクチャが提案されており、、その代表格にLSTMとGRUがあります。"
   ]
  },
  {
   "cell_type": "markdown",
   "id": "0c3166e7",
   "metadata": {},
   "source": [
    "#### ゼロから作るディープラーニング② 6.2.3 ｆOutputゲート\n",
    "Outputゲートの開き具合（次へ何％通すか）は、入力$x_t$と前の状態$h_{t-1}$から求めます。"
   ]
  },
  {
   "cell_type": "markdown",
   "id": "a0b02095",
   "metadata": {},
   "source": [
    "#### ゼロから作るディープラーニング② 6.4 LSTMを使った言語モデル"
   ]
  },
  {
   "cell_type": "code",
   "execution_count": 1,
   "id": "f9576973",
   "metadata": {},
   "outputs": [],
   "source": [
    "# coding: utf-8\n",
    "import sys\n",
    "sys.path.append('.')\n",
    "import numpy as np\n",
    "import time\n",
    "import matplotlib.pyplot as plt\n",
    "from common.util import eval_perplexity,clip_grads\n",
    "from common.layers import *\n",
    "from common.functions import softmax, sigmoid\n",
    "from dataset import ptb\n",
    "from rnnlm import Rnnlm"
   ]
  },
  {
   "cell_type": "code",
   "execution_count": 2,
   "id": "d3407f6e",
   "metadata": {},
   "outputs": [],
   "source": [
    "def remove_duplicate(params, grads):\n",
    "    '''\n",
    "    パラメータ配列中の重複する重みをひとつに集約し、\n",
    "    その重みに対応する勾配を加算する\n",
    "    '''\n",
    "    params, grads = params[:], grads[:]  # copy list\n",
    "\n",
    "    while True:\n",
    "        find_flg = False\n",
    "        L = len(params)\n",
    "\n",
    "        for i in range(0, L - 1):\n",
    "            for j in range(i + 1, L):\n",
    "                # 重みを共有する場合\n",
    "                if params[i] is params[j]:\n",
    "                    grads[i] += grads[j]  # 勾配の加算\n",
    "                    find_flg = True\n",
    "                    params.pop(j)\n",
    "                    grads.pop(j)\n",
    "                # 転置行列として重みを共有する場合（weight tying）\n",
    "                elif params[i].ndim == 2 and params[j].ndim == 2 and \\\n",
    "                     params[i].T.shape == params[j].shape and np.all(params[i].T == params[j]):\n",
    "                    grads[i] += grads[j].T\n",
    "                    find_flg = True\n",
    "                    params.pop(j)\n",
    "                    grads.pop(j)\n",
    "\n",
    "                if find_flg: break\n",
    "            if find_flg: break\n",
    "\n",
    "        if not find_flg: break\n",
    "\n",
    "    return params, grads"
   ]
  },
  {
   "cell_type": "code",
   "execution_count": 3,
   "id": "583cf13e",
   "metadata": {},
   "outputs": [],
   "source": [
    "class RnnlmTrainer:\n",
    "    def __init__(self, model, optimizer):\n",
    "        self.model = model\n",
    "        self.optimizer = optimizer\n",
    "        self.time_idx = None\n",
    "        self.ppl_list = None\n",
    "        self.eval_interval = None\n",
    "        self.current_epoch = 0\n",
    "\n",
    "    def get_batch(self, x, t, batch_size, time_size):\n",
    "        batch_x = np.empty((batch_size, time_size), dtype='i')\n",
    "        batch_t = np.empty((batch_size, time_size), dtype='i')\n",
    "\n",
    "        data_size = len(x)\n",
    "        jump = data_size // batch_size\n",
    "        offsets = [i * jump for i in range(batch_size)]  # バッチの各サンプルの読み込み開始位置\n",
    "\n",
    "        for time in range(time_size):\n",
    "            for i, offset in enumerate(offsets):\n",
    "                batch_x[i, time] = x[(offset + self.time_idx) % data_size]\n",
    "                batch_t[i, time] = t[(offset + self.time_idx) % data_size]\n",
    "            self.time_idx += 1\n",
    "        return batch_x, batch_t\n",
    "\n",
    "    def fit(self, xs, ts, max_epoch=10, batch_size=20, time_size=35,\n",
    "            max_grad=None, eval_interval=20):\n",
    "        data_size = len(xs)\n",
    "        max_iters = data_size // (batch_size * time_size)\n",
    "        self.time_idx = 0\n",
    "        self.ppl_list = []\n",
    "        self.eval_interval = eval_interval\n",
    "        model, optimizer = self.model, self.optimizer\n",
    "        total_loss = 0\n",
    "        loss_count = 0\n",
    "\n",
    "        start_time = time.time()\n",
    "        for epoch in range(max_epoch):\n",
    "            for iters in range(max_iters):\n",
    "                batch_x, batch_t = self.get_batch(xs, ts, batch_size, time_size)\n",
    "\n",
    "                # 勾配を求め、パラメータを更新\n",
    "                loss = model.forward(batch_x, batch_t)\n",
    "                model.backward()\n",
    "                params, grads = remove_duplicate(model.params, model.grads)  # 共有された重みを1つに集約\n",
    "                if max_grad is not None:\n",
    "                    clip_grads(grads, max_grad)\n",
    "                optimizer.update(params, grads)\n",
    "                total_loss += loss\n",
    "                loss_count += 1\n",
    "\n",
    "                # パープレキシティの評価\n",
    "                if (eval_interval is not None) and (iters % eval_interval) == 0:\n",
    "                    ppl = np.exp(total_loss / loss_count)\n",
    "                    elapsed_time = time.time() - start_time\n",
    "                    print('| epoch %d |  iter %d / %d | time %d[s] | perplexity %.2f'\n",
    "                          % (self.current_epoch + 1, iters + 1, max_iters, elapsed_time, ppl))\n",
    "                    self.ppl_list.append(float(ppl))\n",
    "                    total_loss, loss_count = 0, 0\n",
    "\n",
    "            self.current_epoch += 1\n",
    "\n",
    "    def plot(self, ylim=None):\n",
    "        x = np.arange(len(self.ppl_list))\n",
    "        if ylim is not None:\n",
    "            plt.ylim(*ylim)\n",
    "        plt.plot(x, self.ppl_list, label='train')\n",
    "        plt.xlabel('iterations (x' + str(self.eval_interval) + ')')\n",
    "        plt.ylabel('perplexity')\n",
    "        plt.show()\n"
   ]
  },
  {
   "cell_type": "code",
   "execution_count": 4,
   "id": "633c2ee0",
   "metadata": {},
   "outputs": [],
   "source": [
    "class SGD:\n",
    "    '''\n",
    "    確率的勾配降下法（Stochastic Gradient Descent）\n",
    "    '''\n",
    "    def __init__(self, lr=0.01):\n",
    "        self.lr = lr\n",
    "        \n",
    "    def update(self, params, grads):\n",
    "        for i in range(len(params)):\n",
    "            params[i] -= self.lr * grads[i]\n"
   ]
  },
  {
   "cell_type": "code",
   "execution_count": 5,
   "id": "02141b71",
   "metadata": {},
   "outputs": [
    {
     "name": "stdout",
     "output_type": "stream",
     "text": [
      "| epoch 1 |  iter 1 / 1327 | time 0[s] | perplexity 9999.61\n",
      "| epoch 1 |  iter 261 / 1327 | time 49[s] | perplexity 713.72\n",
      "| epoch 1 |  iter 521 / 1327 | time 98[s] | perplexity 346.72\n",
      "| epoch 1 |  iter 781 / 1327 | time 148[s] | perplexity 261.65\n",
      "| epoch 1 |  iter 1041 / 1327 | time 198[s] | perplexity 223.16\n",
      "| epoch 1 |  iter 1301 / 1327 | time 248[s] | perplexity 186.78\n",
      "| epoch 2 |  iter 1 / 1327 | time 253[s] | perplexity 213.89\n",
      "| epoch 2 |  iter 261 / 1327 | time 302[s] | perplexity 178.54\n",
      "| epoch 2 |  iter 521 / 1327 | time 352[s] | perplexity 163.87\n",
      "| epoch 2 |  iter 781 / 1327 | time 395[s] | perplexity 151.95\n",
      "| epoch 2 |  iter 1041 / 1327 | time 439[s] | perplexity 147.86\n",
      "| epoch 2 |  iter 1301 / 1327 | time 482[s] | perplexity 128.46\n",
      "| epoch 3 |  iter 1 / 1327 | time 486[s] | perplexity 154.29\n",
      "| epoch 3 |  iter 261 / 1327 | time 530[s] | perplexity 132.12\n",
      "| epoch 3 |  iter 521 / 1327 | time 573[s] | perplexity 125.03\n",
      "| epoch 3 |  iter 781 / 1327 | time 616[s] | perplexity 119.35\n",
      "| epoch 3 |  iter 1041 / 1327 | time 660[s] | perplexity 120.26\n",
      "| epoch 3 |  iter 1301 / 1327 | time 703[s] | perplexity 104.52\n",
      "| epoch 4 |  iter 1 / 1327 | time 708[s] | perplexity 127.90\n",
      "| epoch 4 |  iter 261 / 1327 | time 751[s] | perplexity 110.24\n",
      "| epoch 4 |  iter 521 / 1327 | time 794[s] | perplexity 105.27\n",
      "| epoch 4 |  iter 781 / 1327 | time 838[s] | perplexity 102.19\n",
      "| epoch 4 |  iter 1041 / 1327 | time 881[s] | perplexity 104.63\n",
      "| epoch 4 |  iter 1301 / 1327 | time 925[s] | perplexity 90.75\n"
     ]
    },
    {
     "data": {
      "image/png": "[encoded data removed]",
      "text/plain": [
       "<Figure size 432x288 with 1 Axes>"
      ]
     },
     "metadata": {
      "needs_background": "light"
     },
     "output_type": "display_data"
    },
    {
     "name": "stdout",
     "output_type": "stream",
     "text": [
      "evaluating perplexity ...\n",
      "234 / 235\n",
      "test perplexity:  136.17995135851004\n"
     ]
    }
   ],
   "source": [
    "# ハイパーパラメータの設定\n",
    "batch_size = 20\n",
    "wordvec_size = 100\n",
    "hidden_size = 100  # RNNの隠れ状態ベクトルの要素数\n",
    "time_size = 35  # RNNを展開するサイズ\n",
    "lr = 20.0\n",
    "max_epoch = 4\n",
    "max_grad = 0.25\n",
    "\n",
    "# 学習データの読み込み\n",
    "corpus, word_to_id, id_to_word = ptb.load_data('train')\n",
    "corpus_test, _, _ = ptb.load_data('test')\n",
    "vocab_size = len(word_to_id)\n",
    "xs = corpus[:-1]\n",
    "ts = corpus[1:]\n",
    "\n",
    "# モデルの生成\n",
    "model = Rnnlm(vocab_size, wordvec_size, hidden_size)\n",
    "optimizer = SGD(lr)\n",
    "trainer = RnnlmTrainer(model, optimizer)\n",
    "\n",
    "# 勾配クリッピングを適用して学習\n",
    "trainer.fit(xs, ts, max_epoch, batch_size, time_size, max_grad,\n",
    "            eval_interval=260)\n",
    "trainer.plot(ylim=(0, 500))\n",
    "\n",
    "# テストデータで評価\n",
    "model.reset_state()\n",
    "ppl_test = eval_perplexity(model, corpus_test)\n",
    "print('test perplexity: ', ppl_test)\n",
    "\n",
    "# パラメータの保存\n",
    "model.save_params()"
   ]
  },
  {
   "cell_type": "markdown",
   "id": "52192ace",
   "metadata": {},
   "source": [
    "# 確認テスト"
   ]
  },
  {
   "cell_type": "markdown",
   "id": "21f0e3d4",
   "metadata": {},
   "source": [
    "#### P62\n",
    "問） \\\n",
    "シグモイド関数を微分した時、入力値が0の時に最大値をとる。その値として正しいものを選択肢から選べ。\n",
    "1. 0.15\n",
    "1. 0.25\n",
    "1. 0.35\n",
    "1. 0.45"
   ]
  },
  {
   "cell_type": "markdown",
   "id": "ffc9dd60",
   "metadata": {},
   "source": [
    "答） \\\n",
    "（２）0.25\n",
    "\n",
    "Stage3 day2 Section1 P18の確認テストと同様のため、計算式を省略します。"
   ]
  },
  {
   "cell_type": "markdown",
   "id": "55f9847b",
   "metadata": {},
   "source": [
    "#### P78\n",
    "問） \\\n",
    "以下の文章をLSTMに入力し空欄に当てはまる単語を予測したいとする。 \\\n",
    "文中の「とても」という言葉は空欄の予測においてなくなっても影響を及ぼさないと考えられる。 \\\n",
    "このような場合、どのゲートが作用すると考えられるか。 \n",
    "\n",
    "「映画おもしろかったね。ところで、とてもお腹が空いたから何か____。」"
   ]
  },
  {
   "cell_type": "markdown",
   "id": "21e7d517",
   "metadata": {},
   "source": [
    "答） \\\n",
    "忘却ゲート"
   ]
  },
  {
   "cell_type": "code",
   "execution_count": null,
   "id": "35cfe105",
   "metadata": {},
   "outputs": [],
   "source": []
  }
 ],
 "metadata": {
  "kernelspec": {
   "display_name": "Python 3 (ipykernel)",
   "language": "python",
   "name": "python3"
  },
  "language_info": {
   "codemirror_mode": {
    "name": "ipython",
    "version": 3
   },
   "file_extension": ".py",
   "mimetype": "text/x-python",
   "name": "python",
   "nbconvert_exporter": "python",
   "pygments_lexer": "ipython3",
   "version": "3.9.7"
  }
 },
 "nbformat": 4,
 "nbformat_minor": 5
}
