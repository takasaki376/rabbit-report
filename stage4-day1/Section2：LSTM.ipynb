{
 "cells": [
  {
   "cell_type": "markdown",
   "id": "49a4292d",
   "metadata": {},
   "source": [
    "# Section2：LSTM"
   ]
  },
  {
   "cell_type": "markdown",
   "id": "1ac35dac",
   "metadata": {},
   "source": [
    "### RNNの課題\n",
    "- 時系列を遡れば遡るほど、勾配が消失していく。　⇒　長い時系列の学習が困難。\n",
    "\n",
    "\n",
    "- 解決策\n",
    "前回の授業で触れた勾配消失の解決方法とは別で、構造自体を変えて解決したものがLSTM。\n",
    "\n",
    "勾配爆発とは？\n",
    "勾配が、層を逆伝播するごとに指数関数的に大きくなっていく。\n",
    "\n",
    "## 2.1 CEC\n",
    "勾配消失および勾配爆発の解決方法として、勾配が、1であれば解決できる。\n",
    "\n",
    "- CECの課題 \\\n",
    "⇒　入力データについて、時間依存度に関係なく重みが一律である。 \\\n",
    "　⇒　ニューラルネットワークの学習特性が無いということ。"
   ]
  },
  {
   "cell_type": "markdown",
   "id": "0e1467e1",
   "metadata": {},
   "source": [
    "## 2.2 入力ゲートと出力ゲート"
   ]
  },
  {
   "cell_type": "markdown",
   "id": "0b267417",
   "metadata": {},
   "source": [
    "## 2.3 忘却ゲート"
   ]
  },
  {
   "cell_type": "markdown",
   "id": "a092406f",
   "metadata": {},
   "source": [
    "## 2.4 覗き穴結合"
   ]
  },
  {
   "cell_type": "code",
   "execution_count": null,
   "id": "02141b71",
   "metadata": {},
   "outputs": [],
   "source": []
  },
  {
   "cell_type": "code",
   "execution_count": null,
   "id": "8e537847",
   "metadata": {},
   "outputs": [],
   "source": []
  },
  {
   "cell_type": "markdown",
   "id": "52192ace",
   "metadata": {},
   "source": [
    "# 確認テスト"
   ]
  },
  {
   "cell_type": "markdown",
   "id": "21f0e3d4",
   "metadata": {},
   "source": [
    "#### P62\n",
    "問） \\\n",
    "シグモイド関数を微分した時、入力値が0の時に最大値をとる。その値として正しいものを選択肢から選べ。\n",
    "1. 0.15\n",
    "1. 0.25\n",
    "1. 0.35\n",
    "1. 0.45"
   ]
  },
  {
   "cell_type": "markdown",
   "id": "ffc9dd60",
   "metadata": {},
   "source": [
    "答） \\\n",
    "（２）0.25"
   ]
  },
  {
   "cell_type": "code",
   "execution_count": null,
   "id": "3f49067b",
   "metadata": {},
   "outputs": [],
   "source": []
  }
 ],
 "metadata": {
  "kernelspec": {
   "display_name": "Python 3 (ipykernel)",
   "language": "python",
   "name": "python3"
  },
  "language_info": {
   "codemirror_mode": {
    "name": "ipython",
    "version": 3
   },
   "file_extension": ".py",
   "mimetype": "text/x-python",
   "name": "python",
   "nbconvert_exporter": "python",
   "pygments_lexer": "ipython3",
   "version": "3.9.7"
  }
 },
 "nbformat": 4,
 "nbformat_minor": 5
}
