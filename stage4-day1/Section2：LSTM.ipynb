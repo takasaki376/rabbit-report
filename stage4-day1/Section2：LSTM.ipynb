{
 "cells": [
  {
   "cell_type": "markdown",
   "id": "49a4292d",
   "metadata": {},
   "source": [
    "# Section2：LSTM"
   ]
  },
  {
   "cell_type": "markdown",
   "id": "1ac35dac",
   "metadata": {},
   "source": [
    "### RNNの課題\n",
    "- 時系列を遡れば遡るほど、勾配が消失していく。　⇒　長い時系列の学習が困難。\n",
    "\n",
    "\n",
    "- 解決策\n",
    "前回の授業で触れた勾配消失の解決方法とは別で、構造自体を変えて解決したものがLSTM。\n",
    "\n",
    "勾配爆発とは？\n",
    "勾配が、層を逆伝播するごとに指数関数的に大きくなっていく。\n",
    "\n",
    "## 2.1 CEC\n",
    "勾配消失および勾配爆発の解決方法として、勾配が、1であれば解決できる。\n",
    "\n",
    "\\begin{aligned}\n",
    "  \\delta^{t-z-1} &= \\delta^{t-z} \n",
    "  \\left\\{\n",
    "    Wf(u^{t-z-1}) \n",
    "  \\right\\}  = 1 \\\\\n",
    "    \\frac{\\partial E}{\\partial C^{t-1}} \n",
    "    &= \\frac{\\partial E}{\\partial C^t}  \\frac{\\partial C^t}{\\partial C^{t-1}}\n",
    "    = \\frac{\\partial E}{\\partial C^t}  \\frac{\\partial}{\\partial C^{t-1}} \\{ a^t-C^{t-1} \\}\n",
    "    = \\frac{\\partial E}{\\partial C^t}\n",
    "\\end{aligned}\n",
    "\n",
    "- CECの課題 \\\n",
    "入力データについて、時間依存度に関係なく重みが一律である。 \\\n",
    "　⇒　ニューラルネットワークの学習特性が無いということ。"
   ]
  },
  {
   "cell_type": "markdown",
   "id": "0e1467e1",
   "metadata": {},
   "source": [
    "## 2.2 入力ゲートと出力ゲート\n",
    "\n",
    "- 入力・出力ゲートの役割とは？ \\\n",
    "入力・出力ゲートを追加することで、それぞれのゲートへの入力値の重みを、重み行列W,Uで可変可能とする。 \\\n",
    "⇒CECの課題を解決。"
   ]
  },
  {
   "cell_type": "markdown",
   "id": "0b267417",
   "metadata": {},
   "source": [
    "## 2.3 忘却ゲート"
   ]
  },
  {
   "cell_type": "markdown",
   "id": "a21f79af",
   "metadata": {},
   "source": [
    "- LSTMの現状 \\\n",
    "CECは、過去の情報が全て保管されている。\n",
    "- 課題 \\\n",
    "過去の情報が要らなくなった場合、削除することはできず、保管され続ける。\n",
    "- 解決策 \\\n",
    "過去の情報が要らなくなった場合、そのタイミングで情報を忘却する機能が必要。"
   ]
  },
  {
   "cell_type": "markdown",
   "id": "a092406f",
   "metadata": {},
   "source": [
    "## 2.4 覗き穴結合\n",
    "\n",
    "- 課題 \\\n",
    "CECの保存されている過去の情報を、任意のタイミングで他のノードに伝播させたり、あるいは任意のタイミングで忘却させたい。 \\\n",
    "CEC自身の値は、ゲート制御に影響を与えていない。\n",
    "\n",
    "覗き穴結合とは？ \\\n",
    "　⇒　CEC自身の値に、重み行列を介して伝播可能にした構造。"
   ]
  },
  {
   "cell_type": "code",
   "execution_count": null,
   "id": "02141b71",
   "metadata": {},
   "outputs": [],
   "source": []
  },
  {
   "cell_type": "code",
   "execution_count": null,
   "id": "8e537847",
   "metadata": {},
   "outputs": [],
   "source": []
  },
  {
   "cell_type": "markdown",
   "id": "52192ace",
   "metadata": {},
   "source": [
    "# 確認テスト"
   ]
  },
  {
   "cell_type": "markdown",
   "id": "21f0e3d4",
   "metadata": {},
   "source": [
    "#### P62\n",
    "問） \\\n",
    "シグモイド関数を微分した時、入力値が0の時に最大値をとる。その値として正しいものを選択肢から選べ。\n",
    "1. 0.15\n",
    "1. 0.25\n",
    "1. 0.35\n",
    "1. 0.45"
   ]
  },
  {
   "cell_type": "markdown",
   "id": "ffc9dd60",
   "metadata": {},
   "source": [
    "答） \\\n",
    "（２）0.25\n",
    "\n",
    "Stage3 day2 Section1 P18の確認テストと同様のため、計算式を省略します。"
   ]
  },
  {
   "cell_type": "markdown",
   "id": "55f9847b",
   "metadata": {},
   "source": [
    "#### P78\n",
    "問） \\\n",
    "以下の文章をLSTMに入力し空欄に当てはまる単語を予測したいとする。 \\\n",
    "文中の「とても」という言葉は空欄の予測においてなくなっても影響を及ぼさないと考えられる。 \\\n",
    "このような場合、どのゲートが作用すると考えられるか。 \\\n",
    "\n",
    "「映画おもしろかったね。ところで、とてもお腹が空いたから何か____。」"
   ]
  },
  {
   "cell_type": "markdown",
   "id": "21e7d517",
   "metadata": {},
   "source": [
    "答） \\\n",
    "忘却ゲート"
   ]
  },
  {
   "cell_type": "code",
   "execution_count": null,
   "id": "35cfe105",
   "metadata": {},
   "outputs": [],
   "source": []
  }
 ],
 "metadata": {
  "kernelspec": {
   "display_name": "Python 3 (ipykernel)",
   "language": "python",
   "name": "python3"
  },
  "language_info": {
   "codemirror_mode": {
    "name": "ipython",
    "version": 3
   },
   "file_extension": ".py",
   "mimetype": "text/x-python",
   "name": "python",
   "nbconvert_exporter": "python",
   "pygments_lexer": "ipython3",
   "version": "3.9.7"
  }
 },
 "nbformat": 4,
 "nbformat_minor": 5
}
