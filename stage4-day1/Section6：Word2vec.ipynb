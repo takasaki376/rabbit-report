{
 "cells": [
  {
   "cell_type": "markdown",
   "id": "81bf277b",
   "metadata": {},
   "source": [
    "# Section6：Word2vec"
   ]
  },
  {
   "cell_type": "code",
   "execution_count": null,
   "id": "72a65e46",
   "metadata": {},
   "outputs": [],
   "source": []
  }
 ],
 "metadata": {
  "kernelspec": {
   "display_name": "Python 3 (ipykernel)",
   "language": "python",
   "name": "python3"
  },
  "language_info": {
   "codemirror_mode": {
    "name": "ipython",
    "version": 3
   },
   "file_extension": ".py",
   "mimetype": "text/x-python",
   "name": "python",
   "nbconvert_exporter": "python",
   "pygments_lexer": "ipython3",
   "version": "3.9.7"
  }
 },
 "nbformat": 4,
 "nbformat_minor": 5
}
