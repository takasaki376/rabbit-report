{
 "cells": [
  {
   "cell_type": "markdown",
   "id": "056ab664",
   "metadata": {},
   "source": [
    "# Section4：勾配降下法"
   ]
  },
  {
   "cell_type": "code",
   "execution_count": null,
   "id": "1a96637b",
   "metadata": {},
   "outputs": [],
   "source": []
  }
 ],
 "metadata": {
  "kernelspec": {
   "display_name": "Python 3 (ipykernel)",
   "language": "python",
   "name": "python3"
  },
  "language_info": {
   "codemirror_mode": {
    "name": "ipython",
    "version": 3
   },
   "file_extension": ".py",
   "mimetype": "text/x-python",
   "name": "python",
   "nbconvert_exporter": "python",
   "pygments_lexer": "ipython3",
   "version": "3.9.7"
  }
 },
 "nbformat": 4,
 "nbformat_minor": 5
}
