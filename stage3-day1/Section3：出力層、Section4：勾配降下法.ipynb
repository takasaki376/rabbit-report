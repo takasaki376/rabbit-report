{
 "cells": [
  {
   "cell_type": "markdown",
   "id": "567ecb21",
   "metadata": {},
   "source": [
    "# Section3：出力層"
   ]
  },
  {
   "cell_type": "markdown",
   "id": "355e5f14",
   "metadata": {},
   "source": [
    "## 出力層の役割"
   ]
  },
  {
   "cell_type": "markdown",
   "id": "80d276ec",
   "metadata": {},
   "source": [
    "#### 中間層\n",
    "- 中間層の出力が、次の層の入力となる\n",
    "\n",
    "#### 出力層\n",
    "- 人間が欲しい情報を出力すること。"
   ]
  },
  {
   "cell_type": "markdown",
   "id": "54938b83",
   "metadata": {},
   "source": [
    "## 誤差関数"
   ]
  },
  {
   "cell_type": "markdown",
   "id": "a270b776",
   "metadata": {},
   "source": [
    "#### 訓練データサンプルあたりの誤差\n",
    "- 二乗誤差\n",
    "\\begin{aligned}\n",
    "E_n(w) = \\frac{1}{2} \\sum_{i=1}^I (y_n-d_n)^2\n",
    "\\end{aligned}\n",
    "\n",
    "- 交差エントロピー\n",
    "\\begin{aligned}\n",
    "E_n(w) = - \\sum_{i=1}^I \\log{y_i}\n",
    "\\end{aligned}"
   ]
  },
  {
   "cell_type": "markdown",
   "id": "ae131689",
   "metadata": {},
   "source": [
    "## 出力層の活性化関数"
   ]
  },
  {
   "cell_type": "markdown",
   "id": "90b21a6d",
   "metadata": {},
   "source": [
    "#### 出力層の中間層との違い\n",
    "【値の強弱】\n",
    "- 中間層︓しきい値の前後で信号の強弱を調整\n",
    "- 出力層︓信号の大きさ（比率）はそのままに変換 \n",
    "\n",
    "【確率出力】\n",
    "- 分類問題の場合、出力層の出力は0～1 の範囲に限定し、総和を１とする必要がある\n",
    "\n",
    "⇒出力層と中間層で利用される活性化関数が異なる"
   ]
  },
  {
   "cell_type": "markdown",
   "id": "193207c4",
   "metadata": {},
   "source": [
    "#### 出力層の種類\n",
    "| | 回帰 | 二値分類 | 多クラス分類 |\n",
    "| :--- |  :--- |  :--- |  :--- |\n",
    "|活性化関数 | 恒等写像 | シグモイド関数 | ソフトマックス関数 |\n",
    "| 誤差関数 | 二乗誤差 | 交差エントロピー | 交差エントロピー |"
   ]
  },
  {
   "cell_type": "markdown",
   "id": "b10ad50c",
   "metadata": {},
   "source": [
    "#### 活性化関数の種類\n",
    "中間層用の活性化関数\n",
    "- ReLU関数\n",
    "- シグモイド（ロジスティック）関数\n",
    "- ステップ関数\n",
    "\n",
    "出力層用の活性化関数\n",
    "- 恒等写像　：　回帰 \\\n",
    "\\begin{aligned}\n",
    "f(u) = u\n",
    "\\end{aligned}\n",
    "\n",
    "\n",
    "- シグモイド関数（ロジスティック関数)　：　二値分類\n",
    "\\begin{aligned}\n",
    "f(u) = \\frac{1}{1+e^{-u}}\n",
    "\\end{aligned}\n",
    "\n",
    "\n",
    "- ソフトマックス関数　：多クラス分類\n",
    "\\begin{aligned}\n",
    "f(i , u) = \\frac{e^{u_i}}{\\sum_{k=1}^K e^{u_K}}\n",
    "\\end{aligned}"
   ]
  },
  {
   "cell_type": "markdown",
   "id": "cf44f448",
   "metadata": {},
   "source": [
    "## 確認テスト"
   ]
  },
  {
   "cell_type": "markdown",
   "id": "58cc8db2",
   "metadata": {},
   "source": [
    "#### P38　二乗誤差"
   ]
  },
  {
   "cell_type": "markdown",
   "id": "0114f07f",
   "metadata": {},
   "source": [
    "問）なぜ、引き算でなく二乗するか述べよ"
   ]
  },
  {
   "cell_type": "markdown",
   "id": "989a3376",
   "metadata": {},
   "source": [
    "答）引き算を行うだけでは、各ラベルの誤差で正負両方の値が発生し、全体の誤差を正しくあらわすのに都合が悪い。２乗してそれぞれのラベルでの誤差を生の値になるようにする。"
   ]
  },
  {
   "cell_type": "markdown",
   "id": "dbdf98e9",
   "metadata": {},
   "source": [
    "問）下式の1/2はどういう意味を持つか述べよ"
   ]
  },
  {
   "cell_type": "markdown",
   "id": "706939f0",
   "metadata": {},
   "source": [
    "答）\n",
    "実際にネットワークを学習するときに行う、誤差逆伝搬の計算で、誤差関数の微分を用いるが、その際の計算式を簡単にするため。本質的な意味はない。"
   ]
  },
  {
   "cell_type": "markdown",
   "id": "75786aa4",
   "metadata": {},
   "source": [
    "#### P45　ソフトマックス関数"
   ]
  },
  {
   "cell_type": "markdown",
   "id": "df3972f8",
   "metadata": {},
   "source": [
    "問）①～③の数式に該当するソースコードを示し、一行づつ処理の説明をせよ。"
   ]
  },
  {
   "cell_type": "markdown",
   "id": "6539434c",
   "metadata": {},
   "source": [
    "\\begin{aligned}\n",
    "f(i , u) = \\frac{e^{u_i}}{\\sum_{k=1}^K e^{u_K}}\n",
    "\\end{aligned}"
   ]
  },
  {
   "cell_type": "markdown",
   "id": "a55b8c43",
   "metadata": {},
   "source": [
    "答）下記のソースの中に、「####」で始まるコメントにて回答します。"
   ]
  },
  {
   "cell_type": "code",
   "execution_count": 2,
   "id": "8fb65ce8",
   "metadata": {},
   "outputs": [],
   "source": [
    "# ソフトマックス関数\n",
    "def softmax(x):\n",
    "    if x.ndim == 2:\n",
    "        x = x.T\n",
    "        x = x - np.max(x, axis=0)\n",
    "        ####  ②答え： np.exp(x)\n",
    "        ####  ③答え： np.sum(np.exp(x), axis=0)\n",
    "        y = np.exp(x) / np.sum(np.exp(x), axis=0)\n",
    "        ####  ①答え： y.T\n",
    "        return y.T\n",
    "\n",
    "    x = x - np.max(x) # オーバーフロー対策\n",
    "    ####  ②答え： np.exp(x)\n",
    "    ####  ③答え： np.sum(np.exp(x))\n",
    "    ####  ①答え： np.exp(x) / np.sum(np.exp(x))\n",
    "    return np.exp(x) / np.sum(np.exp(x))"
   ]
  },
  {
   "cell_type": "markdown",
   "id": "cd701e72",
   "metadata": {},
   "source": [
    "#### P47　交差エントロピー"
   ]
  },
  {
   "cell_type": "markdown",
   "id": "cc44a029",
   "metadata": {},
   "source": [
    "問）①～②の数式に該当するソースコードを示し、一行づつ処理の説明をせよ。"
   ]
  },
  {
   "cell_type": "markdown",
   "id": "43303169",
   "metadata": {},
   "source": [
    "\\begin{aligned}\n",
    "E_n(w) = - \\sum_{i=1}^I \\log{y_i}\n",
    "\\end{aligned}"
   ]
  },
  {
   "cell_type": "markdown",
   "id": "b4954c66",
   "metadata": {},
   "source": [
    "答）下記のソースの中に、「####」で始まるコメントにて回答します。"
   ]
  },
  {
   "cell_type": "code",
   "execution_count": 3,
   "id": "57f6e76e",
   "metadata": {},
   "outputs": [],
   "source": [
    "# クロスエントロピー\n",
    "def cross_entropy_error(d, y):\n",
    "    if y.ndim == 1:\n",
    "        d = d.reshape(1, d.size)\n",
    "        y = y.reshape(1, y.size)\n",
    "        \n",
    "    # 教師データがone-hot-vectorの場合、正解ラベルのインデックスに変換\n",
    "    if d.size == y.size:\n",
    "        d = d.argmax(axis=1)\n",
    "             \n",
    "    batch_size = y.shape[0]\n",
    "    ####  ①答え： -np.sum(np.log(y[np.arange(batch_size), d] + 1e-7)) / batch_size\n",
    "    ####  ②答え： -np.sum(np.log(y[np.arange(batch_size), d] + 1e-7))\n",
    "    return -np.sum(np.log(y[np.arange(batch_size), d] + 1e-7)) / batch_size\n"
   ]
  },
  {
   "cell_type": "markdown",
   "id": "949ac284",
   "metadata": {},
   "source": [
    "# Section4：勾配降下法"
   ]
  },
  {
   "cell_type": "markdown",
   "id": "5865cc4d",
   "metadata": {},
   "source": [
    "## 勾配降下法の目的\n",
    "\n",
    "- 学習を通して誤差を最小にするネットワークを作成すること \\\n",
    "　⇒誤差$E(w)$を最小化するパラメータ$w$を発見すること\n",
    " \n",
    " "
   ]
  },
  {
   "cell_type": "code",
   "execution_count": 72,
   "id": "00af0da6",
   "metadata": {},
   "outputs": [
    {
     "data": {
      "image/jpeg": "[encoded data removed]",
      "text/plain": [
       "<IPython.core.display.Image object>"
      ]
     },
     "execution_count": 72,
     "metadata": {},
     "output_type": "execute_result"
    }
   ],
   "source": [
    "from IPython.display import Image\n",
    "Image(\"./Section4_勾配降下法1.jpg\")"
   ]
  },
  {
   "cell_type": "markdown",
   "id": "cae6b3f4",
   "metadata": {},
   "source": [
    "$\\varepsilon$ :学習率 \\\n",
    "学習率の値によって学習の効率が大きく異なる。 \\\n",
    "学習率が大きすぎた場合、最小値にいつまでもたどりつかず発散してしまう。 \\\n",
    "学習率が小さすぎる場合、発散することはないが、収束するまでに時間がかかってしまう。"
   ]
  },
  {
   "cell_type": "markdown",
   "id": "c52c397c",
   "metadata": {},
   "source": [
    "#### 勾配降下法のアルゴリズム\n",
    "- Momentum\n",
    "- AdaGrad\n",
    "- Adadelta\n",
    "- Adam"
   ]
  },
  {
   "cell_type": "markdown",
   "id": "b4893139",
   "metadata": {},
   "source": [
    "#### 確率的勾配降下法（SGD)\n",
    "- メリット \n",
    " - データが冗⻑な場合の計算コストの軽減\n",
    " - 望まない局所極小解に収束するリスクの軽減\n",
    " - オンライン学習ができる"
   ]
  },
  {
   "cell_type": "markdown",
   "id": "502090e1",
   "metadata": {},
   "source": [
    "#### ミニバッチ勾配降下法\n",
    "- メリット\n",
    " - 確率的勾配降下法のメリットを損なわず、計算機の計算資源を有効利用できる \\\n",
    "　⇒→CPUを利用したスレッド並列化やGPUを利用したSIMD並列化"
   ]
  },
  {
   "cell_type": "markdown",
   "id": "c3268e28",
   "metadata": {},
   "source": [
    "#### 誤差勾配の計算\n",
    "\\begin{aligned}\n",
    "\\nabla =  \\frac{\\partial E}{\\partial w} = \\left[ \\frac{\\partial E}{\\partial w_1} \\ldots \\frac{\\partial E}{\\partial w_M}  \\right] \\\\\n",
    "\\end{aligned}\n",
    "どう計算するか？ \\\n",
    "【数値微分】 \\\n",
    "プログラムで微小な数値を生成し擬似的に微分を計算する一般的な手法 \\\n",
    "\\begin{aligned}\n",
    "\\frac{\\partial E}{\\partial w_m} \\approx \\frac{E(w_m + h) - E(w_m-h)}{2h}\n",
    "\\end{aligned}\n",
    "\n",
    "数値微分のデメリット\n",
    "- 各パラメータ$w_m$それぞれについて$E(w_m+h)$や$E(w_m-h)$を計算するために、順伝播の計算を繰り返し行う必要があり負荷が大きい \\\n",
    "　⇒誤差逆伝播法を利用する"
   ]
  },
  {
   "cell_type": "markdown",
   "id": "c48596a3",
   "metadata": {},
   "source": [
    "# 確認テスト"
   ]
  },
  {
   "cell_type": "markdown",
   "id": "29b211b9",
   "metadata": {},
   "source": [
    "#### P50　勾配降下法"
   ]
  },
  {
   "cell_type": "markdown",
   "id": "d15e98bf",
   "metadata": {},
   "source": [
    "問）該当するソースコードを探してみよう。\n",
    "\\begin{aligned}\n",
    "w^{(t+1)} = w^{(t)} - \\varepsilon \\nabla E\n",
    "\\end{aligned}"
   ]
  },
  {
   "cell_type": "markdown",
   "id": "5a56b6ce",
   "metadata": {},
   "source": [
    "答）\\\n",
    "network[key]  -= learning_rate* grad[key]"
   ]
  },
  {
   "cell_type": "markdown",
   "id": "af83e62e",
   "metadata": {},
   "source": [
    "問）該当するソースコードを探してみよう。\n",
    "\\begin{aligned}\n",
    "\\nabla =  \\frac{\\partial E}{\\partial w} = \\left[ \\frac{\\partial E}{\\partial w_1} \\ldots \\frac{\\partial E}{\\partial w_M}  \\right] \\\\\n",
    "\\end{aligned}"
   ]
  },
  {
   "cell_type": "markdown",
   "id": "aecad084",
   "metadata": {},
   "source": [
    "答）\\\n",
    "grad = backward(x, d, z1, y)"
   ]
  },
  {
   "cell_type": "markdown",
   "id": "33e6820c",
   "metadata": {},
   "source": [
    "#### P59 "
   ]
  },
  {
   "cell_type": "markdown",
   "id": "02005785",
   "metadata": {},
   "source": [
    "問）確率的勾配降下法のオンライン学習とは何か、２行でまとめよ"
   ]
  },
  {
   "cell_type": "markdown",
   "id": "3c12a5bc",
   "metadata": {},
   "source": [
    "#### P60"
   ]
  },
  {
   "cell_type": "markdown",
   "id": "1bc12cb0",
   "metadata": {},
   "source": [
    "問）この数式の意味を図に書いて説明せよ。\n",
    "\\begin{aligned}\n",
    "w^{(t+1)} = w^{(t)} - \\varepsilon \\nabla E_t  \n",
    "\\end{aligned}\n"
   ]
  },
  {
   "cell_type": "code",
   "execution_count": null,
   "id": "468e0947",
   "metadata": {},
   "outputs": [],
   "source": []
  }
 ],
 "metadata": {
  "kernelspec": {
   "display_name": "Python 3 (ipykernel)",
   "language": "python",
   "name": "python3"
  },
  "language_info": {
   "codemirror_mode": {
    "name": "ipython",
    "version": 3
   },
   "file_extension": ".py",
   "mimetype": "text/x-python",
   "name": "python",
   "nbconvert_exporter": "python",
   "pygments_lexer": "ipython3",
   "version": "3.9.7"
  }
 },
 "nbformat": 4,
 "nbformat_minor": 5
}
