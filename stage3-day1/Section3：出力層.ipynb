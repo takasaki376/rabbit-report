{
 "cells": [
  {
   "cell_type": "markdown",
   "id": "567ecb21",
   "metadata": {},
   "source": [
    "# Section3：出力層"
   ]
  },
  {
   "cell_type": "markdown",
   "id": "355e5f14",
   "metadata": {},
   "source": [
    "## 出力層の役割"
   ]
  },
  {
   "cell_type": "markdown",
   "id": "54938b83",
   "metadata": {},
   "source": [
    "## 誤差関数"
   ]
  },
  {
   "cell_type": "markdown",
   "id": "ae131689",
   "metadata": {},
   "source": [
    "## 出力層の活性化関数"
   ]
  },
  {
   "cell_type": "code",
   "execution_count": null,
   "id": "af483ad7",
   "metadata": {},
   "outputs": [],
   "source": []
  },
  {
   "cell_type": "code",
   "execution_count": null,
   "id": "fea5ca92",
   "metadata": {},
   "outputs": [],
   "source": []
  },
  {
   "cell_type": "code",
   "execution_count": null,
   "id": "5d321501",
   "metadata": {},
   "outputs": [],
   "source": []
  },
  {
   "cell_type": "code",
   "execution_count": null,
   "id": "73d38d26",
   "metadata": {},
   "outputs": [],
   "source": []
  },
  {
   "cell_type": "code",
   "execution_count": null,
   "id": "15e8aafc",
   "metadata": {},
   "outputs": [],
   "source": []
  },
  {
   "cell_type": "code",
   "execution_count": null,
   "id": "68de777f",
   "metadata": {},
   "outputs": [],
   "source": []
  },
  {
   "cell_type": "code",
   "execution_count": null,
   "id": "bd8de792",
   "metadata": {},
   "outputs": [],
   "source": []
  },
  {
   "cell_type": "markdown",
   "id": "cf44f448",
   "metadata": {},
   "source": [
    "## 確認テスト"
   ]
  },
  {
   "cell_type": "markdown",
   "id": "58cc8db2",
   "metadata": {},
   "source": [
    "#### P38"
   ]
  },
  {
   "cell_type": "markdown",
   "id": "0114f07f",
   "metadata": {},
   "source": [
    "問）\n",
    "- なぜ、引き算でなく二乗するか述べよ"
   ]
  },
  {
   "cell_type": "markdown",
   "id": "989a3376",
   "metadata": {},
   "source": [
    "答）\n",
    "- 差分を常に正の数値としたいため\n",
    "- 差分を評価する際に、差分が大きい方を誤差がより大きいと評価したいため"
   ]
  },
  {
   "cell_type": "markdown",
   "id": "dbdf98e9",
   "metadata": {},
   "source": [
    "- 下式の1/2はどういう意味を持つか述べよ"
   ]
  },
  {
   "cell_type": "markdown",
   "id": "75786aa4",
   "metadata": {},
   "source": []
  },
  {
   "cell_type": "markdown",
   "id": "df3972f8",
   "metadata": {},
   "source": []
  },
  {
   "cell_type": "markdown",
   "id": "aecad084",
   "metadata": {},
   "source": []
  }
 ],
 "metadata": {
  "kernelspec": {
   "display_name": "Python 3 (ipykernel)",
   "language": "python",
   "name": "python3"
  },
  "language_info": {
   "codemirror_mode": {
    "name": "ipython",
    "version": 3
   },
   "file_extension": ".py",
   "mimetype": "text/x-python",
   "name": "python",
   "nbconvert_exporter": "python",
   "pygments_lexer": "ipython3",
   "version": "3.9.7"
  }
 },
 "nbformat": 4,
 "nbformat_minor": 5
}
