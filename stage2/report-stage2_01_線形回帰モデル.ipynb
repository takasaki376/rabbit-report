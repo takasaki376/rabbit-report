{
 "cells": [
  {
   "cell_type": "markdown",
   "metadata": {},
   "source": [
    "# 線形回帰モデル"
   ]
  },
  {
   "cell_type": "markdown",
   "metadata": {},
   "source": [
    "## 回帰問題 "
   ]
  },
  {
   "cell_type": "markdown",
   "metadata": {},
   "source": [
    "- ある入力（離散あるいは連続値）から出力（連続値）を予測する。"
   ]
  },
  {
   "cell_type": "markdown",
   "metadata": {},
   "source": [
    "### 線形回帰\n",
    "- 直線で予測する\n",
    "- ざっくり説明すると比例\n",
    "\n",
    "数学で記載すると、$y = Ax + B$（２次元）や、平面だと$z = Ax + By + C$（３次元）といった書き方になる。\n",
    "\n",
    "#### $n$次元空間における超平面の方程式\n",
    "\n",
    "\n",
    "\\begin{aligned}\n",
    "y &= a_0 + a_1x_1 + a_2x_2 + ・・・・ + a_{n-1}x_{n-1} \\\\[8px]\n",
    "  &= a_0 + \\sum_{i=1}^{n-1} a_ix_i \\\\[8px]\n",
    "  &= \\sum_{i=0}^{n-1} a_ix_i (x_0=1とする) \\\\[8px]\n",
    "\\end{aligned}"
   ]
  },
  {
   "cell_type": "markdown",
   "metadata": {},
   "source": [
    "$ \\sum_{i=0}^{n-1} a_ix_i$の部分を行列で表すと、\n",
    "\n",
    "\\begin{aligned}\n",
    "\\mathbf{a}\n",
    "  &=\n",
    "  \\left(\n",
    "    \\begin{array}{c}\n",
    "      a_0 \\\\\n",
    "      a_1 \\\\\n",
    "      \\vdots \\\\\n",
    "      a_{n-1}\n",
    "    \\end{array}\n",
    "  \\right) \\\\[8px]\n",
    "\\mathbf{a}^T\n",
    "  &=\n",
    "  \\left(\n",
    "    \\begin{array}{cccc}\n",
    "      a_0 & a_1 & \\ldots & a_{n-1}\n",
    "    \\end{array}\n",
    "  \\right) \\\\[8px]\n",
    "\\mathbf{x}\n",
    "  &=\n",
    "  \\left(\n",
    "    \\begin{array}{c}\n",
    "      x_0 \\\\\n",
    "      x_1 \\\\\n",
    "      \\vdots \\\\\n",
    "      x_{n-1}\n",
    "    \\end{array}\n",
    "  \\right) \\\\\n",
    "\\end{aligned}\n",
    "\n",
    "$n$次元空間における超平面の方程式を行列で記述すると、\n",
    "\n",
    "\\begin{aligned}\n",
    "y &= \\mathbf{a}^T\\mathbf{x} \\\\[8px]\n",
    "  &= \\left(\n",
    "    \\begin{array}{cccc}\n",
    "      a_0 & a_1 & \\ldots & a_{n-1}\n",
    "    \\end{array}\n",
    "  \\right)\n",
    "  \\left(\n",
    "    \\begin{array}{c}\n",
    "      x_0 \\\\\n",
    "      x_1 \\\\\n",
    "      \\vdots \\\\\n",
    "      x_{n-1}\n",
    "    \\end{array}\n",
    "  \\right) \\\\[8px]\n",
    "\\end{aligned}"
   ]
  },
  {
   "cell_type": "markdown",
   "metadata": {},
   "source": [
    "### 例\n",
    "- あるお店の来店者数を入力にして、売り上げを出力とする。\n",
    "- ランキングを求める事もできる。\n",
    "\n",
    "#### バクニックの原理（回帰問題でランキングは解くべきでない。本来やりたい事より難しい問題を解くべきではない。）\n",
    "#### 密度比推計の[参考](https://speakerdeck.com/oshokawa/mi-du-bi-tui-ding-niyoruyi-chang-jian-zhi?slide=34)（E資格には出てこない）\n"
   ]
  },
  {
   "cell_type": "markdown",
   "metadata": {},
   "source": [
    "### 非線形回帰\n",
    "- 曲線で予測する"
   ]
  },
  {
   "cell_type": "markdown",
   "metadata": {},
   "source": [
    "## 回帰で扱うデータ"
   ]
  },
  {
   "cell_type": "markdown",
   "metadata": {},
   "source": [
    "- 入力（各要素を説明変数または特徴量と呼ぶ）"
   ]
  },
  {
   "cell_type": "markdown",
   "metadata": {},
   "source": [
    "- 出力（目的変数）"
   ]
  },
  {
   "cell_type": "code",
   "execution_count": null,
   "metadata": {},
   "outputs": [],
   "source": []
  },
  {
   "cell_type": "code",
   "execution_count": null,
   "metadata": {},
   "outputs": [],
   "source": []
  },
  {
   "cell_type": "code",
   "execution_count": null,
   "metadata": {},
   "outputs": [],
   "source": []
  },
  {
   "cell_type": "code",
   "execution_count": null,
   "metadata": {},
   "outputs": [],
   "source": []
  },
  {
   "cell_type": "markdown",
   "metadata": {},
   "source": [
    "# ハンズオン"
   ]
  },
  {
   "cell_type": "code",
   "execution_count": 1,
   "metadata": {},
   "outputs": [],
   "source": [
    "%matplotlib inline\n",
    "import numpy as np\n",
    "import matplotlib.pyplot as plt"
   ]
  },
  {
   "cell_type": "code",
   "execution_count": null,
   "metadata": {},
   "outputs": [],
   "source": []
  }
 ],
 "metadata": {
  "kernelspec": {
   "display_name": "Python 3 (ipykernel)",
   "language": "python",
   "name": "python3"
  },
  "language_info": {
   "codemirror_mode": {
    "name": "ipython",
    "version": 3
   },
   "file_extension": ".py",
   "mimetype": "text/x-python",
   "name": "python",
   "nbconvert_exporter": "python",
   "pygments_lexer": "ipython3",
   "version": "3.9.7"
  }
 },
 "nbformat": 4,
 "nbformat_minor": 2
}
