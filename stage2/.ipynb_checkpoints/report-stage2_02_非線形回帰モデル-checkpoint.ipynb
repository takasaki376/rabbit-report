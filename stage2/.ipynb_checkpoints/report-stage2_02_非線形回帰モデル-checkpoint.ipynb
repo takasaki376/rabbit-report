{
 "cells": [
  {
   "cell_type": "markdown",
   "metadata": {},
   "source": [
    "# 非線形回帰モデル"
   ]
  },
  {
   "cell_type": "markdown",
   "metadata": {},
   "source": [
    "- 曲線で予測する"
   ]
  },
  {
   "cell_type": "markdown",
   "metadata": {},
   "source": [
    "## 回帰で扱うデータ"
   ]
  },
  {
   "cell_type": "markdown",
   "metadata": {},
   "source": [
    "- 入力（各要素を説明変数または特徴量と呼ぶ） \\\n",
    "m次元のベクトル（$m=1$の場合はスカラー）\n",
    "\\begin{aligned}\n",
    "\\mathbf{x}\n",
    "  &=\n",
    "  \\left(\n",
    "    \\begin{array}{cccc}\n",
    "      x_1 & x_2 & \\ldots & x_m\n",
    "    \\end{array}\n",
    "  \\right)^T \\in \\mathbb{R}^m \\\\[8px]\n",
    "\\end{aligned}"
   ]
  },
  {
   "cell_type": "markdown",
   "metadata": {},
   "source": [
    "- 出力（目的変数） \\\n",
    "スカラー値\n",
    "\\begin{aligned}\n",
    " y \\in \\mathbb{R}^1\n",
    "\\end{aligned}"
   ]
  },
  {
   "cell_type": "markdown",
   "metadata": {},
   "source": [
    "※$\\mathbb{R}$は、実数全体を表す。 \\\n",
    "※$\\mathbb{R}^m$は、m次元の実数である。"
   ]
  },
  {
   "cell_type": "markdown",
   "metadata": {},
   "source": [
    "## 線形回帰と非線形回帰の違い"
   ]
  },
  {
   "cell_type": "markdown",
   "metadata": {},
   "source": [
    "- 線形回帰モデル：回帰係数  \n",
    "- 非線形回帰モデル：回帰関数 \\\n",
    "  回帰関数は、概ね多項式関数やガウス型基底関数を使用される。  "
   ]
  },
  {
   "cell_type": "markdown",
   "metadata": {},
   "source": [
    "### 基底展開法 \n",
    "- 回帰関数して、基底関数と呼ばれる既知の非線形関数とパラメータベクトルの線形結合を使用 \n",
    "- 未知パラメータは最小２乗法や最尤法により推定  "
   ]
  },
  {
   "cell_type": "markdown",
   "metadata": {},
   "source": [
    "\\begin{aligned}\n",
    "y_i &= f( x_i ) + \\varepsilon_i \\\\[8px]\n",
    "y_i &=  \\omega_0 + - \\sum _{j=1} ^{m} \\omega_j \\phi_j(x_i) + \\varepsilon_i \n",
    "\\end{aligned}\n",
    "\n",
    "$\\phi_j(x_i)$の部分は$x$の関数であり、基底関数と呼ばれる。\n",
    "$w$については線形のまま\n"
   ]
  },
  {
   "cell_type": "markdown",
   "metadata": {},
   "source": [
    "## 非線形回帰で扱うデータ"
   ]
  },
  {
   "cell_type": "markdown",
   "metadata": {},
   "source": [
    "- 説明変数（各要素を説明変数または特徴量と呼ぶ） \\\n",
    "\\begin{aligned}\n",
    "  \\mathbf{x}_i\n",
    "    &=\\left(\n",
    "      \\begin{array}{cccc}\n",
    "        x_{i1} ,& x_{i2}, & \\ldots, & x_{im}\n",
    "      \\end{array}\n",
    "    \\right) \\in \\mathbb{R}^m \\\\[8px]\n",
    "\\end{aligned}"
   ]
  },
  {
   "cell_type": "markdown",
   "metadata": {},
   "source": [
    "- 非線形ベクトル\n",
    "\\begin{aligned}\n",
    "  \\phi(x_i) \n",
    "    &=\\left(\n",
    "      \\begin{array}{cccc}\n",
    "        \\phi_1(x_i) ,& \\phi_2(x_i), & \\ldots, & \\phi_k(x_i)\n",
    "      \\end{array}\n",
    "    \\right)^T \\in \\mathbb{R}^k \\\\[8px]\n",
    "\\end{aligned}"
   ]
  },
  {
   "cell_type": "markdown",
   "metadata": {},
   "source": [
    "- 非線形関数の計画行列\n",
    "\\begin{aligned}\n",
    "  \\boldsymbol{\\phi}^{(train)} \n",
    "    &=\\left(\n",
    "      \\begin{array}{cccc}\n",
    "        \\phi(x_1) ,& \\phi(x_2), & \\ldots, & \\phi(x_n)\n",
    "      \\end{array}\n",
    "    \\right)^T \\in \\mathbb{R}^{n \\times k} \\\\[8px]\n",
    "\\end{aligned}\n",
    "\n",
    "$n \\times k$の行列\n",
    "\n",
    "線形回帰：$y=Xw$ \n",
    "- $y$は、$n+1$\n",
    "- $w$は、$(m+1)\\times 1$\n",
    "- $X$は、$n \\times (m+1)$\n",
    "\n",
    "非線形回帰：$y=\\phi w$ \n",
    "- $y$は、$n+1$\n",
    "- $w$は、$(m+1)\\times 1$\n",
    "- $\\phi$は、$n \\times (m+1)$  ←ここだけ、線形回帰と異なる。\n",
    "\n",
    "※最小化する$w$は、線形回帰と同じ\n",
    "\\begin{aligned}\n",
    "  \\hat{w} &= (X^TX)^{-1}X^Ty \\\\[8px]\n",
    "  \\Rightarrow & \\\\[8px]\n",
    "  \\hat{w} &= (\\phi^T\\phi)^{-1}\\phi^Ty \\\\[8px]\n",
    "  \\hat{y} &= \\phi_* \\hat{w} \\\\[8px]\n",
    "  &= \\phi_* (\\phi^T\\phi)^{-1}\\phi^Ty\n",
    "\\end{aligned}"
   ]
  },
  {
   "cell_type": "markdown",
   "metadata": {},
   "source": [
    "- 最尤法（最小二乗法）による予測値\n",
    "\\begin{aligned}\n",
    "  \\hat{y}  &= \\phi^{(train)} (\\phi^{(train)T}\\phi^{(train)})^{-1}\\phi^{(train)T}y^{(train)}\n",
    "\\end{aligned}"
   ]
  },
  {
   "cell_type": "markdown",
   "metadata": {},
   "source": [
    "### よく使われる基底関数\n",
    "- 多項式関数\n",
    "- ガウス型規定関数\n",
    "- スプライン関数／Bスプライン関数"
   ]
  },
  {
   "cell_type": "markdown",
   "metadata": {},
   "source": [
    "## 未学習と過学習"
   ]
  },
  {
   "cell_type": "markdown",
   "metadata": {},
   "source": [
    "#### 学習データに対して十分小さな誤差が得られないモデル　$\\rightarrow$　未学習  \n",
    "- (対策) モデルの表現力が低いため、表現力の高いモデルを利用する。\n",
    "\n",
    "#### 小さな誤差は得られたけど、テスト集合誤差との差が大きいモデル　$\\rightarrow$　過学習(過剰適合)\n",
    "- (対策１) 学習データの数を増やす。  \n",
    "- (対策２) 不要な規定関数(変数）を削除して表現を抑止\n",
    "- (対策３) 正則化法を利用して表現力を抑止"
   ]
  },
  {
   "cell_type": "markdown",
   "metadata": {},
   "source": [
    "### （対策２）不要な規定関数を削除\n",
    "- 基底関数の数、位置やバンド幅によりモデルの複雑さが変化\n",
    "- 解きたい問題に対して、多くの基底関数を用意してしまうと過学習の問題がおこるため、適切な基底関数を用意（CVなどで選択）"
   ]
  },
  {
   "cell_type": "markdown",
   "metadata": {},
   "source": [
    "### （対策３）正則化　（罰則化法）\n",
    "- 「モデルの複雑さに伴ってその値が大きくなる正則化項（罰則項）を課した関数」を最小化\n",
    "- 正則化項（罰則項）の役割\n",
    " - 形状によっていくるもの種類があり、それぞれの推定量の性質が異なる。 \n",
    " - L2ノルムを利用　⇒　Rdign推定量 ：パラメータを0に近づけるように推定\n",
    " - L1ノルムを利用　⇒　Lasso推定量 ：幾つかのパラメータを正確に0に推定(スパース化）\n",
    "- 正則化（平滑化）パラメータの役割 \n",
    " - モデルの曲線お滑らかさを調節　⇒　適切に決める必要あり\n",
    " - 小さく　⇒　制約面が大きく\n",
    " - 大きく　⇒　制約面が小さく"
   ]
  },
  {
   "cell_type": "markdown",
   "metadata": {},
   "source": [
    "#### ----正則化法----\n",
    "予測　\n",
    "\\begin{aligned}\n",
    "  \\hat{y} &= \\phi_* \\hat{w} \\\\[8px]\n",
    "\\end{aligned}\n",
    "\n",
    "$\\hat{w}\\;$ が大きくなってしまうのは逆行列が計算できない場合 \\\n",
    "例えばのように、２次元行列で$x$軸と平行となる場合\n",
    "\\begin{aligned}\n",
    " X = \\left(\n",
    "    \\begin{array}{cc}\n",
    "      1 & 2 \\\\\n",
    "      1 & 3 \\\\\n",
    "      1 & 4 \\\\\n",
    "    \\end{array}\n",
    "  \\right)\n",
    "\\end{aligned}\n",
    "\n",
    "\\begin{aligned}\n",
    " X = \\left(\n",
    "    \\begin{array}{ccc}\n",
    "      1 & 2 & 4 \\\\\n",
    "      1 & 3 & 5.9 \\\\\n",
    "      1 & 4 & 8.1 \\\\\n",
    "    \\end{array}\n",
    "  \\right) \\\\[8px]\n",
    "\\end{aligned}\n",
    "$(X^TX)^{-1}$の要素はめちゃくちゃ大きくなる。\n",
    "\n",
    "\n",
    "\\begin{aligned}\n",
    "\\Rightarrow \\\\[6px]\n",
    " E(w) = J(w) + \\lambda w^Tw \\\\[8px]\n",
    "\\end{aligned}\n",
    "\n",
    "$J(w)$はMSEで、これが小さくなるように考える。 \\\n",
    "$\\lambda w^Tw$は、罰則項で、$w$が大きくなると罰則が大きくなる。"
   ]
  },
  {
   "cell_type": "markdown",
   "metadata": {},
   "source": [
    "## 汎化性能\n",
    "- 汎化性能：学習に使用した入力(学習データ）だけではなく、それ以外のデータでどれだけ適合できるか。\n"
   ]
  },
  {
   "cell_type": "markdown",
   "metadata": {},
   "source": [
    "- 訓練誤差\n",
    "\\begin{aligned}\n",
    "MSE_{train} =  \\frac{1}{n_{train}} \\sum _{i=1} ^{n_train} ( \\hat y_i^{(train)} - y_i^{(train)} )^2 \n",
    "\\end{aligned}"
   ]
  },
  {
   "cell_type": "markdown",
   "metadata": {},
   "source": [
    "- テスト誤差\n",
    "\\begin{aligned}\n",
    "MSE_{test} =  \\frac{1}{n_{test}} \\sum _{i=1} ^{n_test} ( \\hat y_i^{(test)} - y_i^{(test)} )^2 \n",
    "\\end{aligned}"
   ]
  },
  {
   "cell_type": "code",
   "execution_count": null,
   "metadata": {},
   "outputs": [],
   "source": []
  },
  {
   "cell_type": "markdown",
   "metadata": {},
   "source": [
    "# ハンズオン"
   ]
  },
  {
   "cell_type": "markdown",
   "metadata": {},
   "source": [
    "#### 多項式関数(１~９次)"
   ]
  },
  {
   "cell_type": "markdown",
   "metadata": {},
   "source": [
    "\\begin{aligned}\n",
    "\\phi_j = x^j\n",
    "\\end{aligned}"
   ]
  },
  {
   "cell_type": "code",
   "execution_count": 45,
   "metadata": {},
   "outputs": [],
   "source": [
    "import numpy as np\n",
    "import matplotlib.pyplot as plt\n",
    "import seaborn as sns\n",
    "\n",
    "%matplotlib inline\n",
    "from sklearn.linear_model import LinearRegression\n",
    "from sklearn.kernel_ridge import KernelRidge"
   ]
  },
  {
   "cell_type": "code",
   "execution_count": 42,
   "metadata": {},
   "outputs": [],
   "source": [
    "# データ生成\n",
    "n=100\n",
    "\n",
    "def true_func(x):\n",
    "    z = 1-48*x+218*x**2-315*x**3+145*x**4\n",
    "    return z \n",
    "\n",
    "def linear_func(x):\n",
    "    z = x\n",
    "    return z"
   ]
  },
  {
   "cell_type": "code",
   "execution_count": 44,
   "metadata": {},
   "outputs": [
    {
     "name": "stderr",
     "output_type": "stream",
     "text": [
      "No handles with labels found to put in legend.\n"
     ]
    },
    {
     "data": {
      "text/plain": [
       "<matplotlib.legend.Legend at 0x290b84fe970>"
      ]
     },
     "execution_count": 44,
     "metadata": {},
     "output_type": "execute_result"
    },
    {
     "data": {
      "image/png": "[encoded data removed]",
      "text/plain": [
       "<Figure size 432x288 with 1 Axes>"
      ]
     },
     "metadata": {
      "needs_background": "light"
     },
     "output_type": "display_data"
    }
   ],
   "source": [
    "# 真の関数からノイズを伴うデータを生成\n",
    "\n",
    "## 真の関数からデータ生成\n",
    "data = np.random.rand(n).astype(np.float32)\n",
    "data = np.sort(data)\n",
    "target = true_func(data)\n",
    "\n",
    "## ノイズを加える\n",
    "noise = 0.5 * np.random.randn(n) \n",
    "target = target  + noise\n",
    "\n",
    "## ノイズ付きデータを描画\n",
    "plt.scatter(data, target)\n",
    "\n",
    "plt.title('NonLinear Regression')\n",
    "plt.legend(loc=2)"
   ]
  },
  {
   "cell_type": "code",
   "execution_count": 47,
   "metadata": {},
   "outputs": [],
   "source": [
    "data = data.reshape(-1,1)\n",
    "target = target.reshape(-1,1)"
   ]
  },
  {
   "cell_type": "code",
   "execution_count": 48,
   "metadata": {},
   "outputs": [
    {
     "name": "stdout",
     "output_type": "stream",
     "text": [
      "0.17027087000461616\n"
     ]
    },
    {
     "data": {
      "image/png": "[encoded data removed]",
      "text/plain": [
       "<Figure size 432x288 with 1 Axes>"
      ]
     },
     "metadata": {
      "needs_background": "light"
     },
     "output_type": "display_data"
    }
   ],
   "source": [
    "\n",
    "clf.fit(data, target)\n",
    "\n",
    "p_lin = clf.predict(data)\n",
    "\n",
    "plt.scatter(data, target, label='data')\n",
    "plt.plot(data, p_lin, color='darkorange', marker='', linestyle='-', linewidth=1, markersize=6, label='linear regression')\n",
    "plt.legend()\n",
    "print(clf.score(data, target))"
   ]
  },
  {
   "cell_type": "code",
   "execution_count": 40,
   "metadata": {},
   "outputs": [
    {
     "data": {
      "text/plain": [
       "<matplotlib.legend.Legend at 0x290b82ad040>"
      ]
     },
     "execution_count": 40,
     "metadata": {},
     "output_type": "execute_result"
    },
    {
     "data": {
      "image/png": "[encoded data removed]",
      "text/plain": [
       "<Figure size 432x288 with 1 Axes>"
      ]
     },
     "metadata": {
      "needs_background": "light"
     },
     "output_type": "display_data"
    }
   ],
   "source": [
    "# 多項式関数\n",
    "clf = KernelRidge(alpha=0.0002, kernel='rbf')\n",
    "clf.fit(data, target)\n",
    "\n",
    "p_kridge = clf.predict(data)\n",
    "\n",
    "plt.scatter(data, target, color='blue', label='data')\n",
    "\n",
    "plt.plot(data, p_kridge, color='orange', linestyle='-', linewidth=3, markersize=6, label='kernel ridge')\n",
    "plt.legend()"
   ]
  },
  {
   "cell_type": "markdown",
   "metadata": {},
   "source": [
    "#### ガウス型規定関数"
   ]
  },
  {
   "cell_type": "markdown",
   "metadata": {},
   "source": [
    "\\begin{aligned}\n",
    "  \\phi_j(x) &= exp \\left\\{\n",
    "    -\\;\\frac{(x-\\mu_j)^2}{2h_j}\n",
    "  \\right\\}　\\\\[8px]\n",
    "  &= exp \\left\\{\n",
    "    -\\;\\frac{(x-\\mu_j)^2}{\\sigma^2}\n",
    "  \\right\\}\n",
    "\\end{aligned}"
   ]
  },
  {
   "cell_type": "code",
   "execution_count": 41,
   "metadata": {},
   "outputs": [
    {
     "name": "stdout",
     "output_type": "stream",
     "text": [
      "0.809385229473302\n"
     ]
    },
    {
     "data": {
      "image/png": "[encoded data removed]",
      "text/plain": [
       "<Figure size 432x288 with 1 Axes>"
      ]
     },
     "metadata": {
      "needs_background": "light"
     },
     "output_type": "display_data"
    }
   ],
   "source": [
    "from sklearn.metrics.pairwise import rbf_kernel\n",
    "from sklearn.linear_model import Ridge\n",
    "\n",
    "kx = rbf_kernel(X=data, Y=data, gamma=50)\n",
    "#KX = rbf_kernel(X, x)\n",
    "\n",
    "#clf = LinearRegression()\n",
    "clf = Ridge(alpha=30)\n",
    "clf.fit(kx, target)\n",
    "\n",
    "p_ridge = clf.predict(kx)\n",
    "\n",
    "plt.scatter(data, target,label='data')\n",
    "for i in range(len(kx)):\n",
    "    plt.plot(data, kx[i], color='black', linestyle='-', linewidth=1, markersize=3, label='rbf', alpha=0.2)\n",
    "\n",
    "#plt.plot(data, p, color='green', marker='o', linestyle='-', linewidth=0.1, markersize=3)\n",
    "plt.plot(data, p_ridge, color='green', linestyle='-', linewidth=1, markersize=3,label='ridge regression')\n",
    "#plt.legend()\n",
    "\n",
    "print(clf.score(kx, target))"
   ]
  },
  {
   "cell_type": "code",
   "execution_count": 49,
   "metadata": {},
   "outputs": [],
   "source": [
    "from sklearn.preprocessing import PolynomialFeatures\n",
    "from sklearn.pipeline import Pipeline"
   ]
  },
  {
   "cell_type": "code",
   "execution_count": 50,
   "metadata": {},
   "outputs": [
    {
     "data": {
      "image/png": "[encoded data removed]",
      "text/plain": [
       "<Figure size 432x288 with 1 Axes>"
      ]
     },
     "metadata": {
      "needs_background": "light"
     },
     "output_type": "display_data"
    }
   ],
   "source": [
    "#PolynomialFeatures(degree=1)\n",
    "\n",
    "deg = [1,2,3,4,5,6,7,8,9,10]\n",
    "for d in deg:\n",
    "    regr = Pipeline([\n",
    "        ('poly', PolynomialFeatures(degree=d)),\n",
    "        ('linear', LinearRegression())\n",
    "    ])\n",
    "    regr.fit(data, target)\n",
    "    # make predictions\n",
    "    p_poly = regr.predict(data)\n",
    "    # plot regression result\n",
    "    plt.scatter(data, target, label='data')\n",
    "    plt.plot(data, p_poly, label='polynomial of degree %d' % (d))"
   ]
  },
  {
   "cell_type": "code",
   "execution_count": 51,
   "metadata": {},
   "outputs": [
    {
     "name": "stdout",
     "output_type": "stream",
     "text": [
      "1.1102230246251565e-16\n"
     ]
    },
    {
     "data": {
      "image/png": "[encoded data removed]",
      "text/plain": [
       "<Figure size 432x288 with 1 Axes>"
      ]
     },
     "metadata": {
      "needs_background": "light"
     },
     "output_type": "display_data"
    }
   ],
   "source": [
    "#Lasso\n",
    "\n",
    "from sklearn.metrics.pairwise import rbf_kernel\n",
    "from sklearn.linear_model import Lasso\n",
    "\n",
    "kx = rbf_kernel(X=data, Y=data, gamma=5)\n",
    "#KX = rbf_kernel(X, x)\n",
    "\n",
    "#lasso_clf = LinearRegression()\n",
    "lasso_clf = Lasso(alpha=10000, max_iter=1000)\n",
    "lasso_clf.fit(kx, target)\n",
    "\n",
    "p_lasso = lasso_clf.predict(kx)\n",
    "\n",
    "plt.scatter(data, target)\n",
    "\n",
    "#plt.plot(data, p, color='green', marker='o', linestyle='-', linewidth=0.1, markersize=3)\n",
    "plt.plot(data, p_lasso, color='green', linestyle='-', linewidth=3, markersize=3)\n",
    "\n",
    "print(lasso_clf.score(kx, target))"
   ]
  },
  {
   "cell_type": "code",
   "execution_count": 52,
   "metadata": {},
   "outputs": [
    {
     "name": "stderr",
     "output_type": "stream",
     "text": [
      "C:\\Users\\takas\\anaconda3\\envs\\ml\\lib\\site-packages\\sklearn\\utils\\validation.py:985: DataConversionWarning: A column-vector y was passed when a 1d array was expected. Please change the shape of y to (n_samples, ), for example using ravel().\n",
      "  y = column_or_1d(y, warn=True)\n",
      "C:\\Users\\takas\\anaconda3\\envs\\ml\\lib\\site-packages\\sklearn\\utils\\validation.py:985: DataConversionWarning: A column-vector y was passed when a 1d array was expected. Please change the shape of y to (n_samples, ), for example using ravel().\n",
      "  y = column_or_1d(y, warn=True)\n"
     ]
    },
    {
     "data": {
      "image/png": "[encoded data removed]",
      "text/plain": [
       "<Figure size 432x288 with 1 Axes>"
      ]
     },
     "metadata": {
      "needs_background": "light"
     },
     "output_type": "display_data"
    }
   ],
   "source": [
    "from sklearn import model_selection, preprocessing, linear_model, svm\n",
    "\n",
    "# SVR-rbf\n",
    "clf_svr = svm.SVR(kernel='rbf', C=1e3, gamma=0.1, epsilon=0.1)\n",
    "clf_svr.fit(data, target)\n",
    "y_rbf = clf_svr.fit(data, target).predict(data)\n",
    " \n",
    "# plot\n",
    "\n",
    "plt.scatter(data, target, color='darkorange', label='data')\n",
    "plt.plot(data, y_rbf, color='red', label='Support Vector Regression (RBF)')\n",
    "plt.legend()\n",
    "plt.show()"
   ]
  },
  {
   "cell_type": "code",
   "execution_count": 63,
   "metadata": {},
   "outputs": [],
   "source": [
    "from sklearn.model_selection import train_test_split\n",
    "x_train, x_test, y_train, y_test = train_test_split(data, target, test_size=0.1, random_state=0)"
   ]
  },
  {
   "cell_type": "code",
   "execution_count": 64,
   "metadata": {},
   "outputs": [],
   "source": [
    "import sys, os\n",
    "sys.path.append(os.pardir)\n",
    "from keras.callbacks import EarlyStopping, TensorBoard, ModelCheckpoint"
   ]
  },
  {
   "cell_type": "markdown",
   "metadata": {},
   "source": [
    "ローカル環境で実行しているが、同じ"
   ]
  },
  {
   "cell_type": "code",
   "execution_count": 65,
   "metadata": {},
   "outputs": [],
   "source": [
    "\n",
    "cb_cp = ModelCheckpoint('out/checkpoints/weights.{epoch:02d}-{val_loss:.2f}.hdf5', verbose=1, save_weights_only=True)\n",
    "cb_tf  = TensorBoard(log_dir='out/tensorBoard', histogram_freq=0)"
   ]
  },
  {
   "cell_type": "code",
   "execution_count": 71,
   "metadata": {},
   "outputs": [],
   "source": [
    "# モデルの定義\n",
    "def relu_reg_model():\n",
    "    model = Sequential()\n",
    "    model.add(Dense(10, input_dim=1, activation='relu'))\n",
    "    model.add(Dense(1000, activation='relu'))\n",
    "    model.add(Dense(1000, activation='relu'))\n",
    "    model.add(Dense(1000, activation='relu'))\n",
    "    model.add(Dense(1000, activation='relu'))\n",
    "    model.add(Dense(1000, activation='relu'))\n",
    "    model.add(Dense(1000, activation='relu'))\n",
    "    model.add(Dense(1000, activation='relu'))\n",
    "    model.add(Dense(1000, activation='linear'))\n",
    "    model.add(Dense(1))\n",
    "\n",
    "    model.compile(loss='mean_squared_error', optimizer='adam')\n",
    "    return model"
   ]
  },
  {
   "cell_type": "code",
   "execution_count": 68,
   "metadata": {},
   "outputs": [
    {
     "name": "stderr",
     "output_type": "stream",
     "text": [
      "C:\\Users\\takas\\AppData\\Local\\Temp/ipykernel_15292/3939401307.py:6: DeprecationWarning: KerasRegressor is deprecated, use Sci-Keras (https://github.com/adriangb/scikeras) instead.\n",
      "  estimator = KerasRegressor(build_fn=relu_reg_model, epochs=100, batch_size=5, verbose=1)\n"
     ]
    },
    {
     "name": "stdout",
     "output_type": "stream",
     "text": [
      "Epoch 1/100\n",
      "18/18 [==============================] - ETA: 0s - loss: 1.6995\n",
      "Epoch 00001: saving model to out/checkpoints\\weights.01-1.46.hdf5\n",
      "18/18 [==============================] - 1s 20ms/step - loss: 1.6995 - val_loss: 1.4617\n",
      "Epoch 2/100\n",
      "17/18 [===========================>..] - ETA: 0s - loss: 1.0623\n",
      "Epoch 00002: saving model to out/checkpoints\\weights.02-1.18.hdf5\n",
      "18/18 [==============================] - 0s 16ms/step - loss: 1.0449 - val_loss: 1.1850\n",
      "Epoch 3/100\n",
      "17/18 [===========================>..] - ETA: 0s - loss: 1.0411\n",
      "Epoch 00003: saving model to out/checkpoints\\weights.03-1.06.hdf5\n",
      "18/18 [==============================] - 0s 17ms/step - loss: 1.0538 - val_loss: 1.0568\n",
      "Epoch 4/100\n",
      "17/18 [===========================>..] - ETA: 0s - loss: 0.7618\n",
      "Epoch 00004: saving model to out/checkpoints\\weights.04-0.65.hdf5\n",
      "18/18 [==============================] - 0s 16ms/step - loss: 0.7697 - val_loss: 0.6478\n",
      "Epoch 5/100\n",
      "17/18 [===========================>..] - ETA: 0s - loss: 0.8920\n",
      "Epoch 00005: saving model to out/checkpoints\\weights.05-0.78.hdf5\n",
      "18/18 [==============================] - 0s 16ms/step - loss: 0.9781 - val_loss: 0.7811\n",
      "Epoch 6/100\n",
      "18/18 [==============================] - ETA: 0s - loss: 1.0673\n",
      "Epoch 00006: saving model to out/checkpoints\\weights.06-0.67.hdf5\n",
      "18/18 [==============================] - 0s 16ms/step - loss: 1.0673 - val_loss: 0.6654\n",
      "Epoch 7/100\n",
      "17/18 [===========================>..] - ETA: 0s - loss: 0.6271\n",
      "Epoch 00007: saving model to out/checkpoints\\weights.07-0.49.hdf5\n",
      "18/18 [==============================] - 0s 16ms/step - loss: 0.6355 - val_loss: 0.4920\n",
      "Epoch 8/100\n",
      "17/18 [===========================>..] - ETA: 0s - loss: 0.5943\n",
      "Epoch 00008: saving model to out/checkpoints\\weights.08-0.45.hdf5\n",
      "18/18 [==============================] - 0s 16ms/step - loss: 0.5887 - val_loss: 0.4516\n",
      "Epoch 9/100\n",
      "17/18 [===========================>..] - ETA: 0s - loss: 0.5911\n",
      "Epoch 00009: saving model to out/checkpoints\\weights.09-0.38.hdf5\n",
      "18/18 [==============================] - 0s 16ms/step - loss: 0.5749 - val_loss: 0.3812\n",
      "Epoch 10/100\n",
      "18/18 [==============================] - ETA: 0s - loss: 0.7384\n",
      "Epoch 00010: saving model to out/checkpoints\\weights.10-0.69.hdf5\n",
      "18/18 [==============================] - 0s 16ms/step - loss: 0.7384 - val_loss: 0.6942\n",
      "Epoch 11/100\n",
      "17/18 [===========================>..] - ETA: 0s - loss: 0.5566\n",
      "Epoch 00011: saving model to out/checkpoints\\weights.11-0.36.hdf5\n",
      "18/18 [==============================] - 0s 16ms/step - loss: 0.5294 - val_loss: 0.3557\n",
      "Epoch 12/100\n",
      "17/18 [===========================>..] - ETA: 0s - loss: 0.4071\n",
      "Epoch 00012: saving model to out/checkpoints\\weights.12-0.53.hdf5\n",
      "18/18 [==============================] - 0s 16ms/step - loss: 0.4010 - val_loss: 0.5312\n",
      "Epoch 13/100\n",
      "17/18 [===========================>..] - ETA: 0s - loss: 0.4377\n",
      "Epoch 00013: saving model to out/checkpoints\\weights.13-0.32.hdf5\n",
      "18/18 [==============================] - 0s 17ms/step - loss: 0.4161 - val_loss: 0.3239\n",
      "Epoch 14/100\n",
      "17/18 [===========================>..] - ETA: 0s - loss: 0.5091\n",
      "Epoch 00014: saving model to out/checkpoints\\weights.14-0.59.hdf5\n",
      "18/18 [==============================] - 0s 16ms/step - loss: 0.5038 - val_loss: 0.5922\n",
      "Epoch 15/100\n",
      "17/18 [===========================>..] - ETA: 0s - loss: 0.6504\n",
      "Epoch 00015: saving model to out/checkpoints\\weights.15-0.50.hdf5\n",
      "18/18 [==============================] - 0s 16ms/step - loss: 0.6357 - val_loss: 0.5008\n",
      "Epoch 16/100\n",
      "18/18 [==============================] - ETA: 0s - loss: 0.5856\n",
      "Epoch 00016: saving model to out/checkpoints\\weights.16-0.66.hdf5\n",
      "18/18 [==============================] - 0s 16ms/step - loss: 0.5856 - val_loss: 0.6580\n",
      "Epoch 17/100\n",
      "17/18 [===========================>..] - ETA: 0s - loss: 0.4360\n",
      "Epoch 00017: saving model to out/checkpoints\\weights.17-0.34.hdf5\n",
      "18/18 [==============================] - 0s 17ms/step - loss: 0.4310 - val_loss: 0.3447\n",
      "Epoch 18/100\n",
      "17/18 [===========================>..] - ETA: 0s - loss: 0.3950\n",
      "Epoch 00018: saving model to out/checkpoints\\weights.18-0.34.hdf5\n",
      "18/18 [==============================] - 0s 17ms/step - loss: 0.3833 - val_loss: 0.3414\n",
      "Epoch 19/100\n",
      "17/18 [===========================>..] - ETA: 0s - loss: 0.4172\n",
      "Epoch 00019: saving model to out/checkpoints\\weights.19-0.30.hdf5\n",
      "18/18 [==============================] - 0s 17ms/step - loss: 0.4120 - val_loss: 0.2967\n",
      "Epoch 20/100\n",
      "17/18 [===========================>..] - ETA: 0s - loss: 0.3471\n",
      "Epoch 00020: saving model to out/checkpoints\\weights.20-0.32.hdf5\n",
      "18/18 [==============================] - 0s 17ms/step - loss: 0.3491 - val_loss: 0.3155\n",
      "Epoch 21/100\n",
      "17/18 [===========================>..] - ETA: 0s - loss: 0.4444\n",
      "Epoch 00021: saving model to out/checkpoints\\weights.21-0.36.hdf5\n",
      "18/18 [==============================] - 0s 17ms/step - loss: 0.4212 - val_loss: 0.3601\n",
      "Epoch 22/100\n",
      "17/18 [===========================>..] - ETA: 0s - loss: 0.5477\n",
      "Epoch 00022: saving model to out/checkpoints\\weights.22-0.39.hdf5\n",
      "18/18 [==============================] - 0s 16ms/step - loss: 0.5444 - val_loss: 0.3943\n",
      "Epoch 23/100\n",
      "17/18 [===========================>..] - ETA: 0s - loss: 0.4895\n",
      "Epoch 00023: saving model to out/checkpoints\\weights.23-0.41.hdf5\n",
      "18/18 [==============================] - 0s 17ms/step - loss: 0.4758 - val_loss: 0.4074\n",
      "Epoch 24/100\n",
      "17/18 [===========================>..] - ETA: 0s - loss: 0.4266\n",
      "Epoch 00024: saving model to out/checkpoints\\weights.24-0.44.hdf5\n",
      "18/18 [==============================] - 0s 16ms/step - loss: 0.4460 - val_loss: 0.4415\n",
      "Epoch 25/100\n",
      "17/18 [===========================>..] - ETA: 0s - loss: 0.4362\n",
      "Epoch 00025: saving model to out/checkpoints\\weights.25-0.44.hdf5\n",
      "18/18 [==============================] - 0s 16ms/step - loss: 0.4197 - val_loss: 0.4445\n",
      "Epoch 26/100\n",
      "17/18 [===========================>..] - ETA: 0s - loss: 0.4867\n",
      "Epoch 00026: saving model to out/checkpoints\\weights.26-0.38.hdf5\n",
      "18/18 [==============================] - 0s 16ms/step - loss: 0.4879 - val_loss: 0.3797\n",
      "Epoch 27/100\n",
      "17/18 [===========================>..] - ETA: 0s - loss: 0.4055\n",
      "Epoch 00027: saving model to out/checkpoints\\weights.27-0.36.hdf5\n",
      "18/18 [==============================] - 0s 17ms/step - loss: 0.3980 - val_loss: 0.3609\n",
      "Epoch 28/100\n",
      "17/18 [===========================>..] - ETA: 0s - loss: 0.3571\n",
      "Epoch 00028: saving model to out/checkpoints\\weights.28-0.38.hdf5\n",
      "18/18 [==============================] - 0s 16ms/step - loss: 0.3729 - val_loss: 0.3791\n",
      "Epoch 29/100\n",
      "18/18 [==============================] - ETA: 0s - loss: 0.3918\n",
      "Epoch 00029: saving model to out/checkpoints\\weights.29-0.69.hdf5\n",
      "18/18 [==============================] - 0s 16ms/step - loss: 0.3918 - val_loss: 0.6929\n",
      "Epoch 30/100\n",
      "17/18 [===========================>..] - ETA: 0s - loss: 0.4498\n",
      "Epoch 00030: saving model to out/checkpoints\\weights.30-0.36.hdf5\n",
      "18/18 [==============================] - 0s 16ms/step - loss: 0.4696 - val_loss: 0.3613\n",
      "Epoch 31/100\n",
      "17/18 [===========================>..] - ETA: 0s - loss: 0.3665\n",
      "Epoch 00031: saving model to out/checkpoints\\weights.31-0.27.hdf5\n",
      "18/18 [==============================] - 0s 16ms/step - loss: 0.3781 - val_loss: 0.2717\n",
      "Epoch 32/100\n",
      "18/18 [==============================] - ETA: 0s - loss: 0.3697\n",
      "Epoch 00032: saving model to out/checkpoints\\weights.32-0.33.hdf5\n",
      "18/18 [==============================] - 0s 22ms/step - loss: 0.3697 - val_loss: 0.3345\n",
      "Epoch 33/100\n",
      "15/18 [========================>.....] - ETA: 0s - loss: 0.4161\n",
      "Epoch 00033: saving model to out/checkpoints\\weights.33-0.34.hdf5\n",
      "18/18 [==============================] - 0s 16ms/step - loss: 0.3944 - val_loss: 0.3396\n",
      "Epoch 34/100\n",
      "14/18 [======================>.......] - ETA: 0s - loss: 0.3846\n",
      "Epoch 00034: saving model to out/checkpoints\\weights.34-0.44.hdf5\n",
      "18/18 [==============================] - 0s 16ms/step - loss: 0.3741 - val_loss: 0.4400\n",
      "Epoch 35/100\n",
      "18/18 [==============================] - ETA: 0s - loss: 0.4269\n",
      "Epoch 00035: saving model to out/checkpoints\\weights.35-0.39.hdf5\n",
      "18/18 [==============================] - 0s 16ms/step - loss: 0.4269 - val_loss: 0.3869\n",
      "Epoch 36/100\n",
      "18/18 [==============================] - ETA: 0s - loss: 0.4309\n",
      "Epoch 00036: saving model to out/checkpoints\\weights.36-0.36.hdf5\n"
     ]
    },
    {
     "name": "stdout",
     "output_type": "stream",
     "text": [
      "18/18 [==============================] - 0s 23ms/step - loss: 0.4309 - val_loss: 0.3608\n",
      "Epoch 37/100\n",
      "18/18 [==============================] - ETA: 0s - loss: 0.4221\n",
      "Epoch 00037: saving model to out/checkpoints\\weights.37-0.29.hdf5\n",
      "18/18 [==============================] - 0s 16ms/step - loss: 0.4221 - val_loss: 0.2924\n",
      "Epoch 38/100\n",
      "14/18 [======================>.......] - ETA: 0s - loss: 0.2900\n",
      "Epoch 00038: saving model to out/checkpoints\\weights.38-0.31.hdf5\n",
      "18/18 [==============================] - 0s 16ms/step - loss: 0.3325 - val_loss: 0.3087\n",
      "Epoch 39/100\n",
      "14/18 [======================>.......] - ETA: 0s - loss: 0.3230\n",
      "Epoch 00039: saving model to out/checkpoints\\weights.39-0.30.hdf5\n",
      "18/18 [==============================] - 0s 16ms/step - loss: 0.3536 - val_loss: 0.3032\n",
      "Epoch 40/100\n",
      "15/18 [========================>.....] - ETA: 0s - loss: 0.3204\n",
      "Epoch 00040: saving model to out/checkpoints\\weights.40-0.37.hdf5\n",
      "18/18 [==============================] - 0s 16ms/step - loss: 0.3223 - val_loss: 0.3737\n",
      "Epoch 41/100\n",
      "15/18 [========================>.....] - ETA: 0s - loss: 0.3440\n",
      "Epoch 00041: saving model to out/checkpoints\\weights.41-0.29.hdf5\n",
      "18/18 [==============================] - 0s 24ms/step - loss: 0.3538 - val_loss: 0.2857\n",
      "Epoch 42/100\n",
      "18/18 [==============================] - ETA: 0s - loss: 0.3263\n",
      "Epoch 00042: saving model to out/checkpoints\\weights.42-0.45.hdf5\n",
      "18/18 [==============================] - 0s 16ms/step - loss: 0.3263 - val_loss: 0.4452\n",
      "Epoch 43/100\n",
      "18/18 [==============================] - ETA: 0s - loss: 0.2872\n",
      "Epoch 00043: saving model to out/checkpoints\\weights.43-0.20.hdf5\n",
      "18/18 [==============================] - 0s 16ms/step - loss: 0.2872 - val_loss: 0.2022\n",
      "Epoch 44/100\n",
      "15/18 [========================>.....] - ETA: 0s - loss: 0.3494\n",
      "Epoch 00044: saving model to out/checkpoints\\weights.44-0.21.hdf5\n",
      "18/18 [==============================] - 0s 16ms/step - loss: 0.3523 - val_loss: 0.2127\n",
      "Epoch 45/100\n",
      "15/18 [========================>.....] - ETA: 0s - loss: 0.4138\n",
      "Epoch 00045: saving model to out/checkpoints\\weights.45-0.28.hdf5\n",
      "18/18 [==============================] - 0s 22ms/step - loss: 0.4920 - val_loss: 0.2845\n",
      "Epoch 46/100\n",
      "15/18 [========================>.....] - ETA: 0s - loss: 0.5386\n",
      "Epoch 00046: saving model to out/checkpoints\\weights.46-0.39.hdf5\n",
      "18/18 [==============================] - 0s 16ms/step - loss: 0.4982 - val_loss: 0.3865\n",
      "Epoch 47/100\n",
      "14/18 [======================>.......] - ETA: 0s - loss: 0.4797\n",
      "Epoch 00047: saving model to out/checkpoints\\weights.47-0.56.hdf5\n",
      "18/18 [==============================] - 0s 16ms/step - loss: 0.5199 - val_loss: 0.5567\n",
      "Epoch 48/100\n",
      "17/18 [===========================>..] - ETA: 0s - loss: 0.3465\n",
      "Epoch 00048: saving model to out/checkpoints\\weights.48-0.31.hdf5\n",
      "18/18 [==============================] - 0s 16ms/step - loss: 0.3386 - val_loss: 0.3142\n",
      "Epoch 49/100\n",
      "17/18 [===========================>..] - ETA: 0s - loss: 0.2962\n",
      "Epoch 00049: saving model to out/checkpoints\\weights.49-0.23.hdf5\n",
      "18/18 [==============================] - 0s 16ms/step - loss: 0.3006 - val_loss: 0.2349\n",
      "Epoch 50/100\n",
      "17/18 [===========================>..] - ETA: 0s - loss: 0.2752\n",
      "Epoch 00050: saving model to out/checkpoints\\weights.50-0.20.hdf5\n",
      "18/18 [==============================] - 0s 21ms/step - loss: 0.2873 - val_loss: 0.1975\n",
      "Epoch 51/100\n",
      "15/18 [========================>.....] - ETA: 0s - loss: 0.4027\n",
      "Epoch 00051: saving model to out/checkpoints\\weights.51-0.29.hdf5\n",
      "18/18 [==============================] - 0s 16ms/step - loss: 0.4143 - val_loss: 0.2913\n",
      "Epoch 52/100\n",
      "17/18 [===========================>..] - ETA: 0s - loss: 0.4087\n",
      "Epoch 00052: saving model to out/checkpoints\\weights.52-0.21.hdf5\n",
      "18/18 [==============================] - 0s 16ms/step - loss: 0.4077 - val_loss: 0.2103\n",
      "Epoch 53/100\n",
      "15/18 [========================>.....] - ETA: 0s - loss: 0.2615\n",
      "Epoch 00053: saving model to out/checkpoints\\weights.53-0.24.hdf5\n",
      "18/18 [==============================] - 0s 16ms/step - loss: 0.2632 - val_loss: 0.2413\n",
      "Epoch 54/100\n",
      "18/18 [==============================] - ETA: 0s - loss: 0.2871\n",
      "Epoch 00054: saving model to out/checkpoints\\weights.54-0.19.hdf5\n",
      "18/18 [==============================] - 0s 27ms/step - loss: 0.2871 - val_loss: 0.1887\n",
      "Epoch 55/100\n",
      "17/18 [===========================>..] - ETA: 0s - loss: 0.3176\n",
      "Epoch 00055: saving model to out/checkpoints\\weights.55-0.28.hdf5\n",
      "18/18 [==============================] - 0s 17ms/step - loss: 0.3193 - val_loss: 0.2831\n",
      "Epoch 56/100\n",
      "17/18 [===========================>..] - ETA: 0s - loss: 0.4219\n",
      "Epoch 00056: saving model to out/checkpoints\\weights.56-0.27.hdf5\n",
      "18/18 [==============================] - 0s 17ms/step - loss: 0.4114 - val_loss: 0.2682\n",
      "Epoch 57/100\n",
      "17/18 [===========================>..] - ETA: 0s - loss: 0.3664\n",
      "Epoch 00057: saving model to out/checkpoints\\weights.57-0.29.hdf5\n",
      "18/18 [==============================] - 0s 16ms/step - loss: 0.3589 - val_loss: 0.2870\n",
      "Epoch 58/100\n",
      "17/18 [===========================>..] - ETA: 0s - loss: 0.2840\n",
      "Epoch 00058: saving model to out/checkpoints\\weights.58-0.19.hdf5\n",
      "18/18 [==============================] - 0s 27ms/step - loss: 0.2924 - val_loss: 0.1925\n",
      "Epoch 59/100\n",
      "17/18 [===========================>..] - ETA: 0s - loss: 0.2851\n",
      "Epoch 00059: saving model to out/checkpoints\\weights.59-0.25.hdf5\n",
      "18/18 [==============================] - 0s 16ms/step - loss: 0.2906 - val_loss: 0.2535\n",
      "Epoch 60/100\n",
      "17/18 [===========================>..] - ETA: 0s - loss: 0.2906\n",
      "Epoch 00060: saving model to out/checkpoints\\weights.60-0.22.hdf5\n",
      "18/18 [==============================] - 0s 17ms/step - loss: 0.2811 - val_loss: 0.2208\n",
      "Epoch 61/100\n",
      "17/18 [===========================>..] - ETA: 0s - loss: 0.2877\n",
      "Epoch 00061: saving model to out/checkpoints\\weights.61-0.17.hdf5\n",
      "18/18 [==============================] - 0s 16ms/step - loss: 0.2791 - val_loss: 0.1742\n",
      "Epoch 62/100\n",
      "17/18 [===========================>..] - ETA: 0s - loss: 0.2809\n",
      "Epoch 00062: saving model to out/checkpoints\\weights.62-0.19.hdf5\n",
      "18/18 [==============================] - 0s 28ms/step - loss: 0.2850 - val_loss: 0.1888\n",
      "Epoch 63/100\n",
      "18/18 [==============================] - ETA: 0s - loss: 0.3159\n",
      "Epoch 00063: saving model to out/checkpoints\\weights.63-0.22.hdf5\n",
      "18/18 [==============================] - 0s 16ms/step - loss: 0.3159 - val_loss: 0.2221\n",
      "Epoch 64/100\n",
      "17/18 [===========================>..] - ETA: 0s - loss: 0.3453\n",
      "Epoch 00064: saving model to out/checkpoints\\weights.64-0.22.hdf5\n",
      "18/18 [==============================] - 0s 16ms/step - loss: 0.3409 - val_loss: 0.2230\n",
      "Epoch 65/100\n",
      "17/18 [===========================>..] - ETA: 0s - loss: 0.3998\n",
      "Epoch 00065: saving model to out/checkpoints\\weights.65-0.27.hdf5\n",
      "18/18 [==============================] - 0s 17ms/step - loss: 0.3835 - val_loss: 0.2662\n",
      "Epoch 66/100\n",
      "17/18 [===========================>..] - ETA: 0s - loss: 0.3903\n",
      "Epoch 00066: saving model to out/checkpoints\\weights.66-0.27.hdf5\n",
      "18/18 [==============================] - 0s 28ms/step - loss: 0.3959 - val_loss: 0.2697\n",
      "Epoch 67/100\n",
      "17/18 [===========================>..] - ETA: 0s - loss: 0.4497\n",
      "Epoch 00067: saving model to out/checkpoints\\weights.67-0.65.hdf5\n",
      "18/18 [==============================] - 0s 17ms/step - loss: 0.4752 - val_loss: 0.6529\n",
      "Epoch 68/100\n",
      "17/18 [===========================>..] - ETA: 0s - loss: 0.5053\n",
      "Epoch 00068: saving model to out/checkpoints\\weights.68-0.42.hdf5\n",
      "18/18 [==============================] - 0s 17ms/step - loss: 0.5125 - val_loss: 0.4171\n",
      "Epoch 69/100\n",
      "17/18 [===========================>..] - ETA: 0s - loss: 0.5219\n",
      "Epoch 00069: saving model to out/checkpoints\\weights.69-0.36.hdf5\n",
      "18/18 [==============================] - 0s 17ms/step - loss: 0.5507 - val_loss: 0.3569\n",
      "Epoch 70/100\n",
      "17/18 [===========================>..] - ETA: 0s - loss: 0.4024\n",
      "Epoch 00070: saving model to out/checkpoints\\weights.70-0.35.hdf5\n",
      "18/18 [==============================] - 0s 27ms/step - loss: 0.3908 - val_loss: 0.3461\n",
      "Epoch 71/100\n",
      "14/18 [======================>.......] - ETA: 0s - loss: 0.4212\n",
      "Epoch 00071: saving model to out/checkpoints\\weights.71-0.31.hdf5\n",
      "18/18 [==============================] - 0s 16ms/step - loss: 0.3845 - val_loss: 0.3055\n",
      "Epoch 72/100\n"
     ]
    },
    {
     "name": "stdout",
     "output_type": "stream",
     "text": [
      "17/18 [===========================>..] - ETA: 0s - loss: 0.3328\n",
      "Epoch 00072: saving model to out/checkpoints\\weights.72-0.28.hdf5\n",
      "18/18 [==============================] - 0s 17ms/step - loss: 0.3257 - val_loss: 0.2763\n",
      "Epoch 73/100\n",
      "18/18 [==============================] - ETA: 0s - loss: 0.4511\n",
      "Epoch 00073: saving model to out/checkpoints\\weights.73-0.66.hdf5\n",
      "18/18 [==============================] - 0s 16ms/step - loss: 0.4511 - val_loss: 0.6603\n",
      "Epoch 74/100\n",
      "18/18 [==============================] - ETA: 0s - loss: 0.4629\n",
      "Epoch 00074: saving model to out/checkpoints\\weights.74-0.25.hdf5\n",
      "18/18 [==============================] - 0s 28ms/step - loss: 0.4629 - val_loss: 0.2473\n",
      "Epoch 75/100\n",
      "17/18 [===========================>..] - ETA: 0s - loss: 0.3207\n",
      "Epoch 00075: saving model to out/checkpoints\\weights.75-0.30.hdf5\n",
      "18/18 [==============================] - 0s 16ms/step - loss: 0.3394 - val_loss: 0.3011\n",
      "Epoch 76/100\n",
      "14/18 [======================>.......] - ETA: 0s - loss: 0.3349\n",
      "Epoch 00076: saving model to out/checkpoints\\weights.76-0.21.hdf5\n",
      "18/18 [==============================] - 0s 16ms/step - loss: 0.3119 - val_loss: 0.2080\n",
      "Epoch 77/100\n",
      "14/18 [======================>.......] - ETA: 0s - loss: 0.3974\n",
      "Epoch 00077: saving model to out/checkpoints\\weights.77-0.27.hdf5\n",
      "18/18 [==============================] - 0s 16ms/step - loss: 0.3924 - val_loss: 0.2654\n",
      "Epoch 78/100\n",
      "18/18 [==============================] - ETA: 0s - loss: 0.2820\n",
      "Epoch 00078: saving model to out/checkpoints\\weights.78-0.17.hdf5\n",
      "18/18 [==============================] - 0s 25ms/step - loss: 0.2820 - val_loss: 0.1694\n",
      "Epoch 79/100\n",
      "18/18 [==============================] - ETA: 0s - loss: 0.2811\n",
      "Epoch 00079: saving model to out/checkpoints\\weights.79-0.29.hdf5\n",
      "18/18 [==============================] - 0s 16ms/step - loss: 0.2811 - val_loss: 0.2903\n",
      "Epoch 80/100\n",
      "17/18 [===========================>..] - ETA: 0s - loss: 0.3713\n",
      "Epoch 00080: saving model to out/checkpoints\\weights.80-0.28.hdf5\n",
      "18/18 [==============================] - 0s 21ms/step - loss: 0.3583 - val_loss: 0.2840\n",
      "Epoch 81/100\n",
      "15/18 [========================>.....] - ETA: 0s - loss: 0.2893\n",
      "Epoch 00081: saving model to out/checkpoints\\weights.81-0.24.hdf5\n",
      "18/18 [==============================] - 0s 16ms/step - loss: 0.3236 - val_loss: 0.2390\n",
      "Epoch 82/100\n",
      "14/18 [======================>.......] - ETA: 0s - loss: 0.3002\n",
      "Epoch 00082: saving model to out/checkpoints\\weights.82-0.27.hdf5\n",
      "18/18 [==============================] - 1s 29ms/step - loss: 0.2835 - val_loss: 0.2663\n",
      "Epoch 83/100\n",
      "18/18 [==============================] - ETA: 0s - loss: 0.4103\n",
      "Epoch 00083: saving model to out/checkpoints\\weights.83-0.25.hdf5\n",
      "18/18 [==============================] - 0s 16ms/step - loss: 0.4103 - val_loss: 0.2516\n",
      "Epoch 84/100\n",
      "15/18 [========================>.....] - ETA: 0s - loss: 0.3455\n",
      "Epoch 00084: saving model to out/checkpoints\\weights.84-0.36.hdf5\n",
      "18/18 [==============================] - 0s 16ms/step - loss: 0.3489 - val_loss: 0.3617\n",
      "Epoch 85/100\n",
      "14/18 [======================>.......] - ETA: 0s - loss: 0.3260\n",
      "Epoch 00085: saving model to out/checkpoints\\weights.85-0.27.hdf5\n",
      "18/18 [==============================] - 0s 16ms/step - loss: 0.2958 - val_loss: 0.2731\n",
      "Epoch 86/100\n",
      "17/18 [===========================>..] - ETA: 0s - loss: 0.3214\n",
      "Epoch 00086: saving model to out/checkpoints\\weights.86-0.20.hdf5\n",
      "18/18 [==============================] - 0s 26ms/step - loss: 0.3230 - val_loss: 0.2022\n",
      "Epoch 87/100\n",
      "18/18 [==============================] - ETA: 0s - loss: 0.3513\n",
      "Epoch 00087: saving model to out/checkpoints\\weights.87-0.28.hdf5\n",
      "18/18 [==============================] - 0s 17ms/step - loss: 0.3513 - val_loss: 0.2783\n",
      "Epoch 88/100\n",
      "18/18 [==============================] - ETA: 0s - loss: 0.3523\n",
      "Epoch 00088: saving model to out/checkpoints\\weights.88-0.24.hdf5\n",
      "18/18 [==============================] - 0s 16ms/step - loss: 0.3523 - val_loss: 0.2362\n",
      "Epoch 89/100\n",
      "17/18 [===========================>..] - ETA: 0s - loss: 0.2847\n",
      "Epoch 00089: saving model to out/checkpoints\\weights.89-0.19.hdf5\n",
      "18/18 [==============================] - 0s 16ms/step - loss: 0.2860 - val_loss: 0.1913\n",
      "Epoch 90/100\n",
      "18/18 [==============================] - ETA: 0s - loss: 0.3204\n",
      "Epoch 00090: saving model to out/checkpoints\\weights.90-0.20.hdf5\n",
      "18/18 [==============================] - 0s 24ms/step - loss: 0.3204 - val_loss: 0.2010\n",
      "Epoch 91/100\n",
      "15/18 [========================>.....] - ETA: 0s - loss: 0.2830\n",
      "Epoch 00091: saving model to out/checkpoints\\weights.91-0.19.hdf5\n",
      "18/18 [==============================] - 0s 16ms/step - loss: 0.2635 - val_loss: 0.1856\n",
      "Epoch 92/100\n",
      "18/18 [==============================] - ETA: 0s - loss: 0.2594\n",
      "Epoch 00092: saving model to out/checkpoints\\weights.92-0.25.hdf5\n",
      "18/18 [==============================] - 0s 16ms/step - loss: 0.2594 - val_loss: 0.2488\n",
      "Epoch 93/100\n",
      "18/18 [==============================] - ETA: 0s - loss: 0.2544\n",
      "Epoch 00093: saving model to out/checkpoints\\weights.93-0.18.hdf5\n",
      "18/18 [==============================] - 0s 16ms/step - loss: 0.2544 - val_loss: 0.1784\n",
      "Epoch 94/100\n",
      "18/18 [==============================] - ETA: 0s - loss: 0.2868\n",
      "Epoch 00094: saving model to out/checkpoints\\weights.94-0.27.hdf5\n",
      "18/18 [==============================] - 0s 27ms/step - loss: 0.2868 - val_loss: 0.2674\n",
      "Epoch 95/100\n",
      "18/18 [==============================] - ETA: 0s - loss: 0.3880\n",
      "Epoch 00095: saving model to out/checkpoints\\weights.95-0.21.hdf5\n",
      "18/18 [==============================] - 0s 16ms/step - loss: 0.3880 - val_loss: 0.2083\n",
      "Epoch 96/100\n",
      "18/18 [==============================] - ETA: 0s - loss: 0.2590\n",
      "Epoch 00096: saving model to out/checkpoints\\weights.96-0.15.hdf5\n",
      "18/18 [==============================] - 0s 16ms/step - loss: 0.2590 - val_loss: 0.1463\n",
      "Epoch 97/100\n",
      "14/18 [======================>.......] - ETA: 0s - loss: 0.2865\n",
      "Epoch 00097: saving model to out/checkpoints\\weights.97-0.28.hdf5\n",
      "18/18 [==============================] - 0s 18ms/step - loss: 0.2607 - val_loss: 0.2841\n",
      "Epoch 98/100\n",
      "15/18 [========================>.....] - ETA: 0s - loss: 0.2125\n",
      "Epoch 00098: saving model to out/checkpoints\\weights.98-0.16.hdf5\n",
      "18/18 [==============================] - 0s 28ms/step - loss: 0.2324 - val_loss: 0.1580\n",
      "Epoch 99/100\n",
      "16/18 [=========================>....] - ETA: 0s - loss: 0.2750\n",
      "Epoch 00099: saving model to out/checkpoints\\weights.99-0.18.hdf5\n",
      "18/18 [==============================] - 0s 15ms/step - loss: 0.2657 - val_loss: 0.1789\n",
      "Epoch 100/100\n",
      "17/18 [===========================>..] - ETA: 0s - loss: 0.2406\n",
      "Epoch 00100: saving model to out/checkpoints\\weights.100-0.16.hdf5\n",
      "18/18 [==============================] - 0s 16ms/step - loss: 0.2357 - val_loss: 0.1571\n"
     ]
    }
   ],
   "source": [
    "from keras.models import Sequential\n",
    "from keras.layers import Input, Dense, Dropout, BatchNormalization\n",
    "from keras.wrappers.scikit_learn import KerasRegressor\n",
    "\n",
    "# モデルを実行する\n",
    "estimator = KerasRegressor(build_fn=relu_reg_model, epochs=100, batch_size=5, verbose=1)\n",
    "\n",
    "history = estimator.fit(x_train, y_train, callbacks=[cb_cp, cb_tf], validation_data=(x_test, y_test))"
   ]
  },
  {
   "cell_type": "code",
   "execution_count": 69,
   "metadata": {},
   "outputs": [
    {
     "name": "stdout",
     "output_type": "stream",
     "text": [
      "18/18 [==============================] - 0s 2ms/step\n"
     ]
    }
   ],
   "source": [
    "# 予測する\n",
    "y_pred = estimator.predict(x_train)"
   ]
  },
  {
   "cell_type": "code",
   "execution_count": 70,
   "metadata": {},
   "outputs": [
    {
     "data": {
      "text/plain": [
       "[<matplotlib.lines.Line2D at 0x290c1de4c10>]"
      ]
     },
     "execution_count": 70,
     "metadata": {},
     "output_type": "execute_result"
    },
    {
     "data": {
      "image/png": "[encoded data removed]",
      "text/plain": [
       "<Figure size 432x288 with 1 Axes>"
      ]
     },
     "metadata": {
      "needs_background": "light"
     },
     "output_type": "display_data"
    }
   ],
   "source": [
    "plt.title('NonLiner Regressions via DL by ReLU')\n",
    "plt.plot(data, target, 'o')\n",
    "plt.plot(data, true_func(data), '.')\n",
    "plt.plot(x_train, y_pred, \"o\", label='predicted: deep learning')\n",
    "#plt.legend(loc=2)"
   ]
  },
  {
   "cell_type": "code",
   "execution_count": 72,
   "metadata": {},
   "outputs": [
    {
     "name": "stdout",
     "output_type": "stream",
     "text": [
      "[-0. -0. -0. -0. -0. -0. -0. -0. -0. -0. -0. -0. -0. -0. -0. -0. -0. -0.\n",
      " -0. -0. -0. -0. -0. -0. -0. -0. -0. -0. -0. -0. -0. -0. -0. -0. -0. -0.\n",
      " -0. -0. -0.  0.  0.  0.  0.  0.  0.  0.  0.  0.  0.  0.  0.  0.  0.  0.\n",
      "  0.  0.  0.  0.  0.  0.  0.  0.  0.  0.  0.  0.  0.  0.  0.  0.  0.  0.\n",
      "  0.  0.  0.  0.  0.  0.  0.  0.  0.  0.  0.  0.  0.  0.  0.  0.  0.  0.\n",
      "  0.  0.  0.  0.  0.  0.  0.  0.  0.  0.]\n"
     ]
    }
   ],
   "source": [
    "print(lasso_clf.coef_)"
   ]
  },
  {
   "cell_type": "code",
   "execution_count": null,
   "metadata": {},
   "outputs": [],
   "source": []
  },
  {
   "cell_type": "code",
   "execution_count": null,
   "metadata": {},
   "outputs": [],
   "source": []
  }
 ],
 "metadata": {
  "kernelspec": {
   "display_name": "Python 3 (ipykernel)",
   "language": "python",
   "name": "python3"
  },
  "language_info": {
   "codemirror_mode": {
    "name": "ipython",
    "version": 3
   },
   "file_extension": ".py",
   "mimetype": "text/x-python",
   "name": "python",
   "nbconvert_exporter": "python",
   "pygments_lexer": "ipython3",
   "version": "3.9.7"
  }
 },
 "nbformat": 4,
 "nbformat_minor": 2
}
