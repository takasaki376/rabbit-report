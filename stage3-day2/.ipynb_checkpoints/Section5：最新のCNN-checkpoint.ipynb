{
 "cells": [
  {
   "cell_type": "markdown",
   "id": "f435ae0a",
   "metadata": {},
   "source": [
    "# Section5：最新のCNN"
   ]
  },
  {
   "cell_type": "markdown",
   "id": "b92786be",
   "metadata": {},
   "source": [
    "## AlexNetのモデルの説明\n",
    "\n",
    "過学習を防ぐ施策\n",
    "- サイズ4096の全結合層の出力にドロップアウトを使用しているS5) -199"
   ]
  },
  {
   "cell_type": "code",
   "execution_count": null,
   "id": "497fac22",
   "metadata": {},
   "outputs": [],
   "source": []
  }
 ],
 "metadata": {
  "kernelspec": {
   "display_name": "Python 3 (ipykernel)",
   "language": "python",
   "name": "python3"
  },
  "language_info": {
   "codemirror_mode": {
    "name": "ipython",
    "version": 3
   },
   "file_extension": ".py",
   "mimetype": "text/x-python",
   "name": "python",
   "nbconvert_exporter": "python",
   "pygments_lexer": "ipython3",
   "version": "3.9.7"
  }
 },
 "nbformat": 4,
 "nbformat_minor": 5
}
