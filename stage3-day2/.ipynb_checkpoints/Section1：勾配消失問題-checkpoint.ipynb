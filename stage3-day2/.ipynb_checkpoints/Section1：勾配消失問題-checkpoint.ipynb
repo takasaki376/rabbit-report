{
 "cells": [
  {
   "cell_type": "markdown",
   "id": "259202df",
   "metadata": {},
   "source": [
    "# Section1：勾配消失問題"
   ]
  },
  {
   "cell_type": "markdown",
   "id": "c3e79deb",
   "metadata": {},
   "source": [
    "誤差逆伝播法が下位層に進んでいくに連れて、勾配がどんどん緩やかになっていく。そのため、勾配降下法による、更新では下位層のパラメータはほとんど変わらず、訓練は最適値に収束しなくなる。"
   ]
  },
  {
   "cell_type": "markdown",
   "id": "d514444f",
   "metadata": {},
   "source": [
    "### 活性化関数: シグモイド関数\n",
    "- 0～1の間を緩やかに変化する関数で、ステップ関数ではON/OFFしかない状態に対し、信号の強弱を伝えられるようになり、予想ニューラルネットワーク普及のきっかけとなった。\n",
    "\n",
    "#### 課題\n",
    "- 大きな値では出力の変化が微小なため、勾配消失問題を引き起こす事があった。"
   ]
  },
  {
   "cell_type": "markdown",
   "id": "1f5a98b6",
   "metadata": {},
   "source": [
    "## 勾配消失問題のビジョン"
   ]
  },
  {
   "cell_type": "markdown",
   "id": "d3ddbf4c",
   "metadata": {},
   "source": [
    "## 勾配消失の解決方\n",
    "- 活性化関数の選択\n",
    "- 重みの初期値設定\n",
    "- バッチ正規化"
   ]
  },
  {
   "cell_type": "markdown",
   "id": "6dbc82ba",
   "metadata": {},
   "source": [
    "### 活性化関数の選択\n",
    "\n",
    "#### 活性化関数: RELU関数\n",
    "- 今最も使われている活性化関数勾配消失問題の回避とスパース化に貢献することで良い成果をもたらしている。"
   ]
  },
  {
   "cell_type": "markdown",
   "id": "8e64c52d",
   "metadata": {},
   "source": [
    "### 重みの初期値設定 Xavier\n",
    "#### Xavierの初期値を設定する際の活性化関数\n",
    "- ReLU関数\n",
    "- シグモイド関数\n",
    "- 双曲線正接関数\n",
    "\n",
    "#### 設定方法\n",
    "- 重みの要素を、前の層のノード数の平方根で除算した値"
   ]
  },
  {
   "cell_type": "markdown",
   "id": "b3c52b01",
   "metadata": {},
   "source": [
    "#### ゼロから作るディープラーニング　6.2.2　隠れ層のアクティベーション分布\n",
    "\n",
    "■■■■■"
   ]
  },
  {
   "cell_type": "code",
   "execution_count": null,
   "id": "e2c2e9f5",
   "metadata": {},
   "outputs": [],
   "source": []
  },
  {
   "cell_type": "code",
   "execution_count": null,
   "id": "a5c305ca",
   "metadata": {},
   "outputs": [],
   "source": []
  },
  {
   "cell_type": "code",
   "execution_count": null,
   "id": "7e78b471",
   "metadata": {},
   "outputs": [],
   "source": []
  },
  {
   "cell_type": "markdown",
   "id": "1e819522",
   "metadata": {},
   "source": [
    "## 重みの初期値設定 He\n",
    "#### Heの初期値を設定する際の活性化関数\n",
    "- ReLU関数\n",
    "\n",
    "#### 設定方法\n",
    "- 重みの要素を、前の層のノード数の平方根で除算した値に対し√２をかけ合わせた値"
   ]
  },
  {
   "cell_type": "markdown",
   "id": "578941dd",
   "metadata": {},
   "source": [
    "#### ゼロから作るディープラーニング　6.2.3　ReLUの場合の重みの初期値\n",
    "\n",
    "■■■■■"
   ]
  },
  {
   "cell_type": "code",
   "execution_count": null,
   "id": "9733177b",
   "metadata": {},
   "outputs": [],
   "source": []
  },
  {
   "cell_type": "markdown",
   "id": "d01c8a41",
   "metadata": {},
   "source": [
    "### バッチ正規化\n",
    "\n",
    "- バッチ正規化とは︖\n",
    " - ミニバッチ単位で、入力値のデータの偏りを抑制する手法\n",
    "\n",
    "- バッチ正規化の使い所とは︖\n",
    " - 活性化関数に値を渡す前後に、バッチ正規化の処理を孕んだ層を加える"
   ]
  },
  {
   "cell_type": "markdown",
   "id": "e85817c1",
   "metadata": {},
   "source": [
    "#### ゼロから作るディープラーニング　6.3　Batch Normalization\n",
    "\n",
    "■■■■■"
   ]
  },
  {
   "cell_type": "code",
   "execution_count": null,
   "id": "0f511c39",
   "metadata": {},
   "outputs": [],
   "source": []
  },
  {
   "cell_type": "code",
   "execution_count": null,
   "id": "83db08e7",
   "metadata": {},
   "outputs": [],
   "source": []
  },
  {
   "cell_type": "markdown",
   "id": "9b762c74",
   "metadata": {},
   "source": [
    "# 確認テスト"
   ]
  },
  {
   "cell_type": "markdown",
   "id": "1a452055",
   "metadata": {},
   "source": [
    "#### P10"
   ]
  },
  {
   "cell_type": "markdown",
   "id": "42bb0fea",
   "metadata": {},
   "source": [
    "問） \\\n",
    "連鎖律の原理を使い、dz/dxを求めよ。 \\\n",
    "z = t2 \\\n",
    "t = x +y10 "
   ]
  },
  {
   "cell_type": "markdown",
   "id": "42960ef6",
   "metadata": {},
   "source": [
    "答）\n",
    "\\begin{aligned}\n",
    "\\frac{\\partial z}{\\partial t} &= 2t \\\\[6px]\n",
    "\\frac{\\partial t}{\\partial x} &= 1 \\\\[6px]\n",
    "\\frac{\\partial z}{\\partial t} \\frac{\\partial t}{\\partial x} &= 2t \\times 1 \\\\[6px]\n",
    "&= 2t\n",
    "\\end{aligned}"
   ]
  },
  {
   "cell_type": "markdown",
   "id": "ca9fb750",
   "metadata": {},
   "source": [
    "#### P18"
   ]
  },
  {
   "cell_type": "markdown",
   "id": "d37cc42d",
   "metadata": {},
   "source": [
    "問）\n",
    "シグモイド関数を微分した時、入力値が0の時に最大値をとる。その値として正しいものを選択肢から選べ。 \\\n",
    "（1）0.15 \\\n",
    "（2）0.25 \\\n",
    "（3）0.35 \\\n",
    "（4）0.45"
   ]
  },
  {
   "cell_type": "markdown",
   "id": "349952b9",
   "metadata": {},
   "source": [
    "答）（2）0.25"
   ]
  },
  {
   "cell_type": "markdown",
   "id": "ba1ac9d5",
   "metadata": {},
   "source": [
    "シグモイド関数\n",
    "\\begin{aligned}\n",
    "y = \\frac{1}{1 \\; + \\; e^{-x}}\n",
    "\\end{aligned}\n",
    "\n",
    "微分しやすいように式を変換する。\n",
    "\\begin{aligned}\n",
    "u &= 1 \\; + \\; e^{-x}  \\\\[6px]\n",
    "y &= u^{-1}\n",
    "\\end{aligned}\n",
    "\n",
    "微分する\n",
    "\\begin{aligned}\n",
    "\\frac{\\partial u}{\\partial x} &=  e^{-x}  \\\\[6px]\n",
    "\\frac{\\partial y}{\\partial u} &= -u^{-2}\n",
    "\\end{aligned}\n",
    "\n",
    "連鎖律\n",
    "\\begin{aligned}\n",
    "\\frac{\\partial y}{\\partial x} &= \\frac{\\partial y}{\\partial u} \\cdot \\frac{\\partial u}{\\partial x} \\\\[8px]\n",
    "&= (-u^{-2}) (-e^{-x})  \\\\[6px]\n",
    "&= \\frac{e^{-x}}{(1 \\; + \\; e^{-x})^2} \\\\[6px]\n",
    "&=   \\frac{ e^{-x}}{1 \\; + \\; e^{-x}} \\cdot \\frac{1}{1 \\; + \\; e^{-x}} \n",
    "\\end{aligned}\n",
    "\n",
    "右辺の左側を変形する。\n",
    "\\begin{aligned}\n",
    "\\frac{\\partial y}{\\partial x} &= \\left( \\frac{1 \\; + \\; e^{-x}}{1 \\; + \\; e^{-x}} - \\frac{1}{1 \\; + \\; e^{-x}} \\right) \\frac{1}{1 \\; + \\; e^{-x}} \\\\[6px]\n",
    "&= (1 - y) \\cdot y\n",
    "\\end{aligned}"
   ]
  },
  {
   "cell_type": "code",
   "execution_count": 26,
   "id": "e0d9151b",
   "metadata": {},
   "outputs": [
    {
     "name": "stdout",
     "output_type": "stream",
     "text": [
      "0.5\n"
     ]
    }
   ],
   "source": [
    "import numpy as np\n",
    "\n",
    "def sigmoid(x):\n",
    "    return 1 / (1 + np.exp(-x))\n",
    "\n",
    "# シグモイド関数に０を渡した結果\n",
    "y = sigmoid(0)\n",
    "print(y)"
   ]
  },
  {
   "cell_type": "code",
   "execution_count": 23,
   "id": "ab792cfc",
   "metadata": {},
   "outputs": [
    {
     "name": "stdout",
     "output_type": "stream",
     "text": [
      "0.25\n"
     ]
    }
   ],
   "source": [
    "# シグモイド関数の導関数を実行する\n",
    "print((1 - y) * y)"
   ]
  },
  {
   "cell_type": "markdown",
   "id": "16a15bc2",
   "metadata": {},
   "source": [
    "#### P26"
   ]
  },
  {
   "cell_type": "markdown",
   "id": "fffe895c",
   "metadata": {},
   "source": [
    "問）\n",
    "重みの初期値に0を設定すると、どのような問題が発生するか。簡潔に説明せよ。"
   ]
  },
  {
   "cell_type": "markdown",
   "id": "f4c03ee8",
   "metadata": {},
   "source": [
    "答） \\\n",
    "■■■■■"
   ]
  },
  {
   "cell_type": "code",
   "execution_count": null,
   "id": "d0fddb79",
   "metadata": {},
   "outputs": [],
   "source": []
  },
  {
   "cell_type": "markdown",
   "id": "28c49bb6",
   "metadata": {},
   "source": [
    "#### P29"
   ]
  },
  {
   "cell_type": "markdown",
   "id": "00303ac7",
   "metadata": {},
   "source": [
    "問）一般的に考えられるバッチ正規化の効果を2点挙げよ。"
   ]
  },
  {
   "cell_type": "markdown",
   "id": "6936ec0f",
   "metadata": {},
   "source": [
    "答） \\\n",
    "■■■■■"
   ]
  },
  {
   "cell_type": "code",
   "execution_count": null,
   "id": "77e6c926",
   "metadata": {},
   "outputs": [],
   "source": []
  }
 ],
 "metadata": {
  "kernelspec": {
   "display_name": "Python 3 (ipykernel)",
   "language": "python",
   "name": "python3"
  },
  "language_info": {
   "codemirror_mode": {
    "name": "ipython",
    "version": 3
   },
   "file_extension": ".py",
   "mimetype": "text/x-python",
   "name": "python",
   "nbconvert_exporter": "python",
   "pygments_lexer": "ipython3",
   "version": "3.9.7"
  }
 },
 "nbformat": 4,
 "nbformat_minor": 5
}
