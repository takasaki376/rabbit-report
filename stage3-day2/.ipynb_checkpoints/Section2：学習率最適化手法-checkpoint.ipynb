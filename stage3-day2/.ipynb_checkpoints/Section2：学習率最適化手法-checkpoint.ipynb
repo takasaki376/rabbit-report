{
 "cells": [
  {
   "cell_type": "markdown",
   "id": "b4e65300",
   "metadata": {},
   "source": [
    "# Section2：学習率最適化手法"
   ]
  },
  {
   "cell_type": "code",
   "execution_count": null,
   "id": "554fed71",
   "metadata": {},
   "outputs": [],
   "source": []
  }
 ],
 "metadata": {
  "kernelspec": {
   "display_name": "Python 3 (ipykernel)",
   "language": "python",
   "name": "python3"
  },
  "language_info": {
   "codemirror_mode": {
    "name": "ipython",
    "version": 3
   },
   "file_extension": ".py",
   "mimetype": "text/x-python",
   "name": "python",
   "nbconvert_exporter": "python",
   "pygments_lexer": "ipython3",
   "version": "3.9.7"
  }
 },
 "nbformat": 4,
 "nbformat_minor": 5
}
