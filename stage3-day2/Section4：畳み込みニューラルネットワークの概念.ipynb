{
 "cells": [
  {
   "cell_type": "markdown",
   "id": "91f1f1f4",
   "metadata": {},
   "source": [
    "# Section4：畳み込みニューラルネットワークの概念"
   ]
  },
  {
   "cell_type": "markdown",
   "id": "78e17f38",
   "metadata": {},
   "source": [
    "## 4-1 畳み込み層"
   ]
  },
  {
   "cell_type": "markdown",
   "id": "670d765d",
   "metadata": {},
   "source": [
    "### 4-1-1 バイアス\n",
    "畳み込み層では、画像の場合、縦、横、チャンネルの3次元のデータをそのまま学習し、次に伝えることができる。\n",
    "\n",
    "結論:3次元の空間情報も学習できるような層が畳み込み層である。"
   ]
  },
  {
   "cell_type": "markdown",
   "id": "b5955fd0",
   "metadata": {},
   "source": [
    "### 4-1-2 パディング"
   ]
  },
  {
   "cell_type": "markdown",
   "id": "a6a69073",
   "metadata": {},
   "source": [
    "### 4-1-3 ストライド"
   ]
  },
  {
   "cell_type": "markdown",
   "id": "401d68c5",
   "metadata": {},
   "source": [
    "### 4-1-4 チャンネル"
   ]
  },
  {
   "cell_type": "markdown",
   "id": "05d4f5e3",
   "metadata": {},
   "source": [
    "## 4-2 プーリング層"
   ]
  },
  {
   "cell_type": "code",
   "execution_count": null,
   "id": "ee67d645",
   "metadata": {},
   "outputs": [],
   "source": []
  }
 ],
 "metadata": {
  "kernelspec": {
   "display_name": "Python 3 (ipykernel)",
   "language": "python",
   "name": "python3"
  },
  "language_info": {
   "codemirror_mode": {
    "name": "ipython",
    "version": 3
   },
   "file_extension": ".py",
   "mimetype": "text/x-python",
   "name": "python",
   "nbconvert_exporter": "python",
   "pygments_lexer": "ipython3",
   "version": "3.9.7"
  }
 },
 "nbformat": 4,
 "nbformat_minor": 5
}
