{
 "cells": [
  {
   "cell_type": "markdown",
   "id": "b4e65300",
   "metadata": {},
   "source": [
    "# Section2：学習率最適化手法"
   ]
  },
  {
   "cell_type": "markdown",
   "id": "4ec6a6b6",
   "metadata": {},
   "source": [
    "## 学習率最適化手法"
   ]
  },
  {
   "cell_type": "markdown",
   "id": "0ea442fd",
   "metadata": {},
   "source": [
    "### モメンタム\n",
    "- 誤差をパラメータで微分したものと学習率の積を減算した後、現在の重みに前回の重みを減算した値と慣性の積を加算する\n",
    "\n",
    "#### メリット\n",
    "- 局所的最適解にはならず、大域的最適解となる。\n",
    "- 谷間についてから最も低い位置(最適値)にいくまでの時間が早い。"
   ]
  },
  {
   "cell_type": "markdown",
   "id": "9151b4c6",
   "metadata": {},
   "source": [
    "### AdaGrad\n",
    "誤差をパラメータで微分したものと再定義した学習率の積を減算する\n",
    "\n",
    "#### メリット\n",
    "- 勾配の緩やかな斜面に対して、最適値に近づける\n",
    "\n",
    "#### 課題\n",
    "学習率が徐々に小さくなるので、鞍点問題を引き起こす事があった。"
   ]
  },
  {
   "cell_type": "markdown",
   "id": "cee61744",
   "metadata": {},
   "source": [
    "### RMSProp\n",
    "誤差をパラメータで微分したものと再定義した学習率の積を減算する\n",
    "\n",
    "#### メリット\n",
    "- 局所的最適解にはならず、大域的最適解となる。\n",
    "- ハイパーパラメータの調整が必要な場合が少ない"
   ]
  },
  {
   "cell_type": "markdown",
   "id": "4caea554",
   "metadata": {},
   "source": [
    "### Adam\n",
    "- モメンタムの、過去の勾配の指数関数的減衰平均\n",
    "- RMSPropの、過去の勾配の2乗の指数関数的減衰平均\n",
    "上記をそれぞれ孕んだ最適化アルゴリズムである。\n",
    "\n",
    "#### メリット\n",
    "- モメンタムおよびRMSPropのメリットを孕んだアルゴリズムである。"
   ]
  },
  {
   "cell_type": "code",
   "execution_count": null,
   "id": "1228003c",
   "metadata": {},
   "outputs": [],
   "source": []
  },
  {
   "cell_type": "code",
   "execution_count": null,
   "id": "4305cab3",
   "metadata": {},
   "outputs": [],
   "source": []
  },
  {
   "cell_type": "markdown",
   "id": "b2fd3618",
   "metadata": {},
   "source": [
    "#### ゼロから作るディープラーニング　6.1.4 Momentum\n",
    "\n",
    "■■■■■"
   ]
  },
  {
   "cell_type": "code",
   "execution_count": null,
   "id": "ee186a37",
   "metadata": {},
   "outputs": [],
   "source": []
  },
  {
   "cell_type": "markdown",
   "id": "50bf48a4",
   "metadata": {},
   "source": [
    "#### ゼロから作るディープラーニング　6.1.5 AdaGrad\n",
    "\n",
    "■■■■■"
   ]
  },
  {
   "cell_type": "code",
   "execution_count": null,
   "id": "2d9681e2",
   "metadata": {},
   "outputs": [],
   "source": []
  },
  {
   "cell_type": "markdown",
   "id": "00dae9bb",
   "metadata": {},
   "source": [
    "#### ゼロから作るディープラーニング　6.1.6 Adam\n",
    "\n",
    "■■■■■"
   ]
  },
  {
   "cell_type": "code",
   "execution_count": null,
   "id": "2efd9541",
   "metadata": {},
   "outputs": [],
   "source": []
  },
  {
   "cell_type": "code",
   "execution_count": null,
   "id": "dcba9140",
   "metadata": {},
   "outputs": [],
   "source": []
  },
  {
   "cell_type": "code",
   "execution_count": null,
   "id": "450b0b88",
   "metadata": {},
   "outputs": [],
   "source": []
  },
  {
   "cell_type": "markdown",
   "id": "e5d5a912",
   "metadata": {},
   "source": [
    "# 確認テスト"
   ]
  },
  {
   "cell_type": "markdown",
   "id": "c0188707",
   "metadata": {},
   "source": [
    "#### P44"
   ]
  },
  {
   "cell_type": "markdown",
   "id": "4366ad73",
   "metadata": {},
   "source": [
    "問）モメンタム・AdaGrad・RMSPropの特徴をそれぞれ簡潔に説明せよ。"
   ]
  },
  {
   "cell_type": "code",
   "execution_count": null,
   "id": "c3a50959",
   "metadata": {},
   "outputs": [],
   "source": []
  }
 ],
 "metadata": {
  "kernelspec": {
   "display_name": "Python 3 (ipykernel)",
   "language": "python",
   "name": "python3"
  },
  "language_info": {
   "codemirror_mode": {
    "name": "ipython",
    "version": 3
   },
   "file_extension": ".py",
   "mimetype": "text/x-python",
   "name": "python",
   "nbconvert_exporter": "python",
   "pygments_lexer": "ipython3",
   "version": "3.9.7"
  }
 },
 "nbformat": 4,
 "nbformat_minor": 5
}
